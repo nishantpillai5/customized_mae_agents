{
 "cells": [
  {
   "cell_type": "code",
   "execution_count": 1,
   "metadata": {},
   "outputs": [],
   "source": [
    "# OPTIONAL: Load the \"autoreload\" extension so that code can change\n",
    "%load_ext autoreload\n",
    "\n",
    "# OPTIONAL: always reload modules so that as you change code in src, it gets loaded\n",
    "%autoreload 2\n",
    "\n",
    "# from src.data import make_dataset"
   ]
  },
  {
   "cell_type": "code",
   "execution_count": 1,
   "metadata": {},
   "outputs": [
    {
     "name": "stdout",
     "output_type": "stream",
     "text": [
      "Requirement already satisfied: pettingzoo[mpe] in d:\\study documents\\thesis\\env\\lib\\site-packages (1.22.3)\n",
      "Requirement already satisfied: gymnasium>=0.26.0 in d:\\study documents\\thesis\\env\\lib\\site-packages (from pettingzoo[mpe]) (0.27.1)\n",
      "Requirement already satisfied: numpy>=1.18.0 in c:\\users\\rober\\appdata\\roaming\\python\\python38\\site-packages (from pettingzoo[mpe]) (1.22.3)\n",
      "Requirement already satisfied: pygame==2.1.3.dev8 in d:\\study documents\\thesis\\env\\lib\\site-packages (from pettingzoo[mpe]) (2.1.3.dev8)\n",
      "Requirement already satisfied: typing-extensions>=4.3.0 in d:\\study documents\\thesis\\env\\lib\\site-packages (from gymnasium>=0.26.0->pettingzoo[mpe]) (4.5.0)\n",
      "Requirement already satisfied: jax-jumpy>=0.2.0 in d:\\study documents\\thesis\\env\\lib\\site-packages (from gymnasium>=0.26.0->pettingzoo[mpe]) (0.2.0)\n",
      "Requirement already satisfied: cloudpickle>=1.2.0 in d:\\study documents\\thesis\\env\\lib\\site-packages (from gymnasium>=0.26.0->pettingzoo[mpe]) (2.2.1)\n",
      "Requirement already satisfied: importlib-metadata>=4.8.0 in d:\\study documents\\thesis\\env\\lib\\site-packages (from gymnasium>=0.26.0->pettingzoo[mpe]) (6.0.0)\n",
      "Requirement already satisfied: gymnasium-notices>=0.0.1 in d:\\study documents\\thesis\\env\\lib\\site-packages (from gymnasium>=0.26.0->pettingzoo[mpe]) (0.0.1)\n",
      "Requirement already satisfied: zipp>=0.5 in d:\\study documents\\thesis\\env\\lib\\site-packages (from importlib-metadata>=4.8.0->gymnasium>=0.26.0->pettingzoo[mpe]) (3.14.0)\n"
     ]
    }
   ],
   "source": [
    "!pip install pettingzoo[mpe]"
   ]
  },
  {
   "cell_type": "code",
   "execution_count": 1,
   "metadata": {},
   "outputs": [],
   "source": [
    "from pettingzoo.mpe import simple_tag_v2\n",
    "from pettingzoo.test import render_test\n",
    "from pettingzoo.test import performance_benchmark\n",
    "from pettingzoo.test import test_save_obs\n",
    "\n",
    "import time\n",
    "import random"
   ]
  },
  {
   "cell_type": "markdown",
   "metadata": {},
   "source": [
    "# Tests"
   ]
  },
  {
   "cell_type": "code",
   "execution_count": 3,
   "metadata": {},
   "outputs": [],
   "source": [
    "render_test(simple_tag_v2.env)"
   ]
  },
  {
   "cell_type": "code",
   "execution_count": 5,
   "metadata": {},
   "outputs": [
    {
     "name": "stdout",
     "output_type": "stream",
     "text": [
      "Starting performance benchmark\n",
      "396.6624738289256 turns per second\n",
      "99.1656184572314 cycles per second\n",
      "Finished performance benchmark\n"
     ]
    }
   ],
   "source": [
    "performance_benchmark(env)"
   ]
  },
  {
   "cell_type": "code",
   "execution_count": 6,
   "metadata": {},
   "outputs": [
    {
     "name": "stdout",
     "output_type": "stream",
     "text": [
      "did not save the observations:  Observations must be 0 to 255 to save as image\n"
     ]
    }
   ],
   "source": [
    "test_save_obs(env)"
   ]
  },
  {
   "cell_type": "markdown",
   "metadata": {},
   "source": [
    "# Manual Render"
   ]
  },
  {
   "cell_type": "code",
   "execution_count": 6,
   "metadata": {},
   "outputs": [],
   "source": [
    "env = simple_tag_v2.env(render_mode=\"human\")"
   ]
  },
  {
   "cell_type": "code",
   "execution_count": null,
   "metadata": {},
   "outputs": [],
   "source": [
    "def act_selection_to_actinput(selection):\n",
    "    action = [0.]*(5+10)\n",
    "    action[selection] = 1.\n",
    "    return action"
   ]
  },
  {
   "cell_type": "code",
   "execution_count": 21,
   "metadata": {},
   "outputs": [
    {
     "name": "stdout",
     "output_type": "stream",
     "text": [
      "adversary_0\n",
      "2\n",
      "adversary_1\n",
      "2\n",
      "adversary_2\n",
      "2\n",
      "agent_0\n",
      "2\n",
      "adversary_0\n",
      "2\n",
      "adversary_1\n",
      "2\n",
      "adversary_2\n",
      "2\n",
      "agent_0\n",
      "2\n",
      "adversary_0\n",
      "2\n",
      "adversary_1\n",
      "2\n",
      "adversary_2\n",
      "2\n",
      "agent_0\n",
      "2\n",
      "adversary_0\n",
      "2\n",
      "adversary_1\n",
      "2\n",
      "adversary_2\n",
      "2\n",
      "agent_0\n",
      "2\n",
      "adversary_0\n",
      "2\n",
      "adversary_1\n",
      "2\n",
      "adversary_2\n",
      "2\n",
      "agent_0\n",
      "2\n",
      "adversary_0\n",
      "2\n",
      "adversary_1\n",
      "2\n",
      "adversary_2\n",
      "2\n",
      "agent_0\n",
      "2\n",
      "adversary_0\n",
      "2\n",
      "adversary_1\n",
      "2\n",
      "adversary_2\n",
      "2\n",
      "agent_0\n",
      "2\n",
      "adversary_0\n",
      "2\n",
      "adversary_1\n",
      "2\n",
      "adversary_2\n",
      "2\n",
      "agent_0\n",
      "2\n",
      "adversary_0\n",
      "2\n",
      "adversary_1\n",
      "2\n",
      "adversary_2\n",
      "2\n",
      "agent_0\n",
      "2\n",
      "adversary_0\n",
      "2\n",
      "adversary_1\n",
      "2\n",
      "adversary_2\n",
      "2\n",
      "agent_0\n",
      "2\n",
      "adversary_0\n",
      "2\n",
      "adversary_1\n",
      "2\n",
      "adversary_2\n",
      "2\n",
      "agent_0\n",
      "2\n",
      "adversary_0\n",
      "2\n",
      "adversary_1\n",
      "2\n",
      "adversary_2\n",
      "2\n",
      "agent_0\n",
      "2\n",
      "adversary_0\n",
      "2\n",
      "adversary_1\n",
      "2\n",
      "adversary_2\n",
      "2\n",
      "agent_0\n",
      "2\n",
      "adversary_0\n",
      "2\n",
      "adversary_1\n",
      "2\n",
      "adversary_2\n",
      "2\n",
      "agent_0\n",
      "2\n",
      "adversary_0\n",
      "2\n",
      "adversary_1\n",
      "2\n",
      "adversary_2\n",
      "2\n",
      "agent_0\n",
      "2\n",
      "adversary_0\n",
      "2\n",
      "adversary_1\n",
      "2\n",
      "adversary_2\n",
      "2\n",
      "agent_0\n",
      "2\n",
      "adversary_0\n",
      "2\n",
      "adversary_1\n",
      "2\n",
      "adversary_2\n",
      "2\n",
      "agent_0\n",
      "2\n",
      "adversary_0\n",
      "2\n",
      "adversary_1\n",
      "2\n",
      "adversary_2\n",
      "2\n",
      "agent_0\n",
      "2\n",
      "adversary_0\n",
      "2\n",
      "adversary_1\n",
      "2\n",
      "adversary_2\n",
      "2\n",
      "agent_0\n",
      "2\n",
      "adversary_0\n",
      "2\n",
      "adversary_1\n",
      "2\n",
      "adversary_2\n",
      "2\n",
      "agent_0\n",
      "2\n",
      "adversary_0\n",
      "2\n",
      "adversary_1\n",
      "2\n",
      "adversary_2\n",
      "2\n",
      "agent_0\n",
      "2\n",
      "adversary_0\n",
      "2\n",
      "adversary_1\n",
      "2\n",
      "adversary_2\n",
      "2\n",
      "agent_0\n",
      "2\n",
      "adversary_0\n",
      "2\n",
      "adversary_1\n",
      "2\n",
      "adversary_2\n",
      "2\n",
      "agent_0\n",
      "2\n",
      "adversary_0\n",
      "2\n",
      "adversary_1\n",
      "2\n",
      "adversary_2\n",
      "2\n",
      "agent_0\n",
      "2\n",
      "adversary_0\n",
      "2\n",
      "adversary_1\n",
      "2\n",
      "adversary_2\n",
      "2\n",
      "agent_0\n",
      "2\n",
      "adversary_0\n",
      "2\n"
     ]
    },
    {
     "ename": "ValueError",
     "evalue": "when an agent is dead, the only valid action is None",
     "output_type": "error",
     "traceback": [
      "\u001b[1;31m---------------------------------------------------------------------------\u001b[0m",
      "\u001b[1;31mValueError\u001b[0m                                Traceback (most recent call last)",
      "\u001b[1;32m~\\AppData\\Local\\Temp\\ipykernel_18632\\3597593610.py\u001b[0m in \u001b[0;36m<module>\u001b[1;34m\u001b[0m\n\u001b[0;32m     10\u001b[0m         \u001b[0mobs\u001b[0m\u001b[1;33m,\u001b[0m \u001b[0mreward\u001b[0m\u001b[1;33m,\u001b[0m \u001b[0mtermination\u001b[0m\u001b[1;33m,\u001b[0m \u001b[0mtruncation\u001b[0m\u001b[1;33m,\u001b[0m \u001b[0m_\u001b[0m \u001b[1;33m=\u001b[0m \u001b[0menv\u001b[0m\u001b[1;33m.\u001b[0m\u001b[0mlast\u001b[0m\u001b[1;33m(\u001b[0m\u001b[1;33m)\u001b[0m\u001b[1;33m\u001b[0m\u001b[1;33m\u001b[0m\u001b[0m\n\u001b[0;32m     11\u001b[0m         \u001b[0mprint\u001b[0m\u001b[1;33m(\u001b[0m\u001b[0maction\u001b[0m\u001b[1;33m)\u001b[0m\u001b[1;33m\u001b[0m\u001b[1;33m\u001b[0m\u001b[0m\n\u001b[1;32m---> 12\u001b[1;33m         \u001b[0menv\u001b[0m\u001b[1;33m.\u001b[0m\u001b[0mstep\u001b[0m\u001b[1;33m(\u001b[0m\u001b[1;36m3\u001b[0m\u001b[1;33m)\u001b[0m\u001b[1;33m\u001b[0m\u001b[1;33m\u001b[0m\u001b[0m\n\u001b[0m\u001b[0;32m     13\u001b[0m     \u001b[1;31m#score+=reward\u001b[0m\u001b[1;33m\u001b[0m\u001b[1;33m\u001b[0m\u001b[0m\n\u001b[0;32m     14\u001b[0m \u001b[1;32melse\u001b[0m\u001b[1;33m:\u001b[0m\u001b[1;33m\u001b[0m\u001b[1;33m\u001b[0m\u001b[0m\n",
      "\u001b[1;32mD:\\Sviluppo\\anaconda\\lib\\site-packages\\pettingzoo\\utils\\wrappers\\order_enforcing.py\u001b[0m in \u001b[0;36mstep\u001b[1;34m(self, action)\u001b[0m\n\u001b[0;32m     73\u001b[0m         \u001b[1;32melse\u001b[0m\u001b[1;33m:\u001b[0m\u001b[1;33m\u001b[0m\u001b[1;33m\u001b[0m\u001b[0m\n\u001b[0;32m     74\u001b[0m             \u001b[0mself\u001b[0m\u001b[1;33m.\u001b[0m\u001b[0m_has_updated\u001b[0m \u001b[1;33m=\u001b[0m \u001b[1;32mTrue\u001b[0m\u001b[1;33m\u001b[0m\u001b[1;33m\u001b[0m\u001b[0m\n\u001b[1;32m---> 75\u001b[1;33m             \u001b[0msuper\u001b[0m\u001b[1;33m(\u001b[0m\u001b[1;33m)\u001b[0m\u001b[1;33m.\u001b[0m\u001b[0mstep\u001b[0m\u001b[1;33m(\u001b[0m\u001b[0maction\u001b[0m\u001b[1;33m)\u001b[0m\u001b[1;33m\u001b[0m\u001b[1;33m\u001b[0m\u001b[0m\n\u001b[0m\u001b[0;32m     76\u001b[0m \u001b[1;33m\u001b[0m\u001b[0m\n\u001b[0;32m     77\u001b[0m     \u001b[1;32mdef\u001b[0m \u001b[0mobserve\u001b[0m\u001b[1;33m(\u001b[0m\u001b[0mself\u001b[0m\u001b[1;33m,\u001b[0m \u001b[0magent\u001b[0m\u001b[1;33m)\u001b[0m\u001b[1;33m:\u001b[0m\u001b[1;33m\u001b[0m\u001b[1;33m\u001b[0m\u001b[0m\n",
      "\u001b[1;32mD:\\Sviluppo\\anaconda\\lib\\site-packages\\pettingzoo\\utils\\wrappers\\base.py\u001b[0m in \u001b[0;36mstep\u001b[1;34m(self, action)\u001b[0m\n\u001b[0;32m    106\u001b[0m \u001b[1;33m\u001b[0m\u001b[0m\n\u001b[0;32m    107\u001b[0m     \u001b[1;32mdef\u001b[0m \u001b[0mstep\u001b[0m\u001b[1;33m(\u001b[0m\u001b[0mself\u001b[0m\u001b[1;33m,\u001b[0m \u001b[0maction\u001b[0m\u001b[1;33m)\u001b[0m\u001b[1;33m:\u001b[0m\u001b[1;33m\u001b[0m\u001b[1;33m\u001b[0m\u001b[0m\n\u001b[1;32m--> 108\u001b[1;33m         \u001b[0mself\u001b[0m\u001b[1;33m.\u001b[0m\u001b[0menv\u001b[0m\u001b[1;33m.\u001b[0m\u001b[0mstep\u001b[0m\u001b[1;33m(\u001b[0m\u001b[0maction\u001b[0m\u001b[1;33m)\u001b[0m\u001b[1;33m\u001b[0m\u001b[1;33m\u001b[0m\u001b[0m\n\u001b[0m\u001b[0;32m    109\u001b[0m \u001b[1;33m\u001b[0m\u001b[0m\n\u001b[0;32m    110\u001b[0m         \u001b[0mself\u001b[0m\u001b[1;33m.\u001b[0m\u001b[0magent_selection\u001b[0m \u001b[1;33m=\u001b[0m \u001b[0mself\u001b[0m\u001b[1;33m.\u001b[0m\u001b[0menv\u001b[0m\u001b[1;33m.\u001b[0m\u001b[0magent_selection\u001b[0m\u001b[1;33m\u001b[0m\u001b[1;33m\u001b[0m\u001b[0m\n",
      "\u001b[1;32mD:\\Sviluppo\\anaconda\\lib\\site-packages\\pettingzoo\\utils\\wrappers\\assert_out_of_bounds.py\u001b[0m in \u001b[0;36mstep\u001b[1;34m(self, action)\u001b[0m\n\u001b[0;32m     24\u001b[0m             \u001b[0maction\u001b[0m\u001b[1;33m\u001b[0m\u001b[1;33m\u001b[0m\u001b[0m\n\u001b[0;32m     25\u001b[0m         ), \"action is not in action space\"\n\u001b[1;32m---> 26\u001b[1;33m         \u001b[0msuper\u001b[0m\u001b[1;33m(\u001b[0m\u001b[1;33m)\u001b[0m\u001b[1;33m.\u001b[0m\u001b[0mstep\u001b[0m\u001b[1;33m(\u001b[0m\u001b[0maction\u001b[0m\u001b[1;33m)\u001b[0m\u001b[1;33m\u001b[0m\u001b[1;33m\u001b[0m\u001b[0m\n\u001b[0m\u001b[0;32m     27\u001b[0m \u001b[1;33m\u001b[0m\u001b[0m\n\u001b[0;32m     28\u001b[0m     \u001b[1;32mdef\u001b[0m \u001b[0m__str__\u001b[0m\u001b[1;33m(\u001b[0m\u001b[0mself\u001b[0m\u001b[1;33m)\u001b[0m\u001b[1;33m:\u001b[0m\u001b[1;33m\u001b[0m\u001b[1;33m\u001b[0m\u001b[0m\n",
      "\u001b[1;32mD:\\Sviluppo\\anaconda\\lib\\site-packages\\pettingzoo\\utils\\wrappers\\base.py\u001b[0m in \u001b[0;36mstep\u001b[1;34m(self, action)\u001b[0m\n\u001b[0;32m    106\u001b[0m \u001b[1;33m\u001b[0m\u001b[0m\n\u001b[0;32m    107\u001b[0m     \u001b[1;32mdef\u001b[0m \u001b[0mstep\u001b[0m\u001b[1;33m(\u001b[0m\u001b[0mself\u001b[0m\u001b[1;33m,\u001b[0m \u001b[0maction\u001b[0m\u001b[1;33m)\u001b[0m\u001b[1;33m:\u001b[0m\u001b[1;33m\u001b[0m\u001b[1;33m\u001b[0m\u001b[0m\n\u001b[1;32m--> 108\u001b[1;33m         \u001b[0mself\u001b[0m\u001b[1;33m.\u001b[0m\u001b[0menv\u001b[0m\u001b[1;33m.\u001b[0m\u001b[0mstep\u001b[0m\u001b[1;33m(\u001b[0m\u001b[0maction\u001b[0m\u001b[1;33m)\u001b[0m\u001b[1;33m\u001b[0m\u001b[1;33m\u001b[0m\u001b[0m\n\u001b[0m\u001b[0;32m    109\u001b[0m \u001b[1;33m\u001b[0m\u001b[0m\n\u001b[0;32m    110\u001b[0m         \u001b[0mself\u001b[0m\u001b[1;33m.\u001b[0m\u001b[0magent_selection\u001b[0m \u001b[1;33m=\u001b[0m \u001b[0mself\u001b[0m\u001b[1;33m.\u001b[0m\u001b[0menv\u001b[0m\u001b[1;33m.\u001b[0m\u001b[0magent_selection\u001b[0m\u001b[1;33m\u001b[0m\u001b[1;33m\u001b[0m\u001b[0m\n",
      "\u001b[1;32mD:\\Sviluppo\\anaconda\\lib\\site-packages\\pettingzoo\\mpe\\_mpe_utils\\simple_env.py\u001b[0m in \u001b[0;36mstep\u001b[1;34m(self, action)\u001b[0m\n\u001b[0;32m    239\u001b[0m             \u001b[1;32mor\u001b[0m \u001b[0mself\u001b[0m\u001b[1;33m.\u001b[0m\u001b[0mtruncations\u001b[0m\u001b[1;33m[\u001b[0m\u001b[0mself\u001b[0m\u001b[1;33m.\u001b[0m\u001b[0magent_selection\u001b[0m\u001b[1;33m]\u001b[0m\u001b[1;33m\u001b[0m\u001b[1;33m\u001b[0m\u001b[0m\n\u001b[0;32m    240\u001b[0m         ):\n\u001b[1;32m--> 241\u001b[1;33m             \u001b[0mself\u001b[0m\u001b[1;33m.\u001b[0m\u001b[0m_was_dead_step\u001b[0m\u001b[1;33m(\u001b[0m\u001b[0maction\u001b[0m\u001b[1;33m)\u001b[0m\u001b[1;33m\u001b[0m\u001b[1;33m\u001b[0m\u001b[0m\n\u001b[0m\u001b[0;32m    242\u001b[0m             \u001b[1;32mreturn\u001b[0m\u001b[1;33m\u001b[0m\u001b[1;33m\u001b[0m\u001b[0m\n\u001b[0;32m    243\u001b[0m         \u001b[0mcur_agent\u001b[0m \u001b[1;33m=\u001b[0m \u001b[0mself\u001b[0m\u001b[1;33m.\u001b[0m\u001b[0magent_selection\u001b[0m\u001b[1;33m\u001b[0m\u001b[1;33m\u001b[0m\u001b[0m\n",
      "\u001b[1;32mD:\\Sviluppo\\anaconda\\lib\\site-packages\\pettingzoo\\utils\\env.py\u001b[0m in \u001b[0;36m_was_dead_step\u001b[1;34m(self, action)\u001b[0m\n\u001b[0;32m    217\u001b[0m         \"\"\"\n\u001b[0;32m    218\u001b[0m         \u001b[1;32mif\u001b[0m \u001b[0maction\u001b[0m \u001b[1;32mis\u001b[0m \u001b[1;32mnot\u001b[0m \u001b[1;32mNone\u001b[0m\u001b[1;33m:\u001b[0m\u001b[1;33m\u001b[0m\u001b[1;33m\u001b[0m\u001b[0m\n\u001b[1;32m--> 219\u001b[1;33m             \u001b[1;32mraise\u001b[0m \u001b[0mValueError\u001b[0m\u001b[1;33m(\u001b[0m\u001b[1;34m\"when an agent is dead, the only valid action is None\"\u001b[0m\u001b[1;33m)\u001b[0m\u001b[1;33m\u001b[0m\u001b[1;33m\u001b[0m\u001b[0m\n\u001b[0m\u001b[0;32m    220\u001b[0m \u001b[1;33m\u001b[0m\u001b[0m\n\u001b[0;32m    221\u001b[0m         \u001b[1;31m# removes dead agent\u001b[0m\u001b[1;33m\u001b[0m\u001b[1;33m\u001b[0m\u001b[0m\n",
      "\u001b[1;31mValueError\u001b[0m: when an agent is dead, the only valid action is None"
     ]
    }
   ],
   "source": [
    "env.reset()\n",
    "for _ in range(200):\n",
    "    #env.render()\n",
    "    #time.sleep(1/20)\n",
    "    #n_state, reward, done, info = env.step(action)\n",
    "    for agent in env.agent_iter():\n",
    "        action = random.choice([0,1,2,3,4])\n",
    "        #print(agent)\n",
    "        env.render()\n",
    "        obs, reward, termination, truncation, _ = env.last()\n",
    "        #print(action)\n",
    "        env.step(3)\n",
    "    #score+=reward\n",
    "else:\n",
    "    env.close()"
   ]
  },
  {
   "cell_type": "code",
   "execution_count": null,
   "metadata": {},
   "outputs": [],
   "source": []
  },
  {
   "cell_type": "code",
   "execution_count": null,
   "metadata": {},
   "outputs": [],
   "source": []
  }
 ],
 "metadata": {
  "kernelspec": {
   "display_name": "Python 3 (ipykernel)",
   "language": "python",
   "name": "python3"
  },
  "language_info": {
   "codemirror_mode": {
    "name": "ipython",
    "version": 3
   },
   "file_extension": ".py",
   "mimetype": "text/x-python",
   "name": "python",
   "nbconvert_exporter": "python",
   "pygments_lexer": "ipython3",
   "version": "3.9.13"
  },
  "vscode": {
   "interpreter": {
    "hash": "3b4678716a022edc46aedeb623a5f6581a88ad14901e1955d84adae753a20813"
   }
  }
 },
 "nbformat": 4,
 "nbformat_minor": 4
}
