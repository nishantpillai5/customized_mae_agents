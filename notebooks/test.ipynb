{
 "cells": [
  {
   "cell_type": "code",
   "execution_count": 1,
   "metadata": {},
   "outputs": [],
   "source": [
    "# OPTIONAL: Load the \"autoreload\" extension so that code can change\n",
    "%load_ext autoreload\n",
    "\n",
    "# OPTIONAL: always reload modules so that as you change code in src, it gets loaded\n",
    "%autoreload 2\n",
    "\n",
    "# from src.data import make_dataset"
   ]
  },
  {
   "cell_type": "code",
   "execution_count": 1,
   "metadata": {},
   "outputs": [
    {
     "name": "stdout",
     "output_type": "stream",
     "text": [
      "Requirement already satisfied: pettingzoo[mpe] in d:\\study documents\\thesis\\env\\lib\\site-packages (1.22.3)\n",
      "Requirement already satisfied: gymnasium>=0.26.0 in d:\\study documents\\thesis\\env\\lib\\site-packages (from pettingzoo[mpe]) (0.27.1)\n",
      "Requirement already satisfied: numpy>=1.18.0 in c:\\users\\rober\\appdata\\roaming\\python\\python38\\site-packages (from pettingzoo[mpe]) (1.22.3)\n",
      "Requirement already satisfied: pygame==2.1.3.dev8 in d:\\study documents\\thesis\\env\\lib\\site-packages (from pettingzoo[mpe]) (2.1.3.dev8)\n",
      "Requirement already satisfied: typing-extensions>=4.3.0 in d:\\study documents\\thesis\\env\\lib\\site-packages (from gymnasium>=0.26.0->pettingzoo[mpe]) (4.5.0)\n",
      "Requirement already satisfied: jax-jumpy>=0.2.0 in d:\\study documents\\thesis\\env\\lib\\site-packages (from gymnasium>=0.26.0->pettingzoo[mpe]) (0.2.0)\n",
      "Requirement already satisfied: cloudpickle>=1.2.0 in d:\\study documents\\thesis\\env\\lib\\site-packages (from gymnasium>=0.26.0->pettingzoo[mpe]) (2.2.1)\n",
      "Requirement already satisfied: importlib-metadata>=4.8.0 in d:\\study documents\\thesis\\env\\lib\\site-packages (from gymnasium>=0.26.0->pettingzoo[mpe]) (6.0.0)\n",
      "Requirement already satisfied: gymnasium-notices>=0.0.1 in d:\\study documents\\thesis\\env\\lib\\site-packages (from gymnasium>=0.26.0->pettingzoo[mpe]) (0.0.1)\n",
      "Requirement already satisfied: zipp>=0.5 in d:\\study documents\\thesis\\env\\lib\\site-packages (from importlib-metadata>=4.8.0->gymnasium>=0.26.0->pettingzoo[mpe]) (3.14.0)\n"
     ]
    }
   ],
   "source": [
    "!pip install pettingzoo[mpe]"
   ]
  },
  {
   "cell_type": "code",
   "execution_count": 2,
   "metadata": {},
   "outputs": [],
   "source": [
    "from pettingzoo.mpe import simple_tag_v2\n",
    "from pettingzoo.test import render_test\n",
    "from pettingzoo.test import performance_benchmark\n",
    "from pettingzoo.test import test_save_obs"
   ]
  },
  {
   "cell_type": "markdown",
   "metadata": {},
   "source": [
    "# Tests"
   ]
  },
  {
   "cell_type": "code",
   "execution_count": 3,
   "metadata": {},
   "outputs": [],
   "source": [
    "render_test(simple_tag_v2.env)"
   ]
  },
  {
   "cell_type": "code",
   "execution_count": 5,
   "metadata": {},
   "outputs": [
    {
     "name": "stdout",
     "output_type": "stream",
     "text": [
      "Starting performance benchmark\n",
      "396.6624738289256 turns per second\n",
      "99.1656184572314 cycles per second\n",
      "Finished performance benchmark\n"
     ]
    }
   ],
   "source": [
    "performance_benchmark(env)"
   ]
  },
  {
   "cell_type": "code",
   "execution_count": 6,
   "metadata": {},
   "outputs": [
    {
     "name": "stdout",
     "output_type": "stream",
     "text": [
      "did not save the observations:  Observations must be 0 to 255 to save as image\n"
     ]
    }
   ],
   "source": [
    "test_save_obs(env)"
   ]
  },
  {
   "cell_type": "markdown",
   "metadata": {},
   "source": [
    "# Manual Render"
   ]
  },
  {
   "cell_type": "code",
   "execution_count": 4,
   "metadata": {},
   "outputs": [],
   "source": [
    "env = simple_tag_v2.env(render_mode=\"human\")\n",
    "env.reset()\n",
    "env.render()"
   ]
  },
  {
   "cell_type": "code",
   "execution_count": null,
   "metadata": {},
   "outputs": [],
   "source": []
  }
 ],
 "metadata": {
  "kernelspec": {
   "display_name": "Python 3 (ipykernel)",
   "language": "python",
   "name": "python3"
  },
  "language_info": {
   "codemirror_mode": {
    "name": "ipython",
    "version": 3
   },
   "file_extension": ".py",
   "mimetype": "text/x-python",
   "name": "python",
   "nbconvert_exporter": "python",
   "pygments_lexer": "ipython3",
   "version": "3.8.16"
  },
  "vscode": {
   "interpreter": {
    "hash": "3b4678716a022edc46aedeb623a5f6581a88ad14901e1955d84adae753a20813"
   }
  }
 },
 "nbformat": 4,
 "nbformat_minor": 4
}
