{
 "cells": [
  {
   "cell_type": "code",
   "execution_count": 2,
   "id": "407a02fc-f610-4887-9689-b65caa01cf34",
   "metadata": {},
   "outputs": [
    {
     "name": "stderr",
     "output_type": "stream",
     "text": [
      "C:\\Users\\rober\\AppData\\Roaming\\Python\\Python38\\site-packages\\pydot.py:17: UserWarning: `pydot` could not import `dot_parser`, so `pydot` will be unable to parse DOT files. The error was:  No module named 'pyparsing'\n",
      "  warnings.warn(\n",
      "C:\\Users\\rober\\AppData\\Roaming\\Python\\Python38\\site-packages\\tqdm\\auto.py:22: TqdmWarning: IProgress not found. Please update jupyter and ipywidgets. See https://ipywidgets.readthedocs.io/en/stable/user_install.html\n",
      "  from .autonotebook import tqdm as notebook_tqdm\n"
     ]
    }
   ],
   "source": [
    "\"\"\"Uses Ray's RLLib to train agents to play Pistonball.\n",
    "\n",
    "Author: Rohan (https://github.com/Rohan138)\n",
    "\"\"\"\n",
    "\n",
    "import os\n",
    "\n",
    "#import supersuit as ss\n",
    "from ray import tune\n",
    "from ray.rllib.algorithms.ppo import PPOConfig\n",
    "from ray.rllib.env.wrappers.pettingzoo_env import ParallelPettingZooEnv\n",
    "from ray.rllib.models import ModelCatalog\n",
    "from ray.rllib.models.torch.torch_modelv2 import TorchModelV2\n",
    "from ray.tune.registry import register_env\n",
    "from torch import nn\n",
    "\n",
    "from pettingzoo.mpe import simple_tag_v2\n",
    "from pettingzoo.test import render_test\n",
    "from pettingzoo.test import performance_benchmark\n",
    "from pettingzoo.test import test_save_obs\n",
    "\n",
    "import time\n",
    "import random\n",
    "\n",
    "#raise NotImplementedError(\n",
    "#    \"There are currently bugs in this tutorial, we will fix them soon.\"\n",
    "#)\n"
   ]
  },
  {
   "cell_type": "code",
   "execution_count": 3,
   "id": "b9b8bb82-25a2-4e11-b50a-7d9bb9e1cf41",
   "metadata": {},
   "outputs": [],
   "source": [
    "\n",
    "class CNNModelV2(TorchModelV2, nn.Module):\n",
    "    def __init__(self, obs_space, act_space, num_outputs, *args, **kwargs):\n",
    "        TorchModelV2.__init__(self, obs_space, act_space, num_outputs, *args, **kwargs)\n",
    "        nn.Module.__init__(self)\n",
    "        self.model = nn.Sequential(\n",
    "            nn.Conv2d(3, 32, [8, 8], stride=(4, 4)),\n",
    "            nn.ReLU(),\n",
    "            nn.Conv2d(32, 64, [4, 4], stride=(2, 2)),\n",
    "            nn.ReLU(),\n",
    "            nn.Conv2d(64, 64, [3, 3], stride=(1, 1)),\n",
    "            nn.ReLU(),\n",
    "            nn.Flatten(),\n",
    "            (nn.Linear(3136, 512)),\n",
    "            nn.ReLU(),\n",
    "        )\n",
    "        self.policy_fn = nn.Linear(512, num_outputs)\n",
    "        self.value_fn = nn.Linear(512, 1)\n",
    "\n",
    "    def forward(self, input_dict, state, seq_lens):\n",
    "        model_out = self.model(input_dict[\"obs\"].permute(0, 3, 1, 2))\n",
    "        self._value_out = self.value_fn(model_out)\n",
    "        return self.policy_fn(model_out), state\n",
    "\n",
    "    def value_function(self):\n",
    "        return self._value_out.flatten()\n"
   ]
  },
  {
   "cell_type": "code",
   "execution_count": 6,
   "id": "db51c000-5834-48bc-a2a8-8cb4f3ae9bad",
   "metadata": {},
   "outputs": [],
   "source": [
    "\n",
    "\n",
    "def env_creator(render_mode=\"rgb_array\", cycles=200):\n",
    "    \n",
    "    from src.world import world_utils\n",
    "    env = world_utils.env(render_mode=render_mode, max_cycles=cycles)\n",
    "\n",
    "    return env\n"
   ]
  },
  {
   "cell_type": "code",
   "execution_count": 11,
   "id": "4bf74215-390b-4dc2-9d57-6bfbdc0bca3f",
   "metadata": {},
   "outputs": [],
   "source": [
    "cycles = 800\n",
    "env = env_creator(cycles=cycles)\n",
    "env.reset()\n",
    "current_cycle = 0\n",
    "agent_count = 4  # todo: get from env\n",
    "action_queue = []\n",
    "\n",
    "for agent in env.agent_iter():\n",
    "    if current_cycle >= cycles * agent_count:\n",
    "        break\n",
    "    if current_cycle % agent_count == 0:\n",
    "        adversary_0_action = random.choice([0, 1, 2, 3, 4])\n",
    "        adversary_1_action = random.choice([0, 1, 2, 3, 4])\n",
    "        adversary_2_action = random.choice([0, 1, 2, 3, 4])\n",
    "        good_agent_action = random.choice([0, 1, 2, 3, 4])\n",
    "\n",
    "        action_queue += [\n",
    "            adversary_0_action,\n",
    "            adversary_1_action,\n",
    "            adversary_2_action,\n",
    "            good_agent_action\n",
    "        ]\n",
    "    # print(agent)\n",
    "    env.render()\n",
    "    # obs, reward, done, info = env.last()\n",
    "    observation, cumulative_rewards, terminations, truncations, infos = env.last()\n",
    "    action = action_queue.pop(0)\n",
    "    env.step(action)\n",
    "    current_cycle += 1\n",
    "\n",
    "    # Following this but it's not working: https://github.com/openai/multiagent-particle-envs/issues/76\n",
    "    # score+=reward\n",
    "else:\n",
    "    env.close()"
   ]
  },
  {
   "cell_type": "code",
   "execution_count": 9,
   "id": "25cb42d3-7f30-4c58-a1ad-d56987defd1d",
   "metadata": {},
   "outputs": [
    {
     "name": "stderr",
     "output_type": "stream",
     "text": [
      "2023-03-05 22:31:47,108\tINFO worker.py:1553 -- Started a local Ray instance.\n"
     ]
    },
    {
     "ename": "KeyboardInterrupt",
     "evalue": "",
     "output_type": "error",
     "traceback": [
      "\u001b[1;31m---------------------------------------------------------------------------\u001b[0m",
      "\u001b[1;31mKeyboardInterrupt\u001b[0m                         Traceback (most recent call last)",
      "Cell \u001b[1;32mIn[9], line 29\u001b[0m\n\u001b[0;32m      5\u001b[0m ModelCatalog\u001b[38;5;241m.\u001b[39mregister_custom_model(\u001b[38;5;124m\"\u001b[39m\u001b[38;5;124mCNNModelV2\u001b[39m\u001b[38;5;124m\"\u001b[39m, CNNModelV2)\n\u001b[0;32m      7\u001b[0m config \u001b[38;5;241m=\u001b[39m (\n\u001b[0;32m      8\u001b[0m     PPOConfig()\n\u001b[0;32m      9\u001b[0m     \u001b[38;5;241m.\u001b[39mrollouts(num_rollout_workers\u001b[38;5;241m=\u001b[39m\u001b[38;5;241m4\u001b[39m, rollout_fragment_length\u001b[38;5;241m=\u001b[39m\u001b[38;5;241m512\u001b[39m)\n\u001b[1;32m   (...)\u001b[0m\n\u001b[0;32m     26\u001b[0m     \u001b[38;5;241m.\u001b[39mresources(num_gpus\u001b[38;5;241m=\u001b[39m\u001b[38;5;28mint\u001b[39m(os\u001b[38;5;241m.\u001b[39menviron\u001b[38;5;241m.\u001b[39mget(\u001b[38;5;124m\"\u001b[39m\u001b[38;5;124mRLLIB_NUM_GPUS\u001b[39m\u001b[38;5;124m\"\u001b[39m, \u001b[38;5;124m\"\u001b[39m\u001b[38;5;124m0\u001b[39m\u001b[38;5;124m\"\u001b[39m)))\n\u001b[0;32m     27\u001b[0m )\n\u001b[1;32m---> 29\u001b[0m \u001b[43mtune\u001b[49m\u001b[38;5;241;43m.\u001b[39;49m\u001b[43mrun\u001b[49m\u001b[43m(\u001b[49m\n\u001b[0;32m     30\u001b[0m \u001b[43m    \u001b[49m\u001b[38;5;124;43m\"\u001b[39;49m\u001b[38;5;124;43mPPO\u001b[39;49m\u001b[38;5;124;43m\"\u001b[39;49m\u001b[43m,\u001b[49m\n\u001b[0;32m     31\u001b[0m \u001b[43m    \u001b[49m\u001b[43mname\u001b[49m\u001b[38;5;241;43m=\u001b[39;49m\u001b[38;5;124;43m\"\u001b[39;49m\u001b[38;5;124;43mPPO\u001b[39;49m\u001b[38;5;124;43m\"\u001b[39;49m\u001b[43m,\u001b[49m\n\u001b[0;32m     32\u001b[0m \u001b[43m    \u001b[49m\u001b[43mstop\u001b[49m\u001b[38;5;241;43m=\u001b[39;49m\u001b[43m{\u001b[49m\u001b[38;5;124;43m\"\u001b[39;49m\u001b[38;5;124;43mtimesteps_total\u001b[39;49m\u001b[38;5;124;43m\"\u001b[39;49m\u001b[43m:\u001b[49m\u001b[43m \u001b[49m\u001b[38;5;241;43m5000000\u001b[39;49m\u001b[43m}\u001b[49m\u001b[43m,\u001b[49m\n\u001b[0;32m     33\u001b[0m \u001b[43m    \u001b[49m\u001b[43mcheckpoint_freq\u001b[49m\u001b[38;5;241;43m=\u001b[39;49m\u001b[38;5;241;43m10\u001b[39;49m\u001b[43m,\u001b[49m\n\u001b[0;32m     34\u001b[0m \u001b[43m    \u001b[49m\u001b[43mlocal_dir\u001b[49m\u001b[38;5;241;43m=\u001b[39;49m\u001b[38;5;124;43m\"\u001b[39;49m\u001b[38;5;124;43m~/ray_results/\u001b[39;49m\u001b[38;5;124;43m\"\u001b[39;49m\u001b[43m \u001b[49m\u001b[38;5;241;43m+\u001b[39;49m\u001b[43m \u001b[49m\u001b[43menv_name\u001b[49m\u001b[43m,\u001b[49m\n\u001b[0;32m     35\u001b[0m \u001b[43m    \u001b[49m\u001b[43mconfig\u001b[49m\u001b[38;5;241;43m=\u001b[39;49m\u001b[43mconfig\u001b[49m\u001b[38;5;241;43m.\u001b[39;49m\u001b[43mto_dict\u001b[49m\u001b[43m(\u001b[49m\u001b[43m)\u001b[49m\u001b[43m,\u001b[49m\n\u001b[0;32m     36\u001b[0m \u001b[43m\u001b[49m\u001b[43m)\u001b[49m\n",
      "File \u001b[1;32mD:\\Study Documents\\thesis\\env\\lib\\site-packages\\ray\\tune\\tune.py:439\u001b[0m, in \u001b[0;36mrun\u001b[1;34m(run_or_experiment, name, metric, mode, stop, time_budget_s, config, resources_per_trial, num_samples, local_dir, search_alg, scheduler, keep_checkpoints_num, checkpoint_score_attr, checkpoint_freq, checkpoint_at_end, verbose, progress_reporter, log_to_file, trial_name_creator, trial_dirname_creator, chdir_to_trial_dir, sync_config, export_formats, max_failures, fail_fast, restore, server_port, resume, reuse_actors, raise_on_failed_trial, callbacks, max_concurrent_trials, trial_executor, _experiment_checkpoint_dir, _remote, _remote_string_queue)\u001b[0m\n\u001b[0;32m    432\u001b[0m     warnings\u001b[38;5;241m.\u001b[39mwarn(\n\u001b[0;32m    433\u001b[0m         \u001b[38;5;124m\"\u001b[39m\u001b[38;5;124mPassing a custom `trial_executor` is deprecated and will be removed \u001b[39m\u001b[38;5;124m\"\u001b[39m\n\u001b[0;32m    434\u001b[0m         \u001b[38;5;124m\"\u001b[39m\u001b[38;5;124min the future.\u001b[39m\u001b[38;5;124m\"\u001b[39m,\n\u001b[0;32m    435\u001b[0m         \u001b[38;5;167;01mDeprecationWarning\u001b[39;00m,\n\u001b[0;32m    436\u001b[0m     )\n\u001b[0;32m    438\u001b[0m \u001b[38;5;28;01mif\u001b[39;00m \u001b[38;5;129;01mnot\u001b[39;00m trial_executor \u001b[38;5;129;01mor\u001b[39;00m \u001b[38;5;28misinstance\u001b[39m(trial_executor, RayTrialExecutor):\n\u001b[1;32m--> 439\u001b[0m     \u001b[43m_ray_auto_init\u001b[49m\u001b[43m(\u001b[49m\u001b[43m)\u001b[49m\n\u001b[0;32m    441\u001b[0m \u001b[38;5;28;01mif\u001b[39;00m _remote:\n\u001b[0;32m    442\u001b[0m     remote_run \u001b[38;5;241m=\u001b[39m ray\u001b[38;5;241m.\u001b[39mremote(num_cpus\u001b[38;5;241m=\u001b[39m\u001b[38;5;241m0\u001b[39m)(run)\n",
      "File \u001b[1;32mD:\\Study Documents\\thesis\\env\\lib\\site-packages\\ray\\tune\\tune.py:927\u001b[0m, in \u001b[0;36m_ray_auto_init\u001b[1;34m()\u001b[0m\n\u001b[0;32m    921\u001b[0m \u001b[38;5;28;01melif\u001b[39;00m \u001b[38;5;129;01mnot\u001b[39;00m ray\u001b[38;5;241m.\u001b[39mis_initialized():\n\u001b[0;32m    922\u001b[0m     logger\u001b[38;5;241m.\u001b[39minfo(\n\u001b[0;32m    923\u001b[0m         \u001b[38;5;124m\"\u001b[39m\u001b[38;5;124mInitializing Ray automatically.\u001b[39m\u001b[38;5;124m\"\u001b[39m\n\u001b[0;32m    924\u001b[0m         \u001b[38;5;124m\"\u001b[39m\u001b[38;5;124mFor cluster usage or custom Ray initialization, \u001b[39m\u001b[38;5;124m\"\u001b[39m\n\u001b[0;32m    925\u001b[0m         \u001b[38;5;124m\"\u001b[39m\u001b[38;5;124mcall `ray.init(...)` before `tune.run`.\u001b[39m\u001b[38;5;124m\"\u001b[39m\n\u001b[0;32m    926\u001b[0m     )\n\u001b[1;32m--> 927\u001b[0m     \u001b[43mray\u001b[49m\u001b[38;5;241;43m.\u001b[39;49m\u001b[43minit\u001b[49m\u001b[43m(\u001b[49m\u001b[43m)\u001b[49m\n",
      "File \u001b[1;32mD:\\Study Documents\\thesis\\env\\lib\\site-packages\\ray\\_private\\client_mode_hook.py:105\u001b[0m, in \u001b[0;36mclient_mode_hook.<locals>.wrapper\u001b[1;34m(*args, **kwargs)\u001b[0m\n\u001b[0;32m    103\u001b[0m     \u001b[38;5;28;01mif\u001b[39;00m func\u001b[38;5;241m.\u001b[39m\u001b[38;5;18m__name__\u001b[39m \u001b[38;5;241m!=\u001b[39m \u001b[38;5;124m\"\u001b[39m\u001b[38;5;124minit\u001b[39m\u001b[38;5;124m\"\u001b[39m \u001b[38;5;129;01mor\u001b[39;00m is_client_mode_enabled_by_default:\n\u001b[0;32m    104\u001b[0m         \u001b[38;5;28;01mreturn\u001b[39;00m \u001b[38;5;28mgetattr\u001b[39m(ray, func\u001b[38;5;241m.\u001b[39m\u001b[38;5;18m__name__\u001b[39m)(\u001b[38;5;241m*\u001b[39margs, \u001b[38;5;241m*\u001b[39m\u001b[38;5;241m*\u001b[39mkwargs)\n\u001b[1;32m--> 105\u001b[0m \u001b[38;5;28;01mreturn\u001b[39;00m \u001b[43mfunc\u001b[49m\u001b[43m(\u001b[49m\u001b[38;5;241;43m*\u001b[39;49m\u001b[43margs\u001b[49m\u001b[43m,\u001b[49m\u001b[43m \u001b[49m\u001b[38;5;241;43m*\u001b[39;49m\u001b[38;5;241;43m*\u001b[39;49m\u001b[43mkwargs\u001b[49m\u001b[43m)\u001b[49m\n",
      "File \u001b[1;32mD:\\Study Documents\\thesis\\env\\lib\\site-packages\\ray\\_private\\worker.py:1555\u001b[0m, in \u001b[0;36minit\u001b[1;34m(address, num_cpus, num_gpus, resources, object_store_memory, local_mode, ignore_reinit_error, include_dashboard, dashboard_host, dashboard_port, job_config, configure_logging, logging_level, logging_format, log_to_driver, namespace, runtime_env, storage, **kwargs)\u001b[0m\n\u001b[0;32m   1552\u001b[0m \u001b[38;5;28;01melse\u001b[39;00m:\n\u001b[0;32m   1553\u001b[0m     logger\u001b[38;5;241m.\u001b[39minfo(info_str)\n\u001b[1;32m-> 1555\u001b[0m \u001b[43mconnect\u001b[49m\u001b[43m(\u001b[49m\n\u001b[0;32m   1556\u001b[0m \u001b[43m    \u001b[49m\u001b[43m_global_node\u001b[49m\u001b[43m,\u001b[49m\n\u001b[0;32m   1557\u001b[0m \u001b[43m    \u001b[49m\u001b[43m_global_node\u001b[49m\u001b[38;5;241;43m.\u001b[39;49m\u001b[43msession_name\u001b[49m\u001b[43m,\u001b[49m\n\u001b[0;32m   1558\u001b[0m \u001b[43m    \u001b[49m\u001b[43mmode\u001b[49m\u001b[38;5;241;43m=\u001b[39;49m\u001b[43mdriver_mode\u001b[49m\u001b[43m,\u001b[49m\n\u001b[0;32m   1559\u001b[0m \u001b[43m    \u001b[49m\u001b[43mlog_to_driver\u001b[49m\u001b[38;5;241;43m=\u001b[39;49m\u001b[43mlog_to_driver\u001b[49m\u001b[43m,\u001b[49m\n\u001b[0;32m   1560\u001b[0m \u001b[43m    \u001b[49m\u001b[43mworker\u001b[49m\u001b[38;5;241;43m=\u001b[39;49m\u001b[43mglobal_worker\u001b[49m\u001b[43m,\u001b[49m\n\u001b[0;32m   1561\u001b[0m \u001b[43m    \u001b[49m\u001b[43mdriver_object_store_memory\u001b[49m\u001b[38;5;241;43m=\u001b[39;49m\u001b[43m_driver_object_store_memory\u001b[49m\u001b[43m,\u001b[49m\n\u001b[0;32m   1562\u001b[0m \u001b[43m    \u001b[49m\u001b[43mjob_id\u001b[49m\u001b[38;5;241;43m=\u001b[39;49m\u001b[38;5;28;43;01mNone\u001b[39;49;00m\u001b[43m,\u001b[49m\n\u001b[0;32m   1563\u001b[0m \u001b[43m    \u001b[49m\u001b[43mnamespace\u001b[49m\u001b[38;5;241;43m=\u001b[39;49m\u001b[43mnamespace\u001b[49m\u001b[43m,\u001b[49m\n\u001b[0;32m   1564\u001b[0m \u001b[43m    \u001b[49m\u001b[43mjob_config\u001b[49m\u001b[38;5;241;43m=\u001b[39;49m\u001b[43mjob_config\u001b[49m\u001b[43m,\u001b[49m\n\u001b[0;32m   1565\u001b[0m \u001b[43m    \u001b[49m\u001b[43mentrypoint\u001b[49m\u001b[38;5;241;43m=\u001b[39;49m\u001b[43mray\u001b[49m\u001b[38;5;241;43m.\u001b[39;49m\u001b[43m_private\u001b[49m\u001b[38;5;241;43m.\u001b[39;49m\u001b[43mutils\u001b[49m\u001b[38;5;241;43m.\u001b[39;49m\u001b[43mget_entrypoint_name\u001b[49m\u001b[43m(\u001b[49m\u001b[43m)\u001b[49m\u001b[43m,\u001b[49m\n\u001b[0;32m   1566\u001b[0m \u001b[43m\u001b[49m\u001b[43m)\u001b[49m\n\u001b[0;32m   1567\u001b[0m \u001b[38;5;28;01mif\u001b[39;00m job_config \u001b[38;5;129;01mand\u001b[39;00m job_config\u001b[38;5;241m.\u001b[39mcode_search_path:\n\u001b[0;32m   1568\u001b[0m     global_worker\u001b[38;5;241m.\u001b[39mset_load_code_from_local(\u001b[38;5;28;01mTrue\u001b[39;00m)\n",
      "File \u001b[1;32mD:\\Study Documents\\thesis\\env\\lib\\site-packages\\ray\\_private\\worker.py:2067\u001b[0m, in \u001b[0;36mconnect\u001b[1;34m(node, session_name, mode, log_to_driver, worker, driver_object_store_memory, job_id, namespace, job_config, runtime_env_hash, startup_token, ray_debugger_external, entrypoint)\u001b[0m\n\u001b[0;32m   2065\u001b[0m \u001b[38;5;28;01melse\u001b[39;00m:\n\u001b[0;32m   2066\u001b[0m     logs_dir \u001b[38;5;241m=\u001b[39m node\u001b[38;5;241m.\u001b[39mget_logs_dir_path()\n\u001b[1;32m-> 2067\u001b[0m \u001b[43mworker\u001b[49m\u001b[38;5;241;43m.\u001b[39;49m\u001b[43mcore_worker\u001b[49m \u001b[38;5;241m=\u001b[39m ray\u001b[38;5;241m.\u001b[39m_raylet\u001b[38;5;241m.\u001b[39mCoreWorker(\n\u001b[0;32m   2068\u001b[0m     mode,\n\u001b[0;32m   2069\u001b[0m     node\u001b[38;5;241m.\u001b[39mplasma_store_socket_name,\n\u001b[0;32m   2070\u001b[0m     node\u001b[38;5;241m.\u001b[39mraylet_socket_name,\n\u001b[0;32m   2071\u001b[0m     job_id,\n\u001b[0;32m   2072\u001b[0m     gcs_options,\n\u001b[0;32m   2073\u001b[0m     logs_dir,\n\u001b[0;32m   2074\u001b[0m     node\u001b[38;5;241m.\u001b[39mnode_ip_address,\n\u001b[0;32m   2075\u001b[0m     node\u001b[38;5;241m.\u001b[39mnode_manager_port,\n\u001b[0;32m   2076\u001b[0m     node\u001b[38;5;241m.\u001b[39mraylet_ip_address,\n\u001b[0;32m   2077\u001b[0m     (mode \u001b[38;5;241m==\u001b[39m LOCAL_MODE),\n\u001b[0;32m   2078\u001b[0m     driver_name,\n\u001b[0;32m   2079\u001b[0m     log_stdout_file_path,\n\u001b[0;32m   2080\u001b[0m     log_stderr_file_path,\n\u001b[0;32m   2081\u001b[0m     serialized_job_config,\n\u001b[0;32m   2082\u001b[0m     node\u001b[38;5;241m.\u001b[39mmetrics_agent_port,\n\u001b[0;32m   2083\u001b[0m     runtime_env_hash,\n\u001b[0;32m   2084\u001b[0m     startup_token,\n\u001b[0;32m   2085\u001b[0m     session_name,\n\u001b[0;32m   2086\u001b[0m     \u001b[38;5;124m\"\u001b[39m\u001b[38;5;124m\"\u001b[39m \u001b[38;5;28;01mif\u001b[39;00m mode \u001b[38;5;241m!=\u001b[39m SCRIPT_MODE \u001b[38;5;28;01melse\u001b[39;00m entrypoint,\n\u001b[0;32m   2087\u001b[0m )\n\u001b[0;32m   2089\u001b[0m \u001b[38;5;66;03m# Notify raylet that the core worker is ready.\u001b[39;00m\n\u001b[0;32m   2090\u001b[0m worker\u001b[38;5;241m.\u001b[39mcore_worker\u001b[38;5;241m.\u001b[39mnotify_raylet()\n",
      "\u001b[1;31mKeyboardInterrupt\u001b[0m: "
     ]
    }
   ],
   "source": [
    "\n",
    "if __name__ == \"__main__\":\n",
    "    env_name = \"pistonball_v6\"\n",
    "\n",
    "    register_env(env_name, lambda config: ParallelPettingZooEnv(env_creator(config)))\n",
    "    ModelCatalog.register_custom_model(\"CNNModelV2\", CNNModelV2)\n",
    "\n",
    "    config = (\n",
    "        PPOConfig()\n",
    "        .rollouts(num_rollout_workers=4, rollout_fragment_length=512)\n",
    "        .training(\n",
    "            train_batch_size=512,\n",
    "            lr=2e-5,\n",
    "            gamma=0.99,\n",
    "            lambda_=0.9,\n",
    "            use_gae=True,\n",
    "            clip_param=0.4,\n",
    "            grad_clip=None,\n",
    "            entropy_coeff=0.1,\n",
    "            vf_loss_coeff=0.25,\n",
    "            sgd_minibatch_size=64,\n",
    "            num_sgd_iter=10,\n",
    "        )\n",
    "        .environment(env=env_name, clip_actions=True)\n",
    "        .debugging(log_level=\"ERROR\")\n",
    "        .framework(framework=\"torch\")\n",
    "        .resources(num_gpus=int(os.environ.get(\"RLLIB_NUM_GPUS\", \"0\")))\n",
    "    )\n",
    "\n",
    "    tune.run(\n",
    "        \"PPO\",\n",
    "        name=\"PPO\",\n",
    "        stop={\"timesteps_total\": 5000000},\n",
    "        checkpoint_freq=10,\n",
    "        local_dir=\"~/ray_results/\" + env_name,\n",
    "        config=config.to_dict(),\n",
    "    )\n"
   ]
  },
  {
   "cell_type": "code",
   "execution_count": null,
   "id": "5570dc8a-cbbc-4dc9-8ce1-6bff6e28011d",
   "metadata": {},
   "outputs": [],
   "source": []
  }
 ],
 "metadata": {
  "kernelspec": {
   "display_name": "Python 3 (ipykernel)",
   "language": "python",
   "name": "python3"
  },
  "language_info": {
   "codemirror_mode": {
    "name": "ipython",
    "version": 3
   },
   "file_extension": ".py",
   "mimetype": "text/x-python",
   "name": "python",
   "nbconvert_exporter": "python",
   "pygments_lexer": "ipython3",
   "version": "3.8.16"
  }
 },
 "nbformat": 4,
 "nbformat_minor": 5
}
