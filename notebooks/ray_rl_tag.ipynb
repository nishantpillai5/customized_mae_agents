{
 "cells": [
  {
   "cell_type": "code",
   "execution_count": 1,
   "id": "c17b2751-8f9d-4ea1-9d11-e68603d8c377",
   "metadata": {},
   "outputs": [],
   "source": [
    "import ray\n",
    "\n",
    "import time\n",
    "import random\n",
    "\n",
    "import numpy as np\n",
    "\n",
    "from tensorflow.keras.models import Sequential\n",
    "from tensorflow.keras.layers import Dense, Activation, Flatten, Input\n",
    "from tensorflow.keras.optimizers import Adam\n",
    "import tensorflow.keras.backend as K\n",
    "\n",
    "from rl.agents.dqn import DQNAgent\n",
    "from rl.policy import LinearAnnealedPolicy, BoltzmannQPolicy, EpsGreedyQPolicy\n",
    "from rl.memory import SequentialMemory\n",
    "from rl.core import Processor\n",
    "from rl.callbacks import FileLogger, ModelIntervalCheckpoint"
   ]
  },
  {
   "cell_type": "code",
   "execution_count": 2,
   "id": "2c1492fb-4fc5-4772-96c3-81feafbbdce5",
   "metadata": {},
   "outputs": [
    {
     "name": "stdout",
     "output_type": "stream",
     "text": [
      "Model: \"sequential\"\n",
      "_________________________________________________________________\n",
      " Layer (type)                Output Shape              Param #   \n",
      "=================================================================\n",
      " flatten (Flatten)           (None, 34)                0         \n",
      "                                                                 \n",
      " dense (Dense)               (None, 128)               4480      \n",
      "                                                                 \n",
      " activation (Activation)     (None, 128)               0         \n",
      "                                                                 \n",
      " dense_1 (Dense)             (None, 32)                4128      \n",
      "                                                                 \n",
      " activation_1 (Activation)   (None, 32)                0         \n",
      "                                                                 \n",
      " dense_2 (Dense)             (None, 5)                 165       \n",
      "                                                                 \n",
      " activation_2 (Activation)   (None, 5)                 0         \n",
      "                                                                 \n",
      "=================================================================\n",
      "Total params: 8,773\n",
      "Trainable params: 8,773\n",
      "Non-trainable params: 0\n",
      "_________________________________________________________________\n",
      "None\n"
     ]
    }
   ],
   "source": [
    "INPUT_SHAPE = (34,)\n",
    "WINDOW_LENGTH = 1\n",
    "nb_actions = 5\n",
    "\n",
    "input_shape = (WINDOW_LENGTH,) + INPUT_SHAPE\n",
    "model = Sequential()\n",
    "\n",
    "# (width, height, channels)\n",
    "#model.add(Permute((2, 1), input_shape=input_shape))\n",
    "model.add(Input(shape=input_shape))\n",
    "model.add(Flatten())\n",
    "model.add(Dense(128))\n",
    "model.add(Activation('relu'))\n",
    "model.add(Dense(32))\n",
    "model.add(Activation('relu'))\n",
    "model.add(Dense(nb_actions))\n",
    "model.add(Activation('linear'))\n",
    "print(model.summary())"
   ]
  },
  {
   "cell_type": "code",
   "execution_count": 3,
   "id": "5153d457-7547-4612-ae63-1a135a96f0f7",
   "metadata": {},
   "outputs": [],
   "source": [
    "class myProcessor(Processor):\n",
    "    def process_observation(self, observation):\n",
    "        print(\"obs\", observation)\n",
    "        return np.array(observation)\n",
    "\n",
    "    def process_state_batch(self, batch):\n",
    "        # We could perform this processing step in `process_observation`. In this case, however,\n",
    "        # we would need to store a `float32` array instead, which is 4x more memory intensive than\n",
    "        # an `uint8` array. This matters if we store 1M observations.\n",
    "        # processed_batch = batch.astype('float32') / 255.\n",
    "        return batch\n",
    "\n",
    "    def process_reward(self, reward):\n",
    "        return np.array(reward)\n",
    "        #return np.clip(reward, -1., 1.)\n",
    "\n",
    "processor = myProcessor()"
   ]
  },
  {
   "cell_type": "code",
   "execution_count": 4,
   "id": "48801392-cd3f-473a-91e9-574db2ac6099",
   "metadata": {},
   "outputs": [
    {
     "name": "stdout",
     "output_type": "stream",
     "text": [
      "WARNING:tensorflow:From D:\\Study_Documents\\thesis\\env\\lib\\site-packages\\tensorflow\\python\\autograph\\pyct\\static_analysis\\liveness.py:83: Analyzer.lamba_check (from tensorflow.python.autograph.pyct.static_analysis.liveness) is deprecated and will be removed after 2023-09-23.\n",
      "Instructions for updating:\n",
      "Lambda fuctions will be no more assumed to be used in the statement where they are used, or at least in the same block. https://github.com/tensorflow/tensorflow/issues/56089\n"
     ]
    }
   ],
   "source": [
    "policy = LinearAnnealedPolicy(EpsGreedyQPolicy(), attr='eps', value_max=1., value_min=.1, value_test=.05,\n",
    "                              nb_steps=1000000)\n",
    "memory = SequentialMemory(limit=1000000, window_length=WINDOW_LENGTH)\n",
    "\n",
    "dqn = DQNAgent(model=model, nb_actions=nb_actions, policy=policy, memory=memory,\n",
    "               processor=processor, nb_steps_warmup=50000, gamma=.99, target_model_update=10000,\n",
    "               train_interval=4, delta_clip=1.)\n",
    "dqn.compile(Adam(learning_rate=.00025), metrics=['mae'])"
   ]
  },
  {
   "cell_type": "code",
   "execution_count": 5,
   "id": "a6b1d703-68bb-4866-83bc-cca352752f31",
   "metadata": {},
   "outputs": [],
   "source": [
    "cycles = 200\n",
    "\n",
    "def env_creator(render_mode=\"rgb_array\", cycles=200):\n",
    "    from src.world import world_utils\n",
    "    env = world_utils.env(render_mode=render_mode, max_cycles=cycles)\n",
    "    return env"
   ]
  },
  {
   "cell_type": "markdown",
   "id": "eb95d55e-05f5-4f47-938b-85f73b75eb97",
   "metadata": {},
   "source": [
    "# Without Ray"
   ]
  },
  {
   "cell_type": "code",
   "execution_count": 6,
   "id": "310165eb-26f8-4c33-8d29-303179d0d1bd",
   "metadata": {},
   "outputs": [
    {
     "name": "stderr",
     "output_type": "stream",
     "text": [
      "D:\\Study_Documents\\thesis\\env\\lib\\site-packages\\keras\\engine\\training_v1.py:2357: UserWarning: `Model.state_updates` will be removed in a future version. This property should not be used in TensorFlow 2.0, as `updates` are applied automatically.\n",
      "  updates=self.state_updates,\n"
     ]
    },
    {
     "name": "stdout",
     "output_type": "stream",
     "text": [
      "['adversary_0_a1_r0.0', 'adversary_1_a1_r0.0', 'adversary_2_a2_r0.0', 'agent_0_a0_r0.0', 'adversary_0_a1_r-0.28032344148179905', 'adversary_1_a1_r-0.28032344148179905', 'adversary_2_a2_r-0.28032344148179905', 'agent_0_a0_r0.0', 'adversary_0_a1_r-0.28597149400223604', 'adversary_1_a1_r-0.28597149400223604', 'adversary_2_a3_r-0.28597149400223604', 'agent_0_a0_r0.0', 'adversary_0_a1_r-0.29301593746374965', 'adversary_1_a1_r-0.29301593746374965', 'adversary_2_a3_r-0.29301593746374965', 'agent_0_a0_r0.0', 'adversary_0_a1_r-0.3018470814851576', 'adversary_1_a1_r-0.3018470814851576', 'adversary_2_a3_r-0.3018470814851576', 'agent_0_a0_r0.0', 'adversary_0_a1_r-0.3128721595385676', 'adversary_1_a1_r-0.3128721595385676', 'adversary_2_a3_r-0.3128721595385676', 'agent_0_a0_r0.0', 'adversary_0_a1_r-0.8096205663101718', 'adversary_1_a1_r-0.32132119331461084', 'adversary_2_a3_r-0.5732314627145828', 'agent_0_a0_r0.0', 'adversary_0_a1_r-1.4352635963254787', 'adversary_1_a1_r-0.3326758930853688', 'adversary_2_a3_r-1.3513003393046954', 'agent_0_a0_r0.0', 'adversary_0_a1_r-1.694047561106284', 'adversary_1_a1_r-0.3473438992553267', 'adversary_2_a3_r-1.5742632636079628', 'agent_0_a0_r0.0', 'adversary_0_a1_r-2.0095827490401565', 'adversary_1_a1_r-0.36471518203099607', 'adversary_2_a3_r-1.8575032101484843', 'agent_0_a0_r0.0', 'adversary_0_a1_r-2.393176443182538', 'adversary_1_a1_r-0.38413066002934143', 'adversary_2_a3_r-2.20382662444992', 'agent_0_a0_r0.0', 'adversary_0_a1_r-2.859035836325414', 'adversary_1_a1_r-0.40518177551204004', 'adversary_2_a3_r-2.6255201186666537', 'agent_0_a0_r0.0', 'adversary_0_a1_r-3.4246915235970876', 'adversary_1_a1_r-0.42754740559709936', 'adversary_2_a3_r-3.138076732710272', 'agent_0_a0_r0.0', 'adversary_0_a1_r-4.11169656405667', 'adversary_1_a1_r-1.124350860719737', 'adversary_2_a3_r-3.7607532253878286', 'agent_0_a0_r0.0', 'adversary_0_a1_r-4.946486241335403', 'adversary_1_a1_r-1.6194373542296403', 'adversary_2_a3_r-4.517300143178389', 'agent_0_a0_r0.0', 'adversary_0_a1_r-5.961434424040832', 'adversary_1_a1_r-1.897767736796129', 'adversary_2_a3_r-5.436886998449986', 'agent_0_a0_r0.0', 'adversary_0_a1_r-7.196149256072692', 'adversary_1_a1_r-2.2327755560284106', 'adversary_2_a3_r-6.555254740291301', 'agent_0_a0_r0.0', 'adversary_0_a1_r-8.699060133059874', 'adversary_1_a1_r-2.63678180604614', 'adversary_2_a3_r-7.916138413368187', 'agent_0_a0_r0.0', 'adversary_0_a1_r-10.529359494340275', 'adversary_1_a1_r-3.1248760249910794', 'adversary_2_a3_r-9.57301486852374', 'agent_0_a0_r0.0', 'adversary_0_a1_r-10.605358455535471', 'adversary_1_a1_r-3.715520651263256', 'adversary_2_a3_r-10.605358455535471', 'agent_0_a0_r0.0', 'adversary_0_a1_r-10.632530514054718', 'adversary_1_a1_r-4.431291198242125', 'adversary_2_a3_r-10.632530514054718', 'agent_0_a0_r0.0', 'adversary_0_a1_r-10.659965048897586', 'adversary_1_a1_r-5.2997818261545', 'adversary_2_a3_r-10.659965048897586', 'agent_0_a0_r0.0', 'adversary_0_a1_r-10.687627548471257', 'adversary_1_a1_r-6.354712557570682', 'adversary_2_a3_r-10.687627548471257', 'agent_0_a0_r0.0', 'adversary_0_a1_r-10.715489240142047', 'adversary_1_a1_r-7.637282500984238', 'adversary_2_a3_r-10.715489240142047', 'agent_0_a0_r0.0', 'adversary_0_a1_r-10.743525959856612', 'adversary_1_a1_r-9.197823340063739', 'adversary_2_a3_r-10.743525959856612', 'agent_0_a0_r0.0', 'adversary_0_a1_r-10.771717273484098', 'adversary_1_a1_r-10.771717273484098', 'adversary_2_a3_r-10.771717273484098', 'agent_0_a0_r0.0', 'adversary_0_a1_r-10.800045788789635', 'adversary_1_a1_r-10.800045788789635', 'adversary_2_a3_r-10.800045788789635', 'agent_0_a0_r0.0', 'adversary_0_a1_r-10.828496612617837', 'adversary_1_a1_r-10.828496612617837', 'adversary_2_a3_r-10.828496612617837', 'agent_0_a0_r0.0', 'adversary_0_a1_r-10.857056919403899', 'adversary_1_a2_r-10.857056919403899', 'adversary_2_a3_r-10.857056919403899', 'agent_0_a0_r0.0', 'adversary_0_a1_r-10.880528038491963', 'adversary_1_a2_r-10.880528038491963', 'adversary_2_a3_r-10.880528038491963', 'agent_0_a0_r0.0', 'adversary_0_a1_r-10.90016458015209', 'adversary_1_a2_r-10.90016458015209', 'adversary_2_a3_r-10.90016458015209', 'agent_0_a0_r0.0', 'adversary_0_a1_r-10.916930410235064', 'adversary_1_a2_r-10.916930410235064', 'adversary_2_a3_r-10.916930410235064', 'agent_0_a0_r0.0', 'adversary_0_a1_r-10.93155942061414', 'adversary_1_a2_r-10.93155942061414', 'adversary_2_a3_r-10.93155942061414', 'agent_0_a0_r0.0', 'adversary_0_a1_r-10.944608308024941', 'adversary_1_a2_r-10.944608308024941', 'adversary_2_a3_r-10.944608308024941', 'agent_0_a0_r0.0', 'adversary_0_a1_r-10.956499070366654', 'adversary_1_a2_r-10.956499070366654', 'adversary_2_a3_r-10.956499070366654', 'agent_0_a0_r0.0', 'adversary_0_a1_r-10.967552208280537', 'adversary_1_a2_r-10.967552208280537', 'adversary_2_a3_r-10.967552208280537', 'agent_0_a0_r0.0', 'adversary_0_a1_r-10.978012329718439', 'adversary_1_a2_r-10.025850291740577', 'adversary_2_a3_r-10.978012329718439', 'agent_0_a0_r0.0', 'adversary_0_a1_r-10.988384688319217', 'adversary_1_a2_r-8.396127876693154', 'adversary_2_a3_r-10.988384688319217', 'agent_0_a0_r0.0', 'adversary_0_a1_r-10.998865132229506', 'adversary_1_a2_r-7.063812291455189', 'adversary_2_a3_r-10.998865132229506', 'agent_0_a0_r0.0', 'adversary_0_a1_r-11.009464298169938', 'adversary_1_a2_r-5.975023053220948', 'adversary_2_a3_r-11.009464298169938', 'agent_0_a0_r0.0', 'adversary_0_a1_r-11.02019533683038', 'adversary_1_a2_r-5.085650995806256', 'adversary_2_a3_r-11.02019533683038', 'agent_0_a0_r0.0', 'adversary_0_a1_r-11.031074431865695', 'adversary_1_a2_r-4.359588005144158', 'adversary_2_a3_r-11.031074431865695', 'agent_0_a0_r0.0', 'adversary_0_a1_r-11.04212145363713', 'adversary_1_a2_r-3.7672778781176897', 'adversary_2_a3_r-11.04212145363713', 'agent_0_a0_r0.0', 'adversary_0_a1_r-11.053360776704494', 'adversary_1_a2_r-3.284530148374762', 'adversary_2_a3_r-11.053360776704494', 'agent_0_a0_r0.0', 'adversary_0_a1_r-11.064822291276677', 'adversary_1_a2_r-2.891549271188803', 'adversary_2_a3_r-11.064822291276677', 'agent_0_a0_r0.0', 'adversary_0_a1_r-11.076542633902026', 'adversary_1_a2_r-2.572140189833349', 'adversary_2_a3_r-11.076542633902026', 'agent_0_a0_r0.0', 'adversary_0_a1_r-11.088566644859318', 'adversary_1_a2_r-2.313058358128559', 'adversary_2_a3_r-11.088566644859318', 'agent_0_a0_r0.0', 'adversary_0_a1_r-11.100949017334113', 'adversary_1_a2_r-2.1034780398767867', 'adversary_2_a3_r-11.100949017334113', 'agent_0_a0_r0.0', 'adversary_0_a1_r-11.113756018336526', 'adversary_1_a2_r-1.1263851680704975', 'adversary_2_a3_r-11.113756018336526', 'agent_0_a0_r0.0', 'adversary_0_a1_r-11.127067009436985', 'adversary_1_a2_r-1.127067009436984', 'adversary_2_a3_r-11.127067009436985', 'agent_0_a0_r0.0', 'adversary_0_a1_r-11.140975255843511', 'adversary_1_a2_r-1.1409752558435118', 'adversary_2_a3_r-11.140975255843511', 'agent_0_a0_r0.0', 'adversary_0_a1_r-11.155587194975283', 'adversary_1_a2_r-1.1555871949752832', 'adversary_2_a3_r-11.155587194975283', 'agent_0_a0_r0.0', 'adversary_0_a1_r-11.171019038310202', 'adversary_1_a2_r-1.1710190383102024', 'adversary_2_a3_r-11.171019038310202', 'agent_0_a0_r0.0', 'adversary_0_a1_r-11.18738956056713', 'adversary_1_a2_r-1.1873895605671305', 'adversary_2_a3_r-11.18738956056713', 'agent_0_a0_r0.0', 'adversary_0_a1_r-11.204808599834276', 'adversary_1_a2_r-1.2048085998342772', 'adversary_2_a3_r-11.204808599834276', 'agent_0_a0_r0.0', 'adversary_0_a1_r-11.22336244897136', 'adversary_1_a2_r-1.2233624489713595', 'adversary_2_a3_r-11.22336244897136', 'agent_0_a0_r0.0', 'adversary_0_a1_r-11.243099562756328', 'adversary_1_a2_r-1.2430995627563284', 'adversary_2_a3_r-11.243099562756328', 'agent_0_a0_r0.0', 'adversary_0_a1_r-11.264021385145687', 'adversary_1_a2_r-1.2640213851456872', 'adversary_2_a3_r-11.264021385145687', 'agent_0_a0_r0.0', 'adversary_0_a1_r-11.286081986581415', 'adversary_1_a2_r-1.2860819865814141', 'adversary_2_a3_r-11.286081986581415', 'agent_0_a0_r0.0', 'adversary_0_a1_r-11.309196665022693', 'adversary_1_a2_r-1.3091966650226925', 'adversary_2_a3_r-11.309196665022693', 'agent_0_a0_r0.0', 'adversary_0_a1_r-11.33325602017633', 'adversary_1_a2_r-1.3332560201763304', 'adversary_2_a3_r-11.33325602017633', 'agent_0_a0_r0.0', 'adversary_0_a1_r-11.358140679703048', 'adversary_1_a2_r-1.3581406797030482', 'adversary_2_a3_r-11.358140679703048', 'agent_0_a0_r0.0', 'adversary_0_a1_r-11.383733095598883', 'adversary_1_a2_r-1.383733095598883', 'adversary_2_a3_r-11.383733095598883', 'agent_0_a0_r0.0', 'adversary_0_a1_r-11.409925070097165', 'adversary_1_a2_r-1.409925070097165', 'adversary_2_a3_r-11.409925070097165', 'agent_0_a0_r0.0', 'adversary_0_a1_r-11.436621398065848', 'adversary_1_a2_r-1.436621398065847', 'adversary_2_a3_r-11.436621398065848', 'agent_0_a0_r0.0', 'adversary_0_a1_r-11.4637407509273', 'adversary_1_a2_r-1.4637407509273', 'adversary_2_a3_r-11.4637407509273', 'agent_0_a0_r0.0', 'adversary_0_a1_r-11.491214943812622', 'adversary_1_a2_r-1.4912149438126225', 'adversary_2_a3_r-11.491214943812622', 'agent_0_a0_r0.0', 'adversary_0_a1_r-11.51898743984', 'adversary_1_a2_r-2.506358290106025', 'adversary_2_a3_r-11.51898743984', 'agent_0_a0_r0.0', 'adversary_0_a1_r-11.54701162454323', 'adversary_1_a2_r-2.7653332199244547', 'adversary_2_a3_r-11.54701162454323', 'agent_0_a0_r0.0', 'adversary_0_a1_r-11.575249137040732', 'adversary_1_a2_r-3.0633104939654596', 'adversary_2_a3_r-11.575249137040732', 'agent_0_a0_r0.0', 'adversary_0_a1_r-11.603668386617809', 'adversary_1_a2_r-3.4211906322772343', 'adversary_2_a3_r-11.603668386617809', 'agent_0_a0_r0.0', 'adversary_0_a1_r-11.632243294102759', 'adversary_1_a2_r-3.852169977968648', 'adversary_2_a3_r-11.632243294102759', 'agent_0_a0_r0.0', 'adversary_0_a1_r-11.660952252515738', 'adversary_1_a2_r-4.372376827102896', 'adversary_2_a3_r-11.660952252515738', 'agent_0_a0_r0.0', 'adversary_0_a1_r-11.689777282241817', 'adversary_1_a2_r-5.0015187361858375', 'adversary_2_a3_r-11.689777282241817', 'agent_0_a0_r0.0', 'adversary_0_a1_r-11.71870335031991', 'adversary_1_a2_r-5.763673496480506', 'adversary_2_a3_r-11.71870335031991', 'agent_0_a0_r0.0', 'adversary_0_a1_r-11.747717824275785', 'adversary_1_a2_r-6.688255517471886', 'adversary_2_a3_r-11.747717824275785', 'agent_0_a0_r0.0', 'adversary_0_a1_r-11.776810034427912', 'adversary_1_a2_r-7.811196399691911', 'adversary_2_a3_r-11.776810034427912', 'agent_0_a0_r0.0', 'adversary_0_a1_r-11.805970922824581', 'adversary_1_a2_r-9.176387073162154', 'adversary_2_a3_r-11.805970922824581', 'agent_0_a0_r0.0', 'adversary_0_a1_r-11.835192761037247', 'adversary_1_a2_r-10.837439375847817', 'adversary_2_a3_r-11.835192761037247', 'agent_0_a0_r0.0', 'adversary_0_a1_r-11.864468922587287', 'adversary_1_a2_r-11.864468922587287', 'adversary_2_a3_r-11.864468922587287', 'agent_0_a0_r0.0', 'adversary_0_a1_r-11.893793698735934', 'adversary_1_a2_r-11.893793698735934', 'adversary_2_a3_r-11.893793698735934', 'agent_0_a0_r0.0', 'adversary_0_a1_r-11.923162148752356', 'adversary_1_a2_r-11.923162148752356', 'adversary_2_a3_r-11.923162148752356', 'agent_0_a0_r0.0', 'adversary_0_a1_r-11.952569977669949', 'adversary_1_a2_r-11.952569977669949', 'adversary_2_a3_r-11.952569977669949', 'agent_0_a0_r0.0', 'adversary_0_a1_r-11.982013436031965', 'adversary_1_a2_r-11.982013436031965', 'adversary_2_a3_r-11.982013436031965', 'agent_0_a0_r0.0', 'adversary_0_a1_r-12.011489237294668', 'adversary_1_a2_r-12.011489237294668', 'adversary_2_a3_r-12.011489237294668', 'agent_0_a0_r0.0', 'adversary_0_a1_r-12.040994489467517', 'adversary_1_a2_r-12.040994489467517', 'adversary_2_a3_r-12.040994489467517', 'agent_0_a0_r0.0', 'adversary_0_a1_r-12.070526638281276', 'adversary_1_a2_r-12.070526638281276', 'adversary_2_a3_r-12.070526638281276', 'agent_0_a0_r0.0', 'adversary_0_a1_r-12.100083419730971', 'adversary_1_a2_r-12.100083419730971', 'adversary_2_a3_r-12.100083419730971', 'agent_0_a0_r0.0', 'adversary_0_a1_r-12.129662820275886', 'adversary_1_a2_r-12.129662820275886', 'adversary_2_a3_r-12.129662820275886', 'agent_0_a0_r0.0', 'adversary_0_a1_r-12.159263043320706', 'adversary_1_a2_r-12.159263043320706', 'adversary_2_a3_r-12.159263043320706', 'agent_0_a0_r0.0', 'adversary_0_a1_r-12.188882480871268', 'adversary_1_a2_r-12.188882480871268', 'adversary_2_a3_r-12.188882480871268', 'agent_0_a0_r0.0', 'adversary_0_a1_r-12.218519689471142', 'adversary_1_a2_r-12.218519689471142', 'adversary_2_a3_r-12.218519689471142', 'agent_0_a0_r0.0', 'adversary_0_a1_r-12.248173369694367', 'adversary_1_a2_r-12.248173369694367', 'adversary_2_a3_r-12.248173369694367', 'agent_0_a0_r0.0', 'adversary_0_a1_r-12.277842348604107', 'adversary_1_a2_r-12.277842348604107', 'adversary_2_a3_r-12.277842348604107', 'agent_0_a0_r0.0', 'adversary_0_a1_r-12.3075255646947', 'adversary_1_a2_r-12.3075255646947', 'adversary_2_a3_r-12.3075255646947', 'agent_0_a0_r0.0', 'adversary_0_a1_r-12.337222054920955', 'adversary_1_a2_r-12.337222054920955', 'adversary_2_a3_r-12.337222054920955', 'agent_0_a0_r0.0', 'adversary_0_a1_r-12.366930943488201', 'adversary_1_a2_r-12.366930943488201', 'adversary_2_a3_r-12.366930943488201', 'agent_0_a0_r0.0', 'adversary_0_a1_r-12.396651432133012', 'adversary_1_a2_r-12.396651432133012', 'adversary_2_a3_r-12.396651432133012', 'agent_0_a0_r0.0', 'adversary_0_a1_r-12.426382791670303', 'adversary_1_a2_r-12.426382791670303', 'adversary_2_a3_r-12.426382791670303', 'agent_0_a0_r0.0', 'adversary_0_a1_r-12.45612435461984', 'adversary_1_a3_r-12.45612435461984', 'adversary_2_a3_r-12.45612435461984', 'agent_0_a0_r0.0', 'adversary_0_a1_r-12.482867465206251', 'adversary_1_a3_r-12.482867465206251', 'adversary_2_a3_r-12.482867465206251', 'agent_0_a0_r0.0', 'adversary_0_a1_r-12.507424079717172', 'adversary_1_a3_r-12.507424079717172', 'adversary_2_a3_r-12.507424079717172', 'agent_0_a0_r0.0', 'adversary_0_a1_r-12.530417053494297', 'adversary_1_a3_r-12.530417053494297', 'adversary_2_a3_r-12.530417053494297', 'agent_0_a0_r0.0', 'adversary_0_a1_r-12.552319668409838', 'adversary_1_a3_r-12.552319668409838', 'adversary_2_a3_r-12.552319668409838', 'agent_0_a0_r0.0', 'adversary_0_a1_r-12.573489296615378', 'adversary_1_a3_r-12.573489296615378', 'adversary_2_a3_r-12.573489296615378', 'agent_0_a0_r0.0', 'adversary_0_a1_r-12.594192492524785', 'adversary_1_a3_r-12.594192492524785', 'adversary_2_a3_r-12.594192492524785', 'agent_0_a0_r0.0', 'adversary_0_a1_r-12.614604666947917', 'adversary_1_a3_r-12.614604666947917', 'adversary_2_a3_r-12.614604666947917', 'agent_0_a0_r0.0', 'adversary_0_a1_r-12.63487031714286', 'adversary_1_a3_r-12.63487031714286', 'adversary_2_a3_r-12.63487031714286', 'agent_0_a0_r0.0', 'adversary_0_a1_r-12.65509310600752', 'adversary_1_a3_r-12.65509310600752', 'adversary_2_a3_r-12.65509310600752', 'agent_0_a0_r0.0', 'adversary_0_a1_r-12.675347155828147', 'adversary_1_a3_r-12.675347155828147', 'adversary_2_a3_r-12.675347155828147', 'agent_0_a0_r0.0', 'adversary_0_a1_r-12.695685336521215', 'adversary_1_a3_r-12.695685336521215', 'adversary_2_a3_r-12.695685336521215', 'agent_0_a0_r0.0', 'adversary_0_a1_r-12.71614523305606', 'adversary_1_a3_r-12.71614523305606', 'adversary_2_a3_r-12.71614523305606', 'agent_0_a0_r0.0', 'adversary_0_a1_r-12.736753414869172', 'adversary_1_a3_r-12.736753414869172', 'adversary_2_a3_r-12.736753414869172', 'agent_0_a0_r0.0', 'adversary_0_a1_r-12.7575284873507', 'adversary_1_a3_r-12.7575284873507', 'adversary_2_a3_r-12.7575284873507', 'agent_0_a0_r0.0', 'adversary_0_a1_r-12.77848327515984', 'adversary_1_a3_r-12.77848327515984', 'adversary_2_a3_r-12.77848327515984', 'agent_0_a0_r0.0', 'adversary_0_a1_r-12.799626387187907', 'adversary_1_a3_r-12.799626387187907', 'adversary_2_a3_r-12.799626387187907', 'agent_0_a0_r0.0', 'adversary_0_a1_r-12.820963340652874', 'adversary_1_a3_r-12.983283248823378', 'adversary_2_a3_r-12.820963340652874', 'agent_0_a0_r0.0', 'adversary_0_a1_r-12.842497370445093', 'adversary_1_a3_r-13.875493029251343', 'adversary_2_a3_r-12.842497370445093', 'agent_0_a0_r0.0', 'adversary_0_a1_r-12.864230013517718', 'adversary_1_a3_r-14.12593312047625', 'adversary_2_a3_r-12.864230013517718', 'agent_0_a0_r0.0', 'adversary_0_a1_r-12.886161532380793', 'adversary_1_a3_r-14.42720878845175', 'adversary_2_a3_r-12.886161532380793', 'agent_0_a0_r0.0', 'adversary_0_a1_r-12.908291223466742', 'adversary_1_a3_r-14.790530344001644', 'adversary_2_a3_r-12.908291223466742', 'agent_0_a0_r0.0', 'adversary_0_a1_r-12.930617643092468', 'adversary_1_a3_r-15.22958954158349', 'adversary_2_a3_r-12.930617643092468', 'agent_0_a0_r0.0', 'adversary_0_a1_r-12.95313877442058', 'adversary_1_a3_r-15.761109295674883', 'adversary_2_a3_r-12.95313877442058', 'agent_0_a0_r0.0', 'adversary_0_a1_r-12.975852152147624', 'adversary_1_a3_r-16.405515031507584', 'adversary_2_a3_r-12.975852152147624', 'agent_0_a0_r0.0', 'adversary_0_a1_r-12.998754956864815', 'adversary_1_a3_r-17.187754619802174', 'adversary_2_a3_r-12.998754956864815', 'agent_0_a0_r0.0', 'adversary_0_a1_r-13.021844087609754', 'adversary_1_a3_r-18.138299806501962', 'adversary_2_a3_r-13.021844087609754', 'agent_0_a0_r0.0', 'adversary_0_a1_r-13.045116218673263', 'adversary_1_a3_r-19.294369331180746', 'adversary_2_a3_r-13.045116218673263', 'agent_0_a0_r0.0', 'adversary_0_a1_r-13.068567844969463', 'adversary_1_a3_r-20.701422823958943', 'adversary_2_a3_r-13.068567844969463', 'agent_0_a0_r0.0', 'adversary_0_a1_r-13.092195319023183', 'adversary_1_a3_r-22.414985437346544', 'adversary_2_a3_r-13.092195319023183', 'agent_0_a0_r0.0', 'adversary_0_a1_r-13.115994881734967', 'adversary_1_a3_r-23.115994881734967', 'adversary_2_a3_r-13.115994881734967', 'agent_0_a0_r0.0', 'adversary_0_a1_r-13.139962688448856', 'adversary_1_a3_r-23.139962688448854', 'adversary_2_a3_r-13.139962688448856', 'agent_0_a0_r0.0', 'adversary_0_a1_r-13.164094831398529', 'adversary_1_a3_r-23.16409483139853', 'adversary_2_a3_r-13.164094831398529', 'agent_0_a0_r0.0', 'adversary_0_a1_r-13.188387359290303', 'adversary_1_a3_r-23.188387359290303', 'adversary_2_a3_r-13.188387359290303', 'agent_0_a0_r0.0', 'adversary_0_a1_r-13.21283629455943', 'adversary_1_a3_r-23.21283629455943', 'adversary_2_a3_r-13.21283629455943', 'agent_0_a0_r0.0', 'adversary_0_a1_r-13.237437648681215', 'adversary_1_a3_r-23.237437648681215', 'adversary_2_a3_r-13.237437648681215', 'agent_0_a0_r0.0', 'adversary_0_a1_r-13.26218743581161', 'adversary_1_a3_r-23.26218743581161', 'adversary_2_a3_r-13.26218743581161', 'agent_0_a0_r0.0', 'adversary_0_a1_r-13.28708168495864', 'adversary_1_a3_r-23.28708168495864', 'adversary_2_a3_r-13.28708168495864', 'agent_0_a0_r0.0', 'adversary_0_a1_r-13.312116450836385', 'adversary_1_a3_r-23.312116450836385', 'adversary_2_a3_r-13.312116450836385', 'agent_0_a0_r0.0', 'adversary_0_a1_r-13.337287823520004', 'adversary_1_a3_r-23.337287823520004', 'adversary_2_a3_r-13.337287823520004', 'agent_0_a0_r0.0', 'adversary_0_a1_r-13.362591936998244', 'adversary_1_a3_r-23.362591936998243', 'adversary_2_a3_r-13.362591936998244', 'agent_0_a0_r0.0', 'adversary_0_a1_r-13.388024976705578', 'adversary_1_a3_r-23.38802497670558', 'adversary_2_a3_r-13.388024976705578', 'agent_0_a0_r0.0', 'adversary_0_a1_r-13.4135831861067', 'adversary_1_a3_r-23.4135831861067', 'adversary_2_a3_r-13.4135831861067', 'agent_0_a0_r0.0', 'adversary_0_a1_r-13.439262872400064', 'adversary_1_a3_r-23.439262872400064', 'adversary_2_a3_r-13.439262872400064', 'agent_0_a0_r0.0', 'adversary_0_a1_r-13.465060411403089', 'adversary_1_a3_r-23.465060411403087', 'adversary_2_a3_r-13.465060411403089', 'agent_0_a0_r0.0', 'adversary_0_a1_r-13.49097225167881', 'adversary_1_a3_r-23.490972251678812', 'adversary_2_a3_r-13.49097225167881', 'agent_0_a0_r0.0', 'adversary_0_a1_r-13.516994917961505', 'adversary_1_a3_r-23.516994917961505', 'adversary_2_a3_r-13.516994917961505', 'agent_0_a0_r0.0', 'adversary_0_a1_r-13.543125013936859', 'adversary_1_a3_r-23.54312501393686', 'adversary_2_a3_r-13.543125013936859', 'agent_0_a0_r0.0', 'adversary_0_a1_r-13.569359224430372', 'adversary_1_a3_r-23.56935922443037', 'adversary_2_a3_r-13.569359224430372', 'agent_0_a0_r0.0', 'adversary_0_a1_r-13.595694317055724', 'adversary_1_a3_r-23.595694317055724', 'adversary_2_a3_r-13.595694317055724', 'agent_0_a0_r0.0', 'adversary_0_a1_r-13.622127143372715', 'adversary_1_a3_r-23.622127143372715', 'adversary_2_a3_r-13.622127143372715', 'agent_0_a0_r0.0', 'adversary_0_a1_r-13.648654639602203', 'adversary_1_a3_r-23.648654639602203', 'adversary_2_a3_r-13.648654639602203', 'agent_0_a0_r0.0', 'adversary_0_a1_r-13.675273826943043', 'adversary_1_a3_r-23.67527382694304', 'adversary_2_a3_r-13.675273826943043', 'agent_0_a0_r0.0', 'adversary_0_a1_r-13.701981811533592', 'adversary_1_a3_r-23.701981811533592', 'adversary_2_a3_r-13.701981811533592', 'agent_0_a0_r0.0', 'adversary_0_a1_r-13.728775784097783', 'adversary_1_a3_r-23.728775784097785', 'adversary_2_a3_r-13.728775784097783', 'agent_0_a0_r0.0', 'adversary_0_a1_r-13.755653019313115', 'adversary_1_a3_r-23.755653019313115', 'adversary_2_a3_r-13.755653019313115', 'agent_0_a0_r0.0', 'adversary_0_a1_r-13.7826108749354', 'adversary_1_a3_r-23.7826108749354', 'adversary_2_a3_r-13.7826108749354', 'agent_0_a0_r0.0', 'adversary_0_a1_r-13.809646790712375', 'adversary_1_a3_r-23.809646790712375', 'adversary_2_a3_r-13.809646790712375', 'agent_0_a0_r0.0', 'adversary_0_a1_r-13.836758287115867', 'adversary_1_a3_r-23.836758287115867', 'adversary_2_a3_r-13.836758287115867', 'agent_0_a0_r0.0', 'adversary_0_a1_r-13.863942963919644', 'adversary_1_a3_r-23.863942963919644', 'adversary_2_a3_r-13.863942963919644', 'agent_0_a0_r0.0', 'adversary_0_a1_r-13.891198498647736', 'adversary_1_a3_r-23.891198498647736', 'adversary_2_a3_r-13.891198498647736', 'agent_0_a0_r0.0', 'adversary_0_a1_r-13.918522644915734', 'adversary_1_a3_r-23.918522644915733', 'adversary_2_a3_r-13.918522644915734', 'agent_0_a0_r0.0', 'adversary_0_a1_r-13.945913230685392', 'adversary_1_a3_r-23.94591323068539', 'adversary_2_a3_r-13.945913230685392', 'agent_0_a0_r0.0', 'adversary_0_a1_r-13.973368156450832', 'adversary_1_a3_r-23.97336815645083', 'adversary_2_a3_r-13.973368156450832', 'agent_0_a0_r0.0', 'adversary_0_a1_r-14.000885393372771', 'adversary_1_a3_r-24.00088539337277', 'adversary_2_a3_r-14.000885393372771', 'agent_0_a0_r0.0', 'adversary_0_a1_r-14.028462981375352', 'adversary_1_a3_r-24.028462981375352', 'adversary_2_a3_r-14.028462981375352', 'agent_0_a0_r0.0', 'adversary_0_a1_r-14.056099027218554', 'adversary_1_a3_r-24.056099027218554', 'adversary_2_a3_r-14.056099027218554', 'agent_0_a0_r0.0', 'adversary_0_a1_r-14.083791702557654', 'adversary_1_a3_r-24.083791702557654', 'adversary_2_a3_r-14.083791702557654', 'agent_0_a0_r0.0', 'adversary_0_a1_r-14.111539241999733', 'adversary_1_a3_r-24.111539241999733', 'adversary_2_a3_r-14.111539241999733', 'agent_0_a0_r0.0', 'adversary_0_a1_r-14.139339941166046', 'adversary_1_a3_r-24.139339941166046', 'adversary_2_a3_r-14.139339941166046', 'agent_0_a0_r0.0', 'adversary_0_a1_r-14.167192154767829', 'adversary_1_a3_r-24.16719215476783', 'adversary_2_a3_r-14.167192154767829', 'agent_0_a0_r0.0', 'adversary_0_a1_r-14.195094294702105', 'adversary_1_a3_r-24.195094294702105', 'adversary_2_a3_r-14.195094294702105', 'agent_0_a0_r0.0', 'adversary_0_a1_r-14.223044828173077', 'adversary_1_a3_r-24.223044828173077', 'adversary_2_a3_r-14.223044828173077', 'agent_0_a0_r0.0', 'adversary_0_a1_r-14.251042275843805', 'adversary_1_a3_r-24.251042275843805', 'adversary_2_a3_r-14.251042275843805', 'agent_0_a0_r0.0', 'adversary_0_a1_r-14.279085210022199', 'adversary_1_a3_r-24.2790852100222', 'adversary_2_a3_r-14.279085210022199', 'agent_0_a0_r0.0', 'adversary_0_a1_r-14.30717225288451', 'adversary_1_a3_r-24.30717225288451', 'adversary_2_a3_r-14.30717225288451', 'agent_0_a0_r0.0', 'adversary_0_a1_r-14.335302074739007', 'adversary_1_a3_r-24.335302074739005', 'adversary_2_a3_r-14.335302074739007', 'agent_0_a0_r0.0', 'adversary_0_a1_r-14.363473392331944', 'adversary_1_a3_r-24.363473392331944', 'adversary_2_a3_r-14.363473392331944', 'agent_0_a0_r0.0', 'adversary_0_a1_r-14.391684967197417', 'adversary_1_a3_r-24.391684967197417', 'adversary_2_a3_r-14.391684967197417', 'agent_0_a0_r0.0', 'adversary_0_a1_r-14.41993560405231', 'adversary_1_a3_r-24.41993560405231', 'adversary_2_a3_r-14.41993560405231', 'agent_0_a0_r0.0', 'adversary_0_a1_r-14.448224149237117', 'adversary_1_a3_r-24.448224149237117', 'adversary_2_a3_r-14.448224149237117', 'agent_0_a0_r0.0', 'adversary_0_a1_r-14.47654948920319', 'adversary_1_a3_r-24.47654948920319', 'adversary_2_a3_r-14.47654948920319', 'agent_0_a0_r0.0', 'adversary_0_a1_r-14.50491054904652', 'adversary_1_a3_r-24.50491054904652', 'adversary_2_a3_r-14.50491054904652', 'agent_0_a0_r0.0', 'adversary_0_a1_r-14.533306291088103', 'adversary_1_a3_r-24.533306291088103', 'adversary_2_a3_r-14.533306291088103', 'agent_0_a0_r0.0', 'adversary_0_a1_r-14.561735713500543', 'adversary_1_a3_r-24.561735713500543', 'adversary_2_a3_r-14.561735713500543', 'agent_0_a0_r0.0', 'adversary_0_a1_r-14.590197848980537', 'adversary_1_a3_r-24.590197848980537', 'adversary_2_a3_r-14.590197848980537', 'agent_0_a0_r0.0', 'adversary_0_a1_r-14.618691763466584', 'adversary_1_a3_r-24.618691763466586', 'adversary_2_a3_r-14.618691763466584', 'agent_0_a0_r0.0', 'adversary_0_a1_r-14.647216554901235', 'adversary_1_a3_r-24.647216554901235', 'adversary_2_a3_r-14.647216554901235', 'agent_0_a0_r0.0', 'adversary_0_a1_r-14.675771352037032', 'adversary_1_a3_r-24.67577135203703', 'adversary_2_a3_r-14.675771352037032', 'agent_0_a0_r0.0', 'adversary_0_a1_r-14.70435531328525', 'adversary_1_a3_r-24.704355313285248', 'adversary_2_a3_r-14.70435531328525', 'agent_0_a0_r0.0', 'adversary_0_a1_r-14.732967625606424', 'adversary_1_a3_r-24.732967625606424', 'adversary_2_a3_r-14.732967625606424', 'agent_0_a0_r0.0', 'adversary_0_a1_r-14.761607503441626', 'adversary_1_a3_r-24.761607503441624', 'adversary_2_a3_r-14.761607503441626', 'agent_0_a0_r0.0', 'adversary_0_a1_r-14.790274187683433', 'adversary_1_a3_r-24.790274187683433', 'adversary_2_a3_r-14.790274187683433', 'agent_0_a0_r0.0', 'adversary_0_a1_r-14.818966944685435', 'adversary_1_a3_r-24.818966944685435', 'adversary_2_a3_r-14.818966944685435', 'agent_0_a0_r0.0', 'adversary_0_a1_r-14.847685065309154', 'adversary_1_a3_r-24.847685065309154', 'adversary_2_a3_r-14.847685065309154', 'agent_0_a0_r0.0', 'adversary_0_a1_r-14.876427864007244', 'adversary_1_a3_r-24.876427864007244', 'adversary_2_a3_r-14.876427864007244', 'agent_0_a0_r0.0', 'adversary_0_a1_r-14.905194677941799', 'adversary_1_a3_r-24.9051946779418', 'adversary_2_a3_r-14.905194677941799', 'agent_0_a0_r0.0', 'adversary_0_a1_r-14.933984866136612', 'adversary_1_a3_r-24.933984866136612', 'adversary_2_a3_r-14.933984866136612', 'agent_0_a0_r0.0', 'adversary_0_a1_r-14.962797808662259', 'adversary_1_a3_r-24.96279780866226', 'adversary_2_a3_r-14.962797808662259', 'agent_0_a0_r0.0', 'adversary_0_a1_r-14.991632905852857', 'adversary_1_a3_r-24.991632905852857', 'adversary_2_a3_r-14.991632905852857', 'agent_0_a0_r0.0', 'adversary_0_a1_r-15.020489577553366', 'adversary_1_a3_r-25.020489577553366', 'adversary_2_a3_r-15.020489577553366', 'agent_0_a0_r0.0']\n"
     ]
    }
   ],
   "source": [
    "def test():\n",
    "    agent_count = 4\n",
    "    current_cycle = 0\n",
    "    action_queue = []\n",
    "    \n",
    "    full_report = []\n",
    "    env = env_creator(render_mode=\"rgb_array\", cycles=cycles)\n",
    "    env.reset()\n",
    "    for agent in env.agent_iter():\n",
    "        if current_cycle >= cycles * agent_count:\n",
    "            break\n",
    "        #full_report.append({\n",
    "        #    \"adversary_0\": {\"action\": adversary_0_action},\n",
    "        #    \"adversary_1\": {\"action\": adversary_1_action},\n",
    "        #    \"adversary_2\": {\"action\": adversary_2_action},\n",
    "        #    \"agent_0\": {\"action\": good_agent_action}\n",
    "        #})\n",
    "        env.render()\n",
    "        # obs, reward, done, info = env.last()\n",
    "        observation, cumulative_rewards, terminations, truncations, infos = env.last()\n",
    "        #print(observation, cumulative_rewards, terminations, truncations, infos)\n",
    "        if agent == \"agent_0\":\n",
    "            action = 0#random.choice([0, 1, 2, 3, 4])\n",
    "        else:\n",
    "            dqn.backward(cumulative_rewards, terminations)\n",
    "            action = dqn.forward(observation)\n",
    "            #if abs(cumulative_rewards) > 0.01:\n",
    "                #print(\"URCA!\", agent, cumulative_rewards)\n",
    "        env.step(action)\n",
    "        current_cycle += 1\n",
    "        full_report.append(agent + \"_a\" + str(action) +  \"_r\" + str(cumulative_rewards))\n",
    "        #full_report.append(\n",
    "        #full_report[-1][agent][\"observation\"] = observation\n",
    "        #full_report[-1][agent][\"cumulative_rewards\"] = cumulative_rewards\n",
    "        #full_report[-1][agent][\"terminations\"] = terminations\n",
    "        #full_report[-1][agent][\"truncations\"] = truncations\n",
    "        #full_report[-1][agent][\"infos\"] = infos\n",
    "        \n",
    "    else:\n",
    "        env.close()\n",
    "    return full_report\n",
    "\n",
    "full_report = test()\n",
    "print(full_report)"
   ]
  },
  {
   "cell_type": "markdown",
   "id": "f00ec855-0a06-450e-bc29-d4ab09022142",
   "metadata": {},
   "source": [
    "# USING RAY"
   ]
  },
  {
   "cell_type": "code",
   "execution_count": 7,
   "id": "eaf19b19-c267-4c71-a374-6fc30f26f872",
   "metadata": {},
   "outputs": [],
   "source": [
    "@ray.remote\n",
    "def test_run_env():\n",
    "    dqn = DQNAgent(model=model, nb_actions=nb_actions, policy=policy, memory=memory,\n",
    "               processor=processor, nb_steps_warmup=50000, gamma=.99, target_model_update=10000,\n",
    "               train_interval=4, delta_clip=1.)\n",
    "    dqn.compile(Adam(learning_rate=.00025), metrics=['mae'])\n",
    "    \n",
    "    cycles = 20\n",
    "    agent_count = 4\n",
    "    current_cycle = 0\n",
    "    action_queue = []\n",
    "    \n",
    "    full_report = []\n",
    "    env = env_creator(render_mode=\"rgb_array\", cycles=cycles)\n",
    "    env.reset()\n",
    "    for agent in env.agent_iter():\n",
    "        if current_cycle >= cycles * agent_count:\n",
    "            break\n",
    "        #full_report.append({\n",
    "        #    \"adversary_0\": {\"action\": adversary_0_action},\n",
    "        #    \"adversary_1\": {\"action\": adversary_1_action},\n",
    "        #    \"adversary_2\": {\"action\": adversary_2_action},\n",
    "        #    \"agent_0\": {\"action\": good_agent_action}\n",
    "        #})\n",
    "        env.render()\n",
    "        # obs, reward, done, info = env.last()\n",
    "        observation, cumulative_rewards, terminations, truncations, infos = env.last()\n",
    "        #print(observation, cumulative_rewards, terminations, truncations, infos)\n",
    "        if agent == \"agent_0\":\n",
    "            action = random.choice([0, 1, 2, 3, 4])\n",
    "        else:\n",
    "            action = dqn.forward(observation)\n",
    "        env.step(action)\n",
    "        current_cycle += 1\n",
    "        full_report.append(agent + \"_a\" + str(action) +  \"_r\" + str(cumulative_rewards))\n",
    "        #full_report.append(\n",
    "        #full_report[-1][agent][\"observation\"] = observation\n",
    "        #full_report[-1][agent][\"cumulative_rewards\"] = cumulative_rewards\n",
    "        #full_report[-1][agent][\"terminations\"] = terminations\n",
    "        #full_report[-1][agent][\"truncations\"] = truncations\n",
    "        #full_report[-1][agent][\"infos\"] = infos\n",
    "        \n",
    "    else:\n",
    "        env.close()\n",
    "    return full_report[:8], dqn"
   ]
  },
  {
   "cell_type": "code",
   "execution_count": 13,
   "id": "8ff0371a-afe2-451a-9abd-19d7aea8492b",
   "metadata": {},
   "outputs": [
    {
     "ename": "PermissionDeniedError",
     "evalue": "Failed to delete a file: C:\\Users\\rober\\AppData\\Local\\Temp\\tmp05falolr/variables.h5; Permission denied",
     "output_type": "error",
     "traceback": [
      "\u001b[1;31m---------------------------------------------------------------------------\u001b[0m",
      "\u001b[1;31mNotImplementedError\u001b[0m                       Traceback (most recent call last)",
      "File \u001b[1;32mD:\\Study_Documents\\thesis\\env\\lib\\site-packages\\keras\\saving\\experimental\\saving_lib.py:153\u001b[0m, in \u001b[0;36msave_model\u001b[1;34m(model, filepath)\u001b[0m\n\u001b[0;32m    152\u001b[0m \u001b[38;5;28;01mexcept\u001b[39;00m \u001b[38;5;167;01mException\u001b[39;00m \u001b[38;5;28;01mas\u001b[39;00m e:\n\u001b[1;32m--> 153\u001b[0m     \u001b[38;5;28;01mraise\u001b[39;00m e\n\u001b[0;32m    154\u001b[0m \u001b[38;5;28;01mfinally\u001b[39;00m:\n",
      "File \u001b[1;32mD:\\Study_Documents\\thesis\\env\\lib\\site-packages\\keras\\saving\\experimental\\saving_lib.py:138\u001b[0m, in \u001b[0;36msave_model\u001b[1;34m(model, filepath)\u001b[0m\n\u001b[0;32m    137\u001b[0m assets_dir \u001b[38;5;241m=\u001b[39m tf\u001b[38;5;241m.\u001b[39mio\u001b[38;5;241m.\u001b[39mgfile\u001b[38;5;241m.\u001b[39mjoin(temp_path, _ASSETS_DIRNAME)\n\u001b[1;32m--> 138\u001b[0m \u001b[43m_save_state\u001b[49m\u001b[43m(\u001b[49m\n\u001b[0;32m    139\u001b[0m \u001b[43m    \u001b[49m\u001b[43mmodel\u001b[49m\u001b[43m,\u001b[49m\n\u001b[0;32m    140\u001b[0m \u001b[43m    \u001b[49m\u001b[43mweights_handler\u001b[49m\u001b[38;5;241;43m=\u001b[39;49m\u001b[43mH5IOHandler\u001b[49m\u001b[43m(\u001b[49m\u001b[43mh5_file\u001b[49m\u001b[43m)\u001b[49m\u001b[43m,\u001b[49m\n\u001b[0;32m    141\u001b[0m \u001b[43m    \u001b[49m\u001b[43massets_handler\u001b[49m\u001b[38;5;241;43m=\u001b[39;49m\u001b[43mDiskIOHandler\u001b[49m\u001b[43m(\u001b[49m\u001b[43massets_dir\u001b[49m\u001b[43m)\u001b[49m\u001b[43m,\u001b[49m\n\u001b[0;32m    142\u001b[0m \u001b[43m    \u001b[49m\u001b[43minner_path\u001b[49m\u001b[38;5;241;43m=\u001b[39;49m\u001b[38;5;124;43m\"\u001b[39;49m\u001b[38;5;124;43m\"\u001b[39;49m\u001b[43m,\u001b[49m\n\u001b[0;32m    143\u001b[0m \u001b[43m    \u001b[49m\u001b[43mvisited_trackables\u001b[49m\u001b[38;5;241;43m=\u001b[39;49m\u001b[38;5;28;43mset\u001b[39;49m\u001b[43m(\u001b[49m\u001b[43m)\u001b[49m\u001b[43m,\u001b[49m\n\u001b[0;32m    144\u001b[0m \u001b[43m\u001b[49m\u001b[43m)\u001b[49m\n\u001b[0;32m    145\u001b[0m _print_h5_file(h5_file, action\u001b[38;5;241m=\u001b[39m\u001b[38;5;124m\"\u001b[39m\u001b[38;5;124msaving\u001b[39m\u001b[38;5;124m\"\u001b[39m)\n",
      "File \u001b[1;32mD:\\Study_Documents\\thesis\\env\\lib\\site-packages\\keras\\saving\\experimental\\saving_lib.py:248\u001b[0m, in \u001b[0;36m_save_state\u001b[1;34m(trackable, weights_handler, assets_handler, inner_path, visited_trackables)\u001b[0m\n\u001b[0;32m    247\u001b[0m \u001b[38;5;28;01melif\u001b[39;00m \u001b[38;5;28misinstance\u001b[39m(child_obj, (\u001b[38;5;28mlist\u001b[39m, \u001b[38;5;28mdict\u001b[39m, \u001b[38;5;28mtuple\u001b[39m)):\n\u001b[1;32m--> 248\u001b[0m     \u001b[43m_save_container_state\u001b[49m\u001b[43m(\u001b[49m\n\u001b[0;32m    249\u001b[0m \u001b[43m        \u001b[49m\u001b[43mchild_obj\u001b[49m\u001b[43m,\u001b[49m\n\u001b[0;32m    250\u001b[0m \u001b[43m        \u001b[49m\u001b[43mweights_handler\u001b[49m\u001b[43m,\u001b[49m\n\u001b[0;32m    251\u001b[0m \u001b[43m        \u001b[49m\u001b[43massets_handler\u001b[49m\u001b[43m,\u001b[49m\n\u001b[0;32m    252\u001b[0m \u001b[43m        \u001b[49m\u001b[43minner_path\u001b[49m\u001b[38;5;241;43m=\u001b[39;49m\u001b[43mtf\u001b[49m\u001b[38;5;241;43m.\u001b[39;49m\u001b[43mio\u001b[49m\u001b[38;5;241;43m.\u001b[39;49m\u001b[43mgfile\u001b[49m\u001b[38;5;241;43m.\u001b[39;49m\u001b[43mjoin\u001b[49m\u001b[43m(\u001b[49m\u001b[43minner_path\u001b[49m\u001b[43m,\u001b[49m\u001b[43m \u001b[49m\u001b[43mchild_attr\u001b[49m\u001b[43m)\u001b[49m\u001b[43m,\u001b[49m\n\u001b[0;32m    253\u001b[0m \u001b[43m        \u001b[49m\u001b[43mvisited_trackables\u001b[49m\u001b[38;5;241;43m=\u001b[39;49m\u001b[43mvisited_trackables\u001b[49m\u001b[43m,\u001b[49m\n\u001b[0;32m    254\u001b[0m \u001b[43m    \u001b[49m\u001b[43m)\u001b[49m\n",
      "File \u001b[1;32mD:\\Study_Documents\\thesis\\env\\lib\\site-packages\\keras\\saving\\experimental\\saving_lib.py:312\u001b[0m, in \u001b[0;36m_save_container_state\u001b[1;34m(container, weights_handler, assets_handler, inner_path, visited_trackables)\u001b[0m\n\u001b[0;32m    311\u001b[0m     used_names[name] \u001b[38;5;241m=\u001b[39m \u001b[38;5;241m0\u001b[39m\n\u001b[1;32m--> 312\u001b[0m \u001b[43m_save_state\u001b[49m\u001b[43m(\u001b[49m\n\u001b[0;32m    313\u001b[0m \u001b[43m    \u001b[49m\u001b[43mtrackable\u001b[49m\u001b[43m,\u001b[49m\n\u001b[0;32m    314\u001b[0m \u001b[43m    \u001b[49m\u001b[43mweights_handler\u001b[49m\u001b[43m,\u001b[49m\n\u001b[0;32m    315\u001b[0m \u001b[43m    \u001b[49m\u001b[43massets_handler\u001b[49m\u001b[43m,\u001b[49m\n\u001b[0;32m    316\u001b[0m \u001b[43m    \u001b[49m\u001b[43minner_path\u001b[49m\u001b[38;5;241;43m=\u001b[39;49m\u001b[43mtf\u001b[49m\u001b[38;5;241;43m.\u001b[39;49m\u001b[43mio\u001b[49m\u001b[38;5;241;43m.\u001b[39;49m\u001b[43mgfile\u001b[49m\u001b[38;5;241;43m.\u001b[39;49m\u001b[43mjoin\u001b[49m\u001b[43m(\u001b[49m\u001b[43minner_path\u001b[49m\u001b[43m,\u001b[49m\u001b[43m \u001b[49m\u001b[43mname\u001b[49m\u001b[43m)\u001b[49m\u001b[43m,\u001b[49m\n\u001b[0;32m    317\u001b[0m \u001b[43m    \u001b[49m\u001b[43mvisited_trackables\u001b[49m\u001b[38;5;241;43m=\u001b[39;49m\u001b[43mvisited_trackables\u001b[49m\u001b[43m,\u001b[49m\n\u001b[0;32m    318\u001b[0m \u001b[43m\u001b[49m\u001b[43m)\u001b[49m\n",
      "File \u001b[1;32mD:\\Study_Documents\\thesis\\env\\lib\\site-packages\\keras\\saving\\experimental\\saving_lib.py:224\u001b[0m, in \u001b[0;36m_save_state\u001b[1;34m(trackable, weights_handler, assets_handler, inner_path, visited_trackables)\u001b[0m\n\u001b[0;32m    223\u001b[0m \u001b[38;5;28;01mif\u001b[39;00m \u001b[38;5;28mhasattr\u001b[39m(trackable, \u001b[38;5;124m\"\u001b[39m\u001b[38;5;124m_save_own_variables\u001b[39m\u001b[38;5;124m\"\u001b[39m):\n\u001b[1;32m--> 224\u001b[0m     \u001b[43mtrackable\u001b[49m\u001b[38;5;241;43m.\u001b[39;49m\u001b[43m_save_own_variables\u001b[49m\u001b[43m(\u001b[49m\u001b[43mweights_handler\u001b[49m\u001b[38;5;241;43m.\u001b[39;49m\u001b[43mmake\u001b[49m\u001b[43m(\u001b[49m\u001b[43minner_path\u001b[49m\u001b[43m)\u001b[49m\u001b[43m)\u001b[49m\n\u001b[0;32m    225\u001b[0m \u001b[38;5;28;01mif\u001b[39;00m \u001b[38;5;28mhasattr\u001b[39m(trackable, \u001b[38;5;124m\"\u001b[39m\u001b[38;5;124m_save_assets\u001b[39m\u001b[38;5;124m\"\u001b[39m):\n",
      "File \u001b[1;32mD:\\Study_Documents\\thesis\\env\\lib\\site-packages\\keras\\engine\\base_layer.py:3433\u001b[0m, in \u001b[0;36mLayer._save_own_variables\u001b[1;34m(self, store)\u001b[0m\n\u001b[0;32m   3432\u001b[0m \u001b[38;5;28;01mfor\u001b[39;00m i, v \u001b[38;5;129;01min\u001b[39;00m \u001b[38;5;28menumerate\u001b[39m(all_vars):\n\u001b[1;32m-> 3433\u001b[0m     store[\u001b[38;5;124mf\u001b[39m\u001b[38;5;124m\"\u001b[39m\u001b[38;5;132;01m{\u001b[39;00mi\u001b[38;5;132;01m}\u001b[39;00m\u001b[38;5;124m\"\u001b[39m] \u001b[38;5;241m=\u001b[39m \u001b[43mv\u001b[49m\u001b[38;5;241;43m.\u001b[39;49m\u001b[43mnumpy\u001b[49m\u001b[43m(\u001b[49m\u001b[43m)\u001b[49m\n",
      "File \u001b[1;32mD:\\Study_Documents\\thesis\\env\\lib\\site-packages\\tensorflow\\python\\ops\\resource_variable_ops.py:640\u001b[0m, in \u001b[0;36mBaseResourceVariable.numpy\u001b[1;34m(self)\u001b[0m\n\u001b[0;32m    639\u001b[0m   \u001b[38;5;28;01mreturn\u001b[39;00m \u001b[38;5;28mself\u001b[39m\u001b[38;5;241m.\u001b[39mread_value()\u001b[38;5;241m.\u001b[39mnumpy()\n\u001b[1;32m--> 640\u001b[0m \u001b[38;5;28;01mraise\u001b[39;00m \u001b[38;5;167;01mNotImplementedError\u001b[39;00m(\n\u001b[0;32m    641\u001b[0m     \u001b[38;5;124m\"\u001b[39m\u001b[38;5;124mnumpy() is only available when eager execution is enabled.\u001b[39m\u001b[38;5;124m\"\u001b[39m)\n",
      "\u001b[1;31mNotImplementedError\u001b[0m: numpy() is only available when eager execution is enabled.",
      "\nDuring handling of the above exception, another exception occurred:\n",
      "\u001b[1;31mPermissionDeniedError\u001b[0m                     Traceback (most recent call last)",
      "Cell \u001b[1;32mIn[13], line 4\u001b[0m\n\u001b[0;32m      2\u001b[0m task_handles \u001b[38;5;241m=\u001b[39m [] \n\u001b[0;32m      3\u001b[0m \u001b[38;5;28;01mfor\u001b[39;00m _ \u001b[38;5;129;01min\u001b[39;00m \u001b[38;5;28mrange\u001b[39m(batches_num):\n\u001b[1;32m----> 4\u001b[0m     task_handles\u001b[38;5;241m.\u001b[39mappend(\u001b[43mtest_run_env\u001b[49m\u001b[38;5;241;43m.\u001b[39;49m\u001b[43mremote\u001b[49m\u001b[43m(\u001b[49m\u001b[43m)\u001b[49m)\n\u001b[0;32m      6\u001b[0m output \u001b[38;5;241m=\u001b[39m ray\u001b[38;5;241m.\u001b[39mget(task_handles)\n\u001b[0;32m      7\u001b[0m \u001b[38;5;28mprint\u001b[39m(output)\n",
      "File \u001b[1;32mD:\\Study_Documents\\thesis\\env\\lib\\site-packages\\ray\\remote_function.py:129\u001b[0m, in \u001b[0;36mRemoteFunction.__init__.<locals>._remote_proxy\u001b[1;34m(*args, **kwargs)\u001b[0m\n\u001b[0;32m    127\u001b[0m \u001b[38;5;129m@wraps\u001b[39m(function)\n\u001b[0;32m    128\u001b[0m \u001b[38;5;28;01mdef\u001b[39;00m \u001b[38;5;21m_remote_proxy\u001b[39m(\u001b[38;5;241m*\u001b[39margs, \u001b[38;5;241m*\u001b[39m\u001b[38;5;241m*\u001b[39mkwargs):\n\u001b[1;32m--> 129\u001b[0m     \u001b[38;5;28;01mreturn\u001b[39;00m \u001b[38;5;28mself\u001b[39m\u001b[38;5;241m.\u001b[39m_remote(args\u001b[38;5;241m=\u001b[39margs, kwargs\u001b[38;5;241m=\u001b[39mkwargs, \u001b[38;5;241m*\u001b[39m\u001b[38;5;241m*\u001b[39m\u001b[38;5;28mself\u001b[39m\u001b[38;5;241m.\u001b[39m_default_options)\n",
      "File \u001b[1;32mD:\\Study_Documents\\thesis\\env\\lib\\site-packages\\ray\\util\\tracing\\tracing_helper.py:307\u001b[0m, in \u001b[0;36m_tracing_task_invocation.<locals>._invocation_remote_span\u001b[1;34m(self, args, kwargs, *_args, **_kwargs)\u001b[0m\n\u001b[0;32m    305\u001b[0m     \u001b[38;5;28;01mif\u001b[39;00m kwargs \u001b[38;5;129;01mis\u001b[39;00m \u001b[38;5;129;01mnot\u001b[39;00m \u001b[38;5;28;01mNone\u001b[39;00m:\n\u001b[0;32m    306\u001b[0m         \u001b[38;5;28;01massert\u001b[39;00m \u001b[38;5;124m\"\u001b[39m\u001b[38;5;124m_ray_trace_ctx\u001b[39m\u001b[38;5;124m\"\u001b[39m \u001b[38;5;129;01mnot\u001b[39;00m \u001b[38;5;129;01min\u001b[39;00m kwargs\n\u001b[1;32m--> 307\u001b[0m     \u001b[38;5;28;01mreturn\u001b[39;00m method(\u001b[38;5;28mself\u001b[39m, args, kwargs, \u001b[38;5;241m*\u001b[39m_args, \u001b[38;5;241m*\u001b[39m\u001b[38;5;241m*\u001b[39m_kwargs)\n\u001b[0;32m    309\u001b[0m \u001b[38;5;28;01massert\u001b[39;00m \u001b[38;5;124m\"\u001b[39m\u001b[38;5;124m_ray_trace_ctx\u001b[39m\u001b[38;5;124m\"\u001b[39m \u001b[38;5;129;01mnot\u001b[39;00m \u001b[38;5;129;01min\u001b[39;00m kwargs\n\u001b[0;32m    311\u001b[0m tracer \u001b[38;5;241m=\u001b[39m _opentelemetry\u001b[38;5;241m.\u001b[39mtrace\u001b[38;5;241m.\u001b[39mget_tracer(\u001b[38;5;18m__name__\u001b[39m)\n",
      "File \u001b[1;32mD:\\Study_Documents\\thesis\\env\\lib\\site-packages\\ray\\remote_function.py:271\u001b[0m, in \u001b[0;36mRemoteFunction._remote\u001b[1;34m(self, args, kwargs, **task_options)\u001b[0m\n\u001b[0;32m    261\u001b[0m \u001b[38;5;66;03m# There is an interesting question here. If the remote function is\u001b[39;00m\n\u001b[0;32m    262\u001b[0m \u001b[38;5;66;03m# used by a subsequent driver (in the same script), should the\u001b[39;00m\n\u001b[0;32m    263\u001b[0m \u001b[38;5;66;03m# second driver pickle the function again? If yes, then the remote\u001b[39;00m\n\u001b[1;32m   (...)\u001b[0m\n\u001b[0;32m    268\u001b[0m \u001b[38;5;66;03m# first driver. This is an argument for repickling the function,\u001b[39;00m\n\u001b[0;32m    269\u001b[0m \u001b[38;5;66;03m# which we do here.\u001b[39;00m\n\u001b[0;32m    270\u001b[0m \u001b[38;5;28;01mtry\u001b[39;00m:\n\u001b[1;32m--> 271\u001b[0m     \u001b[38;5;28mself\u001b[39m\u001b[38;5;241m.\u001b[39m_pickled_function \u001b[38;5;241m=\u001b[39m \u001b[43mpickle\u001b[49m\u001b[38;5;241;43m.\u001b[39;49m\u001b[43mdumps\u001b[49m\u001b[43m(\u001b[49m\u001b[38;5;28;43mself\u001b[39;49m\u001b[38;5;241;43m.\u001b[39;49m\u001b[43m_function\u001b[49m\u001b[43m)\u001b[49m\n\u001b[0;32m    272\u001b[0m \u001b[38;5;28;01mexcept\u001b[39;00m \u001b[38;5;167;01mTypeError\u001b[39;00m \u001b[38;5;28;01mas\u001b[39;00m e:\n\u001b[0;32m    273\u001b[0m     msg \u001b[38;5;241m=\u001b[39m (\n\u001b[0;32m    274\u001b[0m         \u001b[38;5;124m\"\u001b[39m\u001b[38;5;124mCould not serialize the function \u001b[39m\u001b[38;5;124m\"\u001b[39m\n\u001b[0;32m    275\u001b[0m         \u001b[38;5;124mf\u001b[39m\u001b[38;5;124m\"\u001b[39m\u001b[38;5;132;01m{\u001b[39;00m\u001b[38;5;28mself\u001b[39m\u001b[38;5;241m.\u001b[39m_function_descriptor\u001b[38;5;241m.\u001b[39mrepr\u001b[38;5;132;01m}\u001b[39;00m\u001b[38;5;124m. Check \u001b[39m\u001b[38;5;124m\"\u001b[39m\n\u001b[0;32m    276\u001b[0m         \u001b[38;5;124m\"\u001b[39m\u001b[38;5;124mhttps://docs.ray.io/en/master/ray-core/objects/serialization.html#troubleshooting \u001b[39m\u001b[38;5;124m\"\u001b[39m  \u001b[38;5;66;03m# noqa\u001b[39;00m\n\u001b[0;32m    277\u001b[0m         \u001b[38;5;124m\"\u001b[39m\u001b[38;5;124mfor more information.\u001b[39m\u001b[38;5;124m\"\u001b[39m\n\u001b[0;32m    278\u001b[0m     )\n",
      "File \u001b[1;32mD:\\Study_Documents\\thesis\\env\\lib\\site-packages\\ray\\cloudpickle\\cloudpickle_fast.py:88\u001b[0m, in \u001b[0;36mdumps\u001b[1;34m(obj, protocol, buffer_callback)\u001b[0m\n\u001b[0;32m     86\u001b[0m \u001b[38;5;28;01mwith\u001b[39;00m io\u001b[38;5;241m.\u001b[39mBytesIO() \u001b[38;5;28;01mas\u001b[39;00m file:\n\u001b[0;32m     87\u001b[0m     cp \u001b[38;5;241m=\u001b[39m CloudPickler(file, protocol\u001b[38;5;241m=\u001b[39mprotocol, buffer_callback\u001b[38;5;241m=\u001b[39mbuffer_callback)\n\u001b[1;32m---> 88\u001b[0m     \u001b[43mcp\u001b[49m\u001b[38;5;241;43m.\u001b[39;49m\u001b[43mdump\u001b[49m\u001b[43m(\u001b[49m\u001b[43mobj\u001b[49m\u001b[43m)\u001b[49m\n\u001b[0;32m     89\u001b[0m     \u001b[38;5;28;01mreturn\u001b[39;00m file\u001b[38;5;241m.\u001b[39mgetvalue()\n",
      "File \u001b[1;32mD:\\Study_Documents\\thesis\\env\\lib\\site-packages\\ray\\cloudpickle\\cloudpickle_fast.py:733\u001b[0m, in \u001b[0;36mCloudPickler.dump\u001b[1;34m(self, obj)\u001b[0m\n\u001b[0;32m    731\u001b[0m \u001b[38;5;28;01mdef\u001b[39;00m \u001b[38;5;21mdump\u001b[39m(\u001b[38;5;28mself\u001b[39m, obj):\n\u001b[0;32m    732\u001b[0m     \u001b[38;5;28;01mtry\u001b[39;00m:\n\u001b[1;32m--> 733\u001b[0m         \u001b[38;5;28;01mreturn\u001b[39;00m \u001b[43mPickler\u001b[49m\u001b[38;5;241;43m.\u001b[39;49m\u001b[43mdump\u001b[49m\u001b[43m(\u001b[49m\u001b[38;5;28;43mself\u001b[39;49m\u001b[43m,\u001b[49m\u001b[43m \u001b[49m\u001b[43mobj\u001b[49m\u001b[43m)\u001b[49m\n\u001b[0;32m    734\u001b[0m     \u001b[38;5;28;01mexcept\u001b[39;00m \u001b[38;5;167;01mRuntimeError\u001b[39;00m \u001b[38;5;28;01mas\u001b[39;00m e:\n\u001b[0;32m    735\u001b[0m         \u001b[38;5;28;01mif\u001b[39;00m \u001b[38;5;124m\"\u001b[39m\u001b[38;5;124mrecursion\u001b[39m\u001b[38;5;124m\"\u001b[39m \u001b[38;5;129;01min\u001b[39;00m e\u001b[38;5;241m.\u001b[39margs[\u001b[38;5;241m0\u001b[39m]:\n",
      "File \u001b[1;32mD:\\Study_Documents\\thesis\\env\\lib\\site-packages\\keras\\engine\\training.py:367\u001b[0m, in \u001b[0;36mModel.__reduce__\u001b[1;34m(self)\u001b[0m\n\u001b[0;32m    363\u001b[0m \u001b[38;5;28;01mdef\u001b[39;00m \u001b[38;5;21m__reduce__\u001b[39m(\u001b[38;5;28mself\u001b[39m):\n\u001b[0;32m    364\u001b[0m     \u001b[38;5;28;01mif\u001b[39;00m \u001b[38;5;28mself\u001b[39m\u001b[38;5;241m.\u001b[39mbuilt:\n\u001b[0;32m    365\u001b[0m         \u001b[38;5;28;01mreturn\u001b[39;00m (\n\u001b[0;32m    366\u001b[0m             pickle_utils\u001b[38;5;241m.\u001b[39mdeserialize_model_from_bytecode,\n\u001b[1;32m--> 367\u001b[0m             (\u001b[43mpickle_utils\u001b[49m\u001b[38;5;241;43m.\u001b[39;49m\u001b[43mserialize_model_as_bytecode\u001b[49m\u001b[43m(\u001b[49m\u001b[38;5;28;43mself\u001b[39;49m\u001b[43m)\u001b[49m,),\n\u001b[0;32m    368\u001b[0m         )\n\u001b[0;32m    369\u001b[0m     \u001b[38;5;28;01melse\u001b[39;00m:\n\u001b[0;32m    370\u001b[0m         \u001b[38;5;66;03m# SavedModel (and hence serialize_model_as_bytecode) only support\u001b[39;00m\n\u001b[0;32m    371\u001b[0m         \u001b[38;5;66;03m# built models, but if the model is not built,\u001b[39;00m\n\u001b[1;32m   (...)\u001b[0m\n\u001b[0;32m    375\u001b[0m         \u001b[38;5;66;03m# the superclass hierarchy to get an implementation of __reduce__\u001b[39;00m\n\u001b[0;32m    376\u001b[0m         \u001b[38;5;66;03m# that can pickle this Model as a plain Python object.\u001b[39;00m\n\u001b[0;32m    377\u001b[0m         \u001b[38;5;28;01mreturn\u001b[39;00m \u001b[38;5;28msuper\u001b[39m()\u001b[38;5;241m.\u001b[39m__reduce__()\n",
      "File \u001b[1;32mD:\\Study_Documents\\thesis\\env\\lib\\site-packages\\keras\\saving\\pickle_utils.py:73\u001b[0m, in \u001b[0;36mserialize_model_as_bytecode\u001b[1;34m(model)\u001b[0m\n\u001b[0;32m     71\u001b[0m         data \u001b[38;5;241m=\u001b[39m f\u001b[38;5;241m.\u001b[39mread()\n\u001b[0;32m     72\u001b[0m \u001b[38;5;28;01mexcept\u001b[39;00m \u001b[38;5;167;01mException\u001b[39;00m \u001b[38;5;28;01mas\u001b[39;00m e:\n\u001b[1;32m---> 73\u001b[0m     \u001b[38;5;28;01mraise\u001b[39;00m e\n\u001b[0;32m     74\u001b[0m \u001b[38;5;28;01melse\u001b[39;00m:\n\u001b[0;32m     75\u001b[0m     \u001b[38;5;28;01mreturn\u001b[39;00m data\n",
      "File \u001b[1;32mD:\\Study_Documents\\thesis\\env\\lib\\site-packages\\keras\\saving\\pickle_utils.py:69\u001b[0m, in \u001b[0;36mserialize_model_as_bytecode\u001b[1;34m(model)\u001b[0m\n\u001b[0;32m     67\u001b[0m \u001b[38;5;28;01mtry\u001b[39;00m:\n\u001b[0;32m     68\u001b[0m     filepath \u001b[38;5;241m=\u001b[39m os\u001b[38;5;241m.\u001b[39mpath\u001b[38;5;241m.\u001b[39mjoin(temp_dir, \u001b[38;5;124m\"\u001b[39m\u001b[38;5;124mmodel.keras\u001b[39m\u001b[38;5;124m\"\u001b[39m)\n\u001b[1;32m---> 69\u001b[0m     \u001b[43msaving_lib\u001b[49m\u001b[38;5;241;43m.\u001b[39;49m\u001b[43msave_model\u001b[49m\u001b[43m(\u001b[49m\u001b[43mmodel\u001b[49m\u001b[43m,\u001b[49m\u001b[43m \u001b[49m\u001b[43mfilepath\u001b[49m\u001b[43m)\u001b[49m\n\u001b[0;32m     70\u001b[0m     \u001b[38;5;28;01mwith\u001b[39;00m \u001b[38;5;28mopen\u001b[39m(filepath, \u001b[38;5;124m\"\u001b[39m\u001b[38;5;124mrb\u001b[39m\u001b[38;5;124m\"\u001b[39m) \u001b[38;5;28;01mas\u001b[39;00m f:\n\u001b[0;32m     71\u001b[0m         data \u001b[38;5;241m=\u001b[39m f\u001b[38;5;241m.\u001b[39mread()\n",
      "File \u001b[1;32mD:\\Study_Documents\\thesis\\env\\lib\\site-packages\\keras\\saving\\experimental\\saving_lib.py:157\u001b[0m, in \u001b[0;36msave_model\u001b[1;34m(model, filepath)\u001b[0m\n\u001b[0;32m    155\u001b[0m _SAVING_V3_ENABLED\u001b[38;5;241m.\u001b[39mvalue \u001b[38;5;241m=\u001b[39m saving_v3_enabled_value\n\u001b[0;32m    156\u001b[0m \u001b[38;5;66;03m# Remove the directory temporarily used.\u001b[39;00m\n\u001b[1;32m--> 157\u001b[0m \u001b[43mtf\u001b[49m\u001b[38;5;241;43m.\u001b[39;49m\u001b[43mio\u001b[49m\u001b[38;5;241;43m.\u001b[39;49m\u001b[43mgfile\u001b[49m\u001b[38;5;241;43m.\u001b[39;49m\u001b[43mrmtree\u001b[49m\u001b[43m(\u001b[49m\u001b[43mtemp_path\u001b[49m\u001b[43m)\u001b[49m\n",
      "File \u001b[1;32mD:\\Study_Documents\\thesis\\env\\lib\\site-packages\\tensorflow\\python\\lib\\io\\file_io.py:676\u001b[0m, in \u001b[0;36mdelete_recursively_v2\u001b[1;34m(path)\u001b[0m\n\u001b[0;32m    666\u001b[0m \u001b[38;5;129m@tf_export\u001b[39m(\u001b[38;5;124m\"\u001b[39m\u001b[38;5;124mio.gfile.rmtree\u001b[39m\u001b[38;5;124m\"\u001b[39m)\n\u001b[0;32m    667\u001b[0m \u001b[38;5;28;01mdef\u001b[39;00m \u001b[38;5;21mdelete_recursively_v2\u001b[39m(path):\n\u001b[0;32m    668\u001b[0m   \u001b[38;5;124;03m\"\"\"Deletes everything under path recursively.\u001b[39;00m\n\u001b[0;32m    669\u001b[0m \n\u001b[0;32m    670\u001b[0m \u001b[38;5;124;03m  Args:\u001b[39;00m\n\u001b[1;32m   (...)\u001b[0m\n\u001b[0;32m    674\u001b[0m \u001b[38;5;124;03m    errors.OpError: If the operation fails.\u001b[39;00m\n\u001b[0;32m    675\u001b[0m \u001b[38;5;124;03m  \"\"\"\u001b[39;00m\n\u001b[1;32m--> 676\u001b[0m   \u001b[43m_pywrap_file_io\u001b[49m\u001b[38;5;241;43m.\u001b[39;49m\u001b[43mDeleteRecursively\u001b[49m\u001b[43m(\u001b[49m\u001b[43mcompat\u001b[49m\u001b[38;5;241;43m.\u001b[39;49m\u001b[43mpath_to_bytes\u001b[49m\u001b[43m(\u001b[49m\u001b[43mpath\u001b[49m\u001b[43m)\u001b[49m\u001b[43m)\u001b[49m\n",
      "\u001b[1;31mPermissionDeniedError\u001b[0m: Failed to delete a file: C:\\Users\\rober\\AppData\\Local\\Temp\\tmp05falolr/variables.h5; Permission denied"
     ]
    }
   ],
   "source": [
    "batches_num = 10\n",
    "task_handles = [] \n",
    "for _ in range(batches_num):\n",
    "    task_handles.append(test_run_env.remote())\n",
    "\n",
    "output = ray.get(task_handles)\n",
    "print(output)"
   ]
  },
  {
   "cell_type": "code",
   "execution_count": null,
   "id": "0336a4b0-c159-487a-b54f-93b8759e3489",
   "metadata": {},
   "outputs": [],
   "source": []
  }
 ],
 "metadata": {
  "kernelspec": {
   "display_name": "Python 3 (ipykernel)",
   "language": "python",
   "name": "python3"
  },
  "language_info": {
   "codemirror_mode": {
    "name": "ipython",
    "version": 3
   },
   "file_extension": ".py",
   "mimetype": "text/x-python",
   "name": "python",
   "nbconvert_exporter": "python",
   "pygments_lexer": "ipython3",
   "version": "3.9.16"
  }
 },
 "nbformat": 4,
 "nbformat_minor": 5
}
