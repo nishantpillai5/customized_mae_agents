{
 "cells": [
  {
   "cell_type": "code",
   "execution_count": 1,
   "id": "c17b2751-8f9d-4ea1-9d11-e68603d8c377",
   "metadata": {},
   "outputs": [],
   "source": [
    "import tensorflow as tf\n",
    "tf.compat.v1.enable_eager_execution()\n",
    "tf.config.run_functions_eagerly(True)\n",
    "import ray\n",
    "\n",
    "import time\n",
    "import random\n",
    "\n",
    "import numpy as np\n",
    "\n",
    "from tensorflow.keras.models import Sequential\n",
    "from tensorflow.keras.layers import Dense, Activation, Flatten, Input\n",
    "from tensorflow.keras.optimizers import Adam\n",
    "import tensorflow.keras.backend as K\n",
    "\n",
    "\n",
    "from rl.agents.dqn import DQNAgent\n",
    "from rl.policy import LinearAnnealedPolicy, BoltzmannQPolicy, EpsGreedyQPolicy\n",
    "from rl.memory import SequentialMemory\n",
    "from rl.core import Processor\n",
    "from rl.callbacks import FileLogger, ModelIntervalCheckpoint"
   ]
  },
  {
   "cell_type": "code",
   "execution_count": 2,
   "id": "2c1492fb-4fc5-4772-96c3-81feafbbdce5",
   "metadata": {},
   "outputs": [
    {
     "name": "stdout",
     "output_type": "stream",
     "text": [
      "Model: \"sequential\"\n",
      "_________________________________________________________________\n",
      " Layer (type)                Output Shape              Param #   \n",
      "=================================================================\n",
      " flatten (Flatten)           (None, 34)                0         \n",
      "                                                                 \n",
      " dense (Dense)               (None, 128)               4480      \n",
      "                                                                 \n",
      " activation (Activation)     (None, 128)               0         \n",
      "                                                                 \n",
      " dense_1 (Dense)             (None, 32)                4128      \n",
      "                                                                 \n",
      " activation_1 (Activation)   (None, 32)                0         \n",
      "                                                                 \n",
      " dense_2 (Dense)             (None, 5)                 165       \n",
      "                                                                 \n",
      " activation_2 (Activation)   (None, 5)                 0         \n",
      "                                                                 \n",
      "=================================================================\n",
      "Total params: 8,773\n",
      "Trainable params: 8,773\n",
      "Non-trainable params: 0\n",
      "_________________________________________________________________\n",
      "None\n"
     ]
    }
   ],
   "source": [
    "INPUT_SHAPE = (34,)\n",
    "WINDOW_LENGTH = 1\n",
    "nb_actions = 5\n",
    "\n",
    "input_shape = (WINDOW_LENGTH,) + INPUT_SHAPE\n",
    "model = Sequential()\n",
    "\n",
    "# (width, height, channels)\n",
    "#model.add(Permute((2, 1), input_shape=input_shape))\n",
    "model.add(Input(shape=input_shape))\n",
    "model.add(Flatten())\n",
    "model.add(Dense(128))\n",
    "model.add(Activation('relu'))\n",
    "model.add(Dense(32))\n",
    "model.add(Activation('relu'))\n",
    "model.add(Dense(nb_actions))\n",
    "model.add(Activation('linear'))\n",
    "print(model.summary())"
   ]
  },
  {
   "cell_type": "code",
   "execution_count": 3,
   "id": "5153d457-7547-4612-ae63-1a135a96f0f7",
   "metadata": {},
   "outputs": [],
   "source": [
    "class myProcessor(Processor):\n",
    "    def process_observation(self, observation):\n",
    "        print(\"obs\", observation)\n",
    "        return np.array(observation)\n",
    "\n",
    "    def process_state_batch(self, batch):\n",
    "        # We could perform this processing step in `process_observation`. In this case, however,\n",
    "        # we would need to store a `float32` array instead, which is 4x more memory intensive than\n",
    "        # an `uint8` array. This matters if we store 1M observations.\n",
    "        # processed_batch = batch.astype('float32') / 255.\n",
    "        return batch\n",
    "\n",
    "    def process_reward(self, reward):\n",
    "        return np.array(reward)\n",
    "        #return np.clip(reward, -1., 1.)\n",
    "\n",
    "processor = myProcessor()"
   ]
  },
  {
   "cell_type": "code",
   "execution_count": 4,
   "id": "48801392-cd3f-473a-91e9-574db2ac6099",
   "metadata": {},
   "outputs": [],
   "source": [
    "policy = LinearAnnealedPolicy(EpsGreedyQPolicy(), attr='eps', value_max=1., value_min=.1, value_test=.05,\n",
    "                              nb_steps=1000000)\n",
    "memory = SequentialMemory(limit=1000000, window_length=WINDOW_LENGTH)\n",
    "\n",
    "dqn = DQNAgent(model=model, nb_actions=nb_actions, policy=policy, memory=memory,\n",
    "               processor=processor, nb_steps_warmup=50000, gamma=.99, target_model_update=10000,\n",
    "               train_interval=4, delta_clip=1.)\n",
    "dqn.compile(Adam(learning_rate=.00025), metrics=['mae'])"
   ]
  },
  {
   "cell_type": "code",
   "execution_count": 5,
   "id": "a6b1d703-68bb-4866-83bc-cca352752f31",
   "metadata": {},
   "outputs": [],
   "source": [
    "cycles = 200\n",
    "\n",
    "def env_creator(render_mode=\"rgb_array\", cycles=200):\n",
    "    from src.world import world_utils\n",
    "    env = world_utils.env(render_mode=render_mode, max_cycles=cycles)\n",
    "    return env"
   ]
  },
  {
   "cell_type": "markdown",
   "id": "eb95d55e-05f5-4f47-938b-85f73b75eb97",
   "metadata": {},
   "source": [
    "# Without Ray"
   ]
  },
  {
   "cell_type": "code",
   "execution_count": null,
   "id": "310165eb-26f8-4c33-8d29-303179d0d1bd",
   "metadata": {},
   "outputs": [],
   "source": [
    "def test():\n",
    "    agent_count = 4\n",
    "    current_cycle = 0\n",
    "    action_queue = []\n",
    "    \n",
    "    full_report = []\n",
    "    env = env_creator(render_mode=\"rgb_array\", cycles=cycles)\n",
    "    env.reset()\n",
    "    for agent in env.agent_iter():\n",
    "        if current_cycle >= cycles * agent_count:\n",
    "            break\n",
    "        #full_report.append({\n",
    "        #    \"adversary_0\": {\"action\": adversary_0_action},\n",
    "        #    \"adversary_1\": {\"action\": adversary_1_action},\n",
    "        #    \"adversary_2\": {\"action\": adversary_2_action},\n",
    "        #    \"agent_0\": {\"action\": good_agent_action}\n",
    "        #})\n",
    "        env.render()\n",
    "        # obs, reward, done, info = env.last()\n",
    "        observation, cumulative_rewards, terminations, truncations, infos = env.last()\n",
    "        #print(observation, cumulative_rewards, terminations, truncations, infos)\n",
    "        if agent == \"agent_0\":\n",
    "            action = 0#random.choice([0, 1, 2, 3, 4])\n",
    "        else:\n",
    "            dqn.backward(cumulative_rewards, terminations)\n",
    "            action = dqn.forward(observation)\n",
    "            #if abs(cumulative_rewards) > 0.01:\n",
    "                #print(\"URCA!\", agent, cumulative_rewards)\n",
    "        env.step(action)\n",
    "        current_cycle += 1\n",
    "        full_report.append(agent + \"_a\" + str(action) +  \"_r\" + str(cumulative_rewards))\n",
    "        #full_report.append(\n",
    "        #full_report[-1][agent][\"observation\"] = observation\n",
    "        #full_report[-1][agent][\"cumulative_rewards\"] = cumulative_rewards\n",
    "        #full_report[-1][agent][\"terminations\"] = terminations\n",
    "        #full_report[-1][agent][\"truncations\"] = truncations\n",
    "        #full_report[-1][agent][\"infos\"] = infos\n",
    "        \n",
    "    else:\n",
    "        env.close()\n",
    "    return full_report\n",
    "\n",
    "full_report = test()\n",
    "print(full_report)"
   ]
  },
  {
   "cell_type": "markdown",
   "id": "f00ec855-0a06-450e-bc29-d4ab09022142",
   "metadata": {},
   "source": [
    "# USING RAY"
   ]
  },
  {
   "cell_type": "code",
   "execution_count": 6,
   "id": "eaf19b19-c267-4c71-a374-6fc30f26f872",
   "metadata": {},
   "outputs": [],
   "source": [
    "@ray.remote\n",
    "def test_run_env():\n",
    "    dqn = DQNAgent(model=model, nb_actions=nb_actions, policy=policy, memory=memory,\n",
    "               processor=processor, nb_steps_warmup=50000, gamma=.99, target_model_update=10000,\n",
    "               train_interval=4, delta_clip=1.)\n",
    "    dqn.compile(Adam(learning_rate=.00025), metrics=['mae'])\n",
    "    \n",
    "    cycles = 20\n",
    "    agent_count = 4\n",
    "    current_cycle = 0\n",
    "    action_queue = []\n",
    "    \n",
    "    full_report = []\n",
    "    env = env_creator(render_mode=\"rgb_array\", cycles=cycles)\n",
    "    env.reset()\n",
    "    for agent in env.agent_iter():\n",
    "        if current_cycle >= cycles * agent_count:\n",
    "            break\n",
    "        #full_report.append({\n",
    "        #    \"adversary_0\": {\"action\": adversary_0_action},\n",
    "        #    \"adversary_1\": {\"action\": adversary_1_action},\n",
    "        #    \"adversary_2\": {\"action\": adversary_2_action},\n",
    "        #    \"agent_0\": {\"action\": good_agent_action}\n",
    "        #})\n",
    "        env.render()\n",
    "        # obs, reward, done, info = env.last()\n",
    "        observation, cumulative_rewards, terminations, truncations, infos = env.last()\n",
    "        #print(observation, cumulative_rewards, terminations, truncations, infos)\n",
    "        if agent == \"agent_0\":\n",
    "            action = random.choice([0, 1, 2, 3, 4])\n",
    "        else:\n",
    "            action = dqn.forward(observation)\n",
    "        env.step(action)\n",
    "        current_cycle += 1\n",
    "        full_report.append(agent + \"_a\" + str(action) +  \"_r\" + str(cumulative_rewards))\n",
    "        #full_report.append(\n",
    "        #full_report[-1][agent][\"observation\"] = observation\n",
    "        #full_report[-1][agent][\"cumulative_rewards\"] = cumulative_rewards\n",
    "        #full_report[-1][agent][\"terminations\"] = terminations\n",
    "        #full_report[-1][agent][\"truncations\"] = truncations\n",
    "        #full_report[-1][agent][\"infos\"] = infos\n",
    "        \n",
    "    else:\n",
    "        env.close()\n",
    "    return full_report[:8], dqn"
   ]
  },
  {
   "cell_type": "code",
   "execution_count": 7,
   "id": "8ff0371a-afe2-451a-9abd-19d7aea8492b",
   "metadata": {},
   "outputs": [
    {
     "name": "stderr",
     "output_type": "stream",
     "text": [
      "2023-03-22 17:59:22,434\tINFO worker.py:1553 -- Started a local Ray instance.\n"
     ]
    },
    {
     "ename": "NotImplementedError",
     "evalue": "numpy() is only available when eager execution is enabled.",
     "output_type": "error",
     "traceback": [
      "\u001b[1;31m---------------------------------------------------------------------------\u001b[0m",
      "\u001b[1;31mNotImplementedError\u001b[0m                       Traceback (most recent call last)",
      "Cell \u001b[1;32mIn[7], line 4\u001b[0m\n\u001b[0;32m      2\u001b[0m task_handles \u001b[38;5;241m=\u001b[39m [] \n\u001b[0;32m      3\u001b[0m \u001b[38;5;28;01mfor\u001b[39;00m _ \u001b[38;5;129;01min\u001b[39;00m \u001b[38;5;28mrange\u001b[39m(batches_num):\n\u001b[1;32m----> 4\u001b[0m     task_handles\u001b[38;5;241m.\u001b[39mappend(\u001b[43mtest_run_env\u001b[49m\u001b[38;5;241;43m.\u001b[39;49m\u001b[43mremote\u001b[49m\u001b[43m(\u001b[49m\u001b[43m)\u001b[49m)\n\u001b[0;32m      6\u001b[0m output \u001b[38;5;241m=\u001b[39m ray\u001b[38;5;241m.\u001b[39mget(task_handles)\n\u001b[0;32m      7\u001b[0m \u001b[38;5;28mprint\u001b[39m(output)\n",
      "File \u001b[1;32mD:\\Study_Documents\\thesis\\env\\lib\\site-packages\\ray\\remote_function.py:129\u001b[0m, in \u001b[0;36mRemoteFunction.__init__.<locals>._remote_proxy\u001b[1;34m(*args, **kwargs)\u001b[0m\n\u001b[0;32m    127\u001b[0m \u001b[38;5;129m@wraps\u001b[39m(function)\n\u001b[0;32m    128\u001b[0m \u001b[38;5;28;01mdef\u001b[39;00m \u001b[38;5;21m_remote_proxy\u001b[39m(\u001b[38;5;241m*\u001b[39margs, \u001b[38;5;241m*\u001b[39m\u001b[38;5;241m*\u001b[39mkwargs):\n\u001b[1;32m--> 129\u001b[0m     \u001b[38;5;28;01mreturn\u001b[39;00m \u001b[38;5;28mself\u001b[39m\u001b[38;5;241m.\u001b[39m_remote(args\u001b[38;5;241m=\u001b[39margs, kwargs\u001b[38;5;241m=\u001b[39mkwargs, \u001b[38;5;241m*\u001b[39m\u001b[38;5;241m*\u001b[39m\u001b[38;5;28mself\u001b[39m\u001b[38;5;241m.\u001b[39m_default_options)\n",
      "File \u001b[1;32mD:\\Study_Documents\\thesis\\env\\lib\\site-packages\\ray\\util\\tracing\\tracing_helper.py:307\u001b[0m, in \u001b[0;36m_tracing_task_invocation.<locals>._invocation_remote_span\u001b[1;34m(self, args, kwargs, *_args, **_kwargs)\u001b[0m\n\u001b[0;32m    305\u001b[0m     \u001b[38;5;28;01mif\u001b[39;00m kwargs \u001b[38;5;129;01mis\u001b[39;00m \u001b[38;5;129;01mnot\u001b[39;00m \u001b[38;5;28;01mNone\u001b[39;00m:\n\u001b[0;32m    306\u001b[0m         \u001b[38;5;28;01massert\u001b[39;00m \u001b[38;5;124m\"\u001b[39m\u001b[38;5;124m_ray_trace_ctx\u001b[39m\u001b[38;5;124m\"\u001b[39m \u001b[38;5;129;01mnot\u001b[39;00m \u001b[38;5;129;01min\u001b[39;00m kwargs\n\u001b[1;32m--> 307\u001b[0m     \u001b[38;5;28;01mreturn\u001b[39;00m method(\u001b[38;5;28mself\u001b[39m, args, kwargs, \u001b[38;5;241m*\u001b[39m_args, \u001b[38;5;241m*\u001b[39m\u001b[38;5;241m*\u001b[39m_kwargs)\n\u001b[0;32m    309\u001b[0m \u001b[38;5;28;01massert\u001b[39;00m \u001b[38;5;124m\"\u001b[39m\u001b[38;5;124m_ray_trace_ctx\u001b[39m\u001b[38;5;124m\"\u001b[39m \u001b[38;5;129;01mnot\u001b[39;00m \u001b[38;5;129;01min\u001b[39;00m kwargs\n\u001b[0;32m    311\u001b[0m tracer \u001b[38;5;241m=\u001b[39m _opentelemetry\u001b[38;5;241m.\u001b[39mtrace\u001b[38;5;241m.\u001b[39mget_tracer(\u001b[38;5;18m__name__\u001b[39m)\n",
      "File \u001b[1;32mD:\\Study_Documents\\thesis\\env\\lib\\site-packages\\ray\\remote_function.py:271\u001b[0m, in \u001b[0;36mRemoteFunction._remote\u001b[1;34m(self, args, kwargs, **task_options)\u001b[0m\n\u001b[0;32m    261\u001b[0m \u001b[38;5;66;03m# There is an interesting question here. If the remote function is\u001b[39;00m\n\u001b[0;32m    262\u001b[0m \u001b[38;5;66;03m# used by a subsequent driver (in the same script), should the\u001b[39;00m\n\u001b[0;32m    263\u001b[0m \u001b[38;5;66;03m# second driver pickle the function again? If yes, then the remote\u001b[39;00m\n\u001b[1;32m   (...)\u001b[0m\n\u001b[0;32m    268\u001b[0m \u001b[38;5;66;03m# first driver. This is an argument for repickling the function,\u001b[39;00m\n\u001b[0;32m    269\u001b[0m \u001b[38;5;66;03m# which we do here.\u001b[39;00m\n\u001b[0;32m    270\u001b[0m \u001b[38;5;28;01mtry\u001b[39;00m:\n\u001b[1;32m--> 271\u001b[0m     \u001b[38;5;28mself\u001b[39m\u001b[38;5;241m.\u001b[39m_pickled_function \u001b[38;5;241m=\u001b[39m \u001b[43mpickle\u001b[49m\u001b[38;5;241;43m.\u001b[39;49m\u001b[43mdumps\u001b[49m\u001b[43m(\u001b[49m\u001b[38;5;28;43mself\u001b[39;49m\u001b[38;5;241;43m.\u001b[39;49m\u001b[43m_function\u001b[49m\u001b[43m)\u001b[49m\n\u001b[0;32m    272\u001b[0m \u001b[38;5;28;01mexcept\u001b[39;00m \u001b[38;5;167;01mTypeError\u001b[39;00m \u001b[38;5;28;01mas\u001b[39;00m e:\n\u001b[0;32m    273\u001b[0m     msg \u001b[38;5;241m=\u001b[39m (\n\u001b[0;32m    274\u001b[0m         \u001b[38;5;124m\"\u001b[39m\u001b[38;5;124mCould not serialize the function \u001b[39m\u001b[38;5;124m\"\u001b[39m\n\u001b[0;32m    275\u001b[0m         \u001b[38;5;124mf\u001b[39m\u001b[38;5;124m\"\u001b[39m\u001b[38;5;132;01m{\u001b[39;00m\u001b[38;5;28mself\u001b[39m\u001b[38;5;241m.\u001b[39m_function_descriptor\u001b[38;5;241m.\u001b[39mrepr\u001b[38;5;132;01m}\u001b[39;00m\u001b[38;5;124m. Check \u001b[39m\u001b[38;5;124m\"\u001b[39m\n\u001b[0;32m    276\u001b[0m         \u001b[38;5;124m\"\u001b[39m\u001b[38;5;124mhttps://docs.ray.io/en/master/ray-core/objects/serialization.html#troubleshooting \u001b[39m\u001b[38;5;124m\"\u001b[39m  \u001b[38;5;66;03m# noqa\u001b[39;00m\n\u001b[0;32m    277\u001b[0m         \u001b[38;5;124m\"\u001b[39m\u001b[38;5;124mfor more information.\u001b[39m\u001b[38;5;124m\"\u001b[39m\n\u001b[0;32m    278\u001b[0m     )\n",
      "File \u001b[1;32mD:\\Study_Documents\\thesis\\env\\lib\\site-packages\\ray\\cloudpickle\\cloudpickle_fast.py:88\u001b[0m, in \u001b[0;36mdumps\u001b[1;34m(obj, protocol, buffer_callback)\u001b[0m\n\u001b[0;32m     86\u001b[0m \u001b[38;5;28;01mwith\u001b[39;00m io\u001b[38;5;241m.\u001b[39mBytesIO() \u001b[38;5;28;01mas\u001b[39;00m file:\n\u001b[0;32m     87\u001b[0m     cp \u001b[38;5;241m=\u001b[39m CloudPickler(file, protocol\u001b[38;5;241m=\u001b[39mprotocol, buffer_callback\u001b[38;5;241m=\u001b[39mbuffer_callback)\n\u001b[1;32m---> 88\u001b[0m     \u001b[43mcp\u001b[49m\u001b[38;5;241;43m.\u001b[39;49m\u001b[43mdump\u001b[49m\u001b[43m(\u001b[49m\u001b[43mobj\u001b[49m\u001b[43m)\u001b[49m\n\u001b[0;32m     89\u001b[0m     \u001b[38;5;28;01mreturn\u001b[39;00m file\u001b[38;5;241m.\u001b[39mgetvalue()\n",
      "File \u001b[1;32mD:\\Study_Documents\\thesis\\env\\lib\\site-packages\\ray\\cloudpickle\\cloudpickle_fast.py:733\u001b[0m, in \u001b[0;36mCloudPickler.dump\u001b[1;34m(self, obj)\u001b[0m\n\u001b[0;32m    731\u001b[0m \u001b[38;5;28;01mdef\u001b[39;00m \u001b[38;5;21mdump\u001b[39m(\u001b[38;5;28mself\u001b[39m, obj):\n\u001b[0;32m    732\u001b[0m     \u001b[38;5;28;01mtry\u001b[39;00m:\n\u001b[1;32m--> 733\u001b[0m         \u001b[38;5;28;01mreturn\u001b[39;00m \u001b[43mPickler\u001b[49m\u001b[38;5;241;43m.\u001b[39;49m\u001b[43mdump\u001b[49m\u001b[43m(\u001b[49m\u001b[38;5;28;43mself\u001b[39;49m\u001b[43m,\u001b[49m\u001b[43m \u001b[49m\u001b[43mobj\u001b[49m\u001b[43m)\u001b[49m\n\u001b[0;32m    734\u001b[0m     \u001b[38;5;28;01mexcept\u001b[39;00m \u001b[38;5;167;01mRuntimeError\u001b[39;00m \u001b[38;5;28;01mas\u001b[39;00m e:\n\u001b[0;32m    735\u001b[0m         \u001b[38;5;28;01mif\u001b[39;00m \u001b[38;5;124m\"\u001b[39m\u001b[38;5;124mrecursion\u001b[39m\u001b[38;5;124m\"\u001b[39m \u001b[38;5;129;01min\u001b[39;00m e\u001b[38;5;241m.\u001b[39margs[\u001b[38;5;241m0\u001b[39m]:\n",
      "File \u001b[1;32mD:\\Study_Documents\\thesis\\env\\lib\\site-packages\\keras\\engine\\training.py:367\u001b[0m, in \u001b[0;36mModel.__reduce__\u001b[1;34m(self)\u001b[0m\n\u001b[0;32m    363\u001b[0m \u001b[38;5;28;01mdef\u001b[39;00m \u001b[38;5;21m__reduce__\u001b[39m(\u001b[38;5;28mself\u001b[39m):\n\u001b[0;32m    364\u001b[0m     \u001b[38;5;28;01mif\u001b[39;00m \u001b[38;5;28mself\u001b[39m\u001b[38;5;241m.\u001b[39mbuilt:\n\u001b[0;32m    365\u001b[0m         \u001b[38;5;28;01mreturn\u001b[39;00m (\n\u001b[0;32m    366\u001b[0m             pickle_utils\u001b[38;5;241m.\u001b[39mdeserialize_model_from_bytecode,\n\u001b[1;32m--> 367\u001b[0m             (\u001b[43mpickle_utils\u001b[49m\u001b[38;5;241;43m.\u001b[39;49m\u001b[43mserialize_model_as_bytecode\u001b[49m\u001b[43m(\u001b[49m\u001b[38;5;28;43mself\u001b[39;49m\u001b[43m)\u001b[49m,),\n\u001b[0;32m    368\u001b[0m         )\n\u001b[0;32m    369\u001b[0m     \u001b[38;5;28;01melse\u001b[39;00m:\n\u001b[0;32m    370\u001b[0m         \u001b[38;5;66;03m# SavedModel (and hence serialize_model_as_bytecode) only support\u001b[39;00m\n\u001b[0;32m    371\u001b[0m         \u001b[38;5;66;03m# built models, but if the model is not built,\u001b[39;00m\n\u001b[1;32m   (...)\u001b[0m\n\u001b[0;32m    375\u001b[0m         \u001b[38;5;66;03m# the superclass hierarchy to get an implementation of __reduce__\u001b[39;00m\n\u001b[0;32m    376\u001b[0m         \u001b[38;5;66;03m# that can pickle this Model as a plain Python object.\u001b[39;00m\n\u001b[0;32m    377\u001b[0m         \u001b[38;5;28;01mreturn\u001b[39;00m \u001b[38;5;28msuper\u001b[39m()\u001b[38;5;241m.\u001b[39m__reduce__()\n",
      "File \u001b[1;32mD:\\Study_Documents\\thesis\\env\\lib\\site-packages\\keras\\saving\\pickle_utils.py:73\u001b[0m, in \u001b[0;36mserialize_model_as_bytecode\u001b[1;34m(model)\u001b[0m\n\u001b[0;32m     71\u001b[0m         data \u001b[38;5;241m=\u001b[39m f\u001b[38;5;241m.\u001b[39mread()\n\u001b[0;32m     72\u001b[0m \u001b[38;5;28;01mexcept\u001b[39;00m \u001b[38;5;167;01mException\u001b[39;00m \u001b[38;5;28;01mas\u001b[39;00m e:\n\u001b[1;32m---> 73\u001b[0m     \u001b[38;5;28;01mraise\u001b[39;00m e\n\u001b[0;32m     74\u001b[0m \u001b[38;5;28;01melse\u001b[39;00m:\n\u001b[0;32m     75\u001b[0m     \u001b[38;5;28;01mreturn\u001b[39;00m data\n",
      "File \u001b[1;32mD:\\Study_Documents\\thesis\\env\\lib\\site-packages\\keras\\saving\\pickle_utils.py:69\u001b[0m, in \u001b[0;36mserialize_model_as_bytecode\u001b[1;34m(model)\u001b[0m\n\u001b[0;32m     67\u001b[0m \u001b[38;5;28;01mtry\u001b[39;00m:\n\u001b[0;32m     68\u001b[0m     filepath \u001b[38;5;241m=\u001b[39m os\u001b[38;5;241m.\u001b[39mpath\u001b[38;5;241m.\u001b[39mjoin(temp_dir, \u001b[38;5;124m\"\u001b[39m\u001b[38;5;124mmodel.keras\u001b[39m\u001b[38;5;124m\"\u001b[39m)\n\u001b[1;32m---> 69\u001b[0m     \u001b[43msaving_lib\u001b[49m\u001b[38;5;241;43m.\u001b[39;49m\u001b[43msave_model\u001b[49m\u001b[43m(\u001b[49m\u001b[43mmodel\u001b[49m\u001b[43m,\u001b[49m\u001b[43m \u001b[49m\u001b[43mfilepath\u001b[49m\u001b[43m)\u001b[49m\n\u001b[0;32m     70\u001b[0m     \u001b[38;5;28;01mwith\u001b[39;00m \u001b[38;5;28mopen\u001b[39m(filepath, \u001b[38;5;124m\"\u001b[39m\u001b[38;5;124mrb\u001b[39m\u001b[38;5;124m\"\u001b[39m) \u001b[38;5;28;01mas\u001b[39;00m f:\n\u001b[0;32m     71\u001b[0m         data \u001b[38;5;241m=\u001b[39m f\u001b[38;5;241m.\u001b[39mread()\n",
      "File \u001b[1;32mD:\\Study_Documents\\thesis\\env\\lib\\site-packages\\keras\\saving\\experimental\\saving_lib.py:153\u001b[0m, in \u001b[0;36msave_model\u001b[1;34m(model, filepath)\u001b[0m\n\u001b[0;32m    151\u001b[0m     _print_zip_file(zipfile_to_save, \u001b[38;5;124m\"\u001b[39m\u001b[38;5;124msaving\u001b[39m\u001b[38;5;124m\"\u001b[39m)\n\u001b[0;32m    152\u001b[0m \u001b[38;5;28;01mexcept\u001b[39;00m \u001b[38;5;167;01mException\u001b[39;00m \u001b[38;5;28;01mas\u001b[39;00m e:\n\u001b[1;32m--> 153\u001b[0m     \u001b[38;5;28;01mraise\u001b[39;00m e\n\u001b[0;32m    154\u001b[0m \u001b[38;5;28;01mfinally\u001b[39;00m:\n\u001b[0;32m    155\u001b[0m     _SAVING_V3_ENABLED\u001b[38;5;241m.\u001b[39mvalue \u001b[38;5;241m=\u001b[39m saving_v3_enabled_value\n",
      "File \u001b[1;32mD:\\Study_Documents\\thesis\\env\\lib\\site-packages\\keras\\saving\\experimental\\saving_lib.py:138\u001b[0m, in \u001b[0;36msave_model\u001b[1;34m(model, filepath)\u001b[0m\n\u001b[0;32m    136\u001b[0m h5_file \u001b[38;5;241m=\u001b[39m h5py\u001b[38;5;241m.\u001b[39mFile(tf\u001b[38;5;241m.\u001b[39mio\u001b[38;5;241m.\u001b[39mgfile\u001b[38;5;241m.\u001b[39mjoin(temp_path, _VARS_FNAME), \u001b[38;5;124m\"\u001b[39m\u001b[38;5;124mw\u001b[39m\u001b[38;5;124m\"\u001b[39m)\n\u001b[0;32m    137\u001b[0m assets_dir \u001b[38;5;241m=\u001b[39m tf\u001b[38;5;241m.\u001b[39mio\u001b[38;5;241m.\u001b[39mgfile\u001b[38;5;241m.\u001b[39mjoin(temp_path, _ASSETS_DIRNAME)\n\u001b[1;32m--> 138\u001b[0m \u001b[43m_save_state\u001b[49m\u001b[43m(\u001b[49m\n\u001b[0;32m    139\u001b[0m \u001b[43m    \u001b[49m\u001b[43mmodel\u001b[49m\u001b[43m,\u001b[49m\n\u001b[0;32m    140\u001b[0m \u001b[43m    \u001b[49m\u001b[43mweights_handler\u001b[49m\u001b[38;5;241;43m=\u001b[39;49m\u001b[43mH5IOHandler\u001b[49m\u001b[43m(\u001b[49m\u001b[43mh5_file\u001b[49m\u001b[43m)\u001b[49m\u001b[43m,\u001b[49m\n\u001b[0;32m    141\u001b[0m \u001b[43m    \u001b[49m\u001b[43massets_handler\u001b[49m\u001b[38;5;241;43m=\u001b[39;49m\u001b[43mDiskIOHandler\u001b[49m\u001b[43m(\u001b[49m\u001b[43massets_dir\u001b[49m\u001b[43m)\u001b[49m\u001b[43m,\u001b[49m\n\u001b[0;32m    142\u001b[0m \u001b[43m    \u001b[49m\u001b[43minner_path\u001b[49m\u001b[38;5;241;43m=\u001b[39;49m\u001b[38;5;124;43m\"\u001b[39;49m\u001b[38;5;124;43m\"\u001b[39;49m\u001b[43m,\u001b[49m\n\u001b[0;32m    143\u001b[0m \u001b[43m    \u001b[49m\u001b[43mvisited_trackables\u001b[49m\u001b[38;5;241;43m=\u001b[39;49m\u001b[38;5;28;43mset\u001b[39;49m\u001b[43m(\u001b[49m\u001b[43m)\u001b[49m\u001b[43m,\u001b[49m\n\u001b[0;32m    144\u001b[0m \u001b[43m\u001b[49m\u001b[43m)\u001b[49m\n\u001b[0;32m    145\u001b[0m _print_h5_file(h5_file, action\u001b[38;5;241m=\u001b[39m\u001b[38;5;124m\"\u001b[39m\u001b[38;5;124msaving\u001b[39m\u001b[38;5;124m\"\u001b[39m)\n\u001b[0;32m    146\u001b[0m h5_file\u001b[38;5;241m.\u001b[39mclose()\n",
      "File \u001b[1;32mD:\\Study_Documents\\thesis\\env\\lib\\site-packages\\keras\\saving\\experimental\\saving_lib.py:248\u001b[0m, in \u001b[0;36m_save_state\u001b[1;34m(trackable, weights_handler, assets_handler, inner_path, visited_trackables)\u001b[0m\n\u001b[0;32m    240\u001b[0m     _save_state(\n\u001b[0;32m    241\u001b[0m         child_obj,\n\u001b[0;32m    242\u001b[0m         weights_handler,\n\u001b[1;32m   (...)\u001b[0m\n\u001b[0;32m    245\u001b[0m         visited_trackables\u001b[38;5;241m=\u001b[39mvisited_trackables,\n\u001b[0;32m    246\u001b[0m     )\n\u001b[0;32m    247\u001b[0m \u001b[38;5;28;01melif\u001b[39;00m \u001b[38;5;28misinstance\u001b[39m(child_obj, (\u001b[38;5;28mlist\u001b[39m, \u001b[38;5;28mdict\u001b[39m, \u001b[38;5;28mtuple\u001b[39m)):\n\u001b[1;32m--> 248\u001b[0m     \u001b[43m_save_container_state\u001b[49m\u001b[43m(\u001b[49m\n\u001b[0;32m    249\u001b[0m \u001b[43m        \u001b[49m\u001b[43mchild_obj\u001b[49m\u001b[43m,\u001b[49m\n\u001b[0;32m    250\u001b[0m \u001b[43m        \u001b[49m\u001b[43mweights_handler\u001b[49m\u001b[43m,\u001b[49m\n\u001b[0;32m    251\u001b[0m \u001b[43m        \u001b[49m\u001b[43massets_handler\u001b[49m\u001b[43m,\u001b[49m\n\u001b[0;32m    252\u001b[0m \u001b[43m        \u001b[49m\u001b[43minner_path\u001b[49m\u001b[38;5;241;43m=\u001b[39;49m\u001b[43mtf\u001b[49m\u001b[38;5;241;43m.\u001b[39;49m\u001b[43mio\u001b[49m\u001b[38;5;241;43m.\u001b[39;49m\u001b[43mgfile\u001b[49m\u001b[38;5;241;43m.\u001b[39;49m\u001b[43mjoin\u001b[49m\u001b[43m(\u001b[49m\u001b[43minner_path\u001b[49m\u001b[43m,\u001b[49m\u001b[43m \u001b[49m\u001b[43mchild_attr\u001b[49m\u001b[43m)\u001b[49m\u001b[43m,\u001b[49m\n\u001b[0;32m    253\u001b[0m \u001b[43m        \u001b[49m\u001b[43mvisited_trackables\u001b[49m\u001b[38;5;241;43m=\u001b[39;49m\u001b[43mvisited_trackables\u001b[49m\u001b[43m,\u001b[49m\n\u001b[0;32m    254\u001b[0m \u001b[43m    \u001b[49m\u001b[43m)\u001b[49m\n",
      "File \u001b[1;32mD:\\Study_Documents\\thesis\\env\\lib\\site-packages\\keras\\saving\\experimental\\saving_lib.py:312\u001b[0m, in \u001b[0;36m_save_container_state\u001b[1;34m(container, weights_handler, assets_handler, inner_path, visited_trackables)\u001b[0m\n\u001b[0;32m    310\u001b[0m \u001b[38;5;28;01melse\u001b[39;00m:\n\u001b[0;32m    311\u001b[0m     used_names[name] \u001b[38;5;241m=\u001b[39m \u001b[38;5;241m0\u001b[39m\n\u001b[1;32m--> 312\u001b[0m \u001b[43m_save_state\u001b[49m\u001b[43m(\u001b[49m\n\u001b[0;32m    313\u001b[0m \u001b[43m    \u001b[49m\u001b[43mtrackable\u001b[49m\u001b[43m,\u001b[49m\n\u001b[0;32m    314\u001b[0m \u001b[43m    \u001b[49m\u001b[43mweights_handler\u001b[49m\u001b[43m,\u001b[49m\n\u001b[0;32m    315\u001b[0m \u001b[43m    \u001b[49m\u001b[43massets_handler\u001b[49m\u001b[43m,\u001b[49m\n\u001b[0;32m    316\u001b[0m \u001b[43m    \u001b[49m\u001b[43minner_path\u001b[49m\u001b[38;5;241;43m=\u001b[39;49m\u001b[43mtf\u001b[49m\u001b[38;5;241;43m.\u001b[39;49m\u001b[43mio\u001b[49m\u001b[38;5;241;43m.\u001b[39;49m\u001b[43mgfile\u001b[49m\u001b[38;5;241;43m.\u001b[39;49m\u001b[43mjoin\u001b[49m\u001b[43m(\u001b[49m\u001b[43minner_path\u001b[49m\u001b[43m,\u001b[49m\u001b[43m \u001b[49m\u001b[43mname\u001b[49m\u001b[43m)\u001b[49m\u001b[43m,\u001b[49m\n\u001b[0;32m    317\u001b[0m \u001b[43m    \u001b[49m\u001b[43mvisited_trackables\u001b[49m\u001b[38;5;241;43m=\u001b[39;49m\u001b[43mvisited_trackables\u001b[49m\u001b[43m,\u001b[49m\n\u001b[0;32m    318\u001b[0m \u001b[43m\u001b[49m\u001b[43m)\u001b[49m\n",
      "File \u001b[1;32mD:\\Study_Documents\\thesis\\env\\lib\\site-packages\\keras\\saving\\experimental\\saving_lib.py:224\u001b[0m, in \u001b[0;36m_save_state\u001b[1;34m(trackable, weights_handler, assets_handler, inner_path, visited_trackables)\u001b[0m\n\u001b[0;32m    222\u001b[0m \u001b[38;5;66;03m# TODO(fchollet): better name?\u001b[39;00m\n\u001b[0;32m    223\u001b[0m \u001b[38;5;28;01mif\u001b[39;00m \u001b[38;5;28mhasattr\u001b[39m(trackable, \u001b[38;5;124m\"\u001b[39m\u001b[38;5;124m_save_own_variables\u001b[39m\u001b[38;5;124m\"\u001b[39m):\n\u001b[1;32m--> 224\u001b[0m     \u001b[43mtrackable\u001b[49m\u001b[38;5;241;43m.\u001b[39;49m\u001b[43m_save_own_variables\u001b[49m\u001b[43m(\u001b[49m\u001b[43mweights_handler\u001b[49m\u001b[38;5;241;43m.\u001b[39;49m\u001b[43mmake\u001b[49m\u001b[43m(\u001b[49m\u001b[43minner_path\u001b[49m\u001b[43m)\u001b[49m\u001b[43m)\u001b[49m\n\u001b[0;32m    225\u001b[0m \u001b[38;5;28;01mif\u001b[39;00m \u001b[38;5;28mhasattr\u001b[39m(trackable, \u001b[38;5;124m\"\u001b[39m\u001b[38;5;124m_save_assets\u001b[39m\u001b[38;5;124m\"\u001b[39m):\n\u001b[0;32m    226\u001b[0m     trackable\u001b[38;5;241m.\u001b[39m_save_assets(assets_handler\u001b[38;5;241m.\u001b[39mmake(inner_path))\n",
      "File \u001b[1;32mD:\\Study_Documents\\thesis\\env\\lib\\site-packages\\keras\\engine\\base_layer.py:3433\u001b[0m, in \u001b[0;36mLayer._save_own_variables\u001b[1;34m(self, store)\u001b[0m\n\u001b[0;32m   3431\u001b[0m all_vars \u001b[38;5;241m=\u001b[39m \u001b[38;5;28mself\u001b[39m\u001b[38;5;241m.\u001b[39m_trainable_weights \u001b[38;5;241m+\u001b[39m \u001b[38;5;28mself\u001b[39m\u001b[38;5;241m.\u001b[39m_non_trainable_weights\n\u001b[0;32m   3432\u001b[0m \u001b[38;5;28;01mfor\u001b[39;00m i, v \u001b[38;5;129;01min\u001b[39;00m \u001b[38;5;28menumerate\u001b[39m(all_vars):\n\u001b[1;32m-> 3433\u001b[0m     store[\u001b[38;5;124mf\u001b[39m\u001b[38;5;124m\"\u001b[39m\u001b[38;5;132;01m{\u001b[39;00mi\u001b[38;5;132;01m}\u001b[39;00m\u001b[38;5;124m\"\u001b[39m] \u001b[38;5;241m=\u001b[39m \u001b[43mv\u001b[49m\u001b[38;5;241;43m.\u001b[39;49m\u001b[43mnumpy\u001b[49m\u001b[43m(\u001b[49m\u001b[43m)\u001b[49m\n",
      "File \u001b[1;32mD:\\Study_Documents\\thesis\\env\\lib\\site-packages\\tensorflow\\python\\ops\\resource_variable_ops.py:640\u001b[0m, in \u001b[0;36mBaseResourceVariable.numpy\u001b[1;34m(self)\u001b[0m\n\u001b[0;32m    638\u001b[0m \u001b[38;5;28;01mif\u001b[39;00m context\u001b[38;5;241m.\u001b[39mexecuting_eagerly():\n\u001b[0;32m    639\u001b[0m   \u001b[38;5;28;01mreturn\u001b[39;00m \u001b[38;5;28mself\u001b[39m\u001b[38;5;241m.\u001b[39mread_value()\u001b[38;5;241m.\u001b[39mnumpy()\n\u001b[1;32m--> 640\u001b[0m \u001b[38;5;28;01mraise\u001b[39;00m \u001b[38;5;167;01mNotImplementedError\u001b[39;00m(\n\u001b[0;32m    641\u001b[0m     \u001b[38;5;124m\"\u001b[39m\u001b[38;5;124mnumpy() is only available when eager execution is enabled.\u001b[39m\u001b[38;5;124m\"\u001b[39m)\n",
      "\u001b[1;31mNotImplementedError\u001b[0m: numpy() is only available when eager execution is enabled."
     ]
    }
   ],
   "source": [
    "batches_num = 10\n",
    "task_handles = [] \n",
    "for _ in range(batches_num):\n",
    "    task_handles.append(test_run_env.remote())\n",
    "\n",
    "output = ray.get(task_handles)\n",
    "print(output)"
   ]
  },
  {
   "cell_type": "code",
   "execution_count": null,
   "id": "2983b3d1-a78d-4ec5-b921-d3c56e3de4f9",
   "metadata": {},
   "outputs": [],
   "source": []
  }
 ],
 "metadata": {
  "kernelspec": {
   "display_name": "Python 3 (ipykernel)",
   "language": "python",
   "name": "python3"
  },
  "language_info": {
   "codemirror_mode": {
    "name": "ipython",
    "version": 3
   },
   "file_extension": ".py",
   "mimetype": "text/x-python",
   "name": "python",
   "nbconvert_exporter": "python",
   "pygments_lexer": "ipython3",
   "version": "3.9.16"
  }
 },
 "nbformat": 4,
 "nbformat_minor": 5
}
