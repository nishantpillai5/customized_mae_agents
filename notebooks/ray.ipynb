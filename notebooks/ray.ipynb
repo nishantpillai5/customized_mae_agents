{
 "cells": [
  {
   "cell_type": "code",
   "execution_count": 2,
   "metadata": {},
   "outputs": [
    {
     "name": "stdout",
     "output_type": "stream",
     "text": [
      "Requirement already satisfied: ray[rllib] in d:\\study documents\\thesis\\env\\lib\\site-packages (2.3.0)\n",
      "Requirement already satisfied: tensorflow in c:\\users\\rober\\appdata\\roaming\\python\\python38\\site-packages (2.8.0)\n",
      "Requirement already satisfied: frozenlist in d:\\study documents\\thesis\\env\\lib\\site-packages (from ray[rllib]) (1.3.3)\n",
      "Requirement already satisfied: grpcio>=1.32.0 in d:\\study documents\\thesis\\env\\lib\\site-packages (from ray[rllib]) (1.51.3)\n",
      "Requirement already satisfied: virtualenv>=20.0.24 in d:\\study documents\\thesis\\env\\lib\\site-packages (from ray[rllib]) (20.19.0)\n",
      "Requirement already satisfied: jsonschema in d:\\study documents\\thesis\\env\\lib\\site-packages (from ray[rllib]) (4.17.3)\n",
      "Requirement already satisfied: aiosignal in d:\\study documents\\thesis\\env\\lib\\site-packages (from ray[rllib]) (1.3.1)\n",
      "Requirement already satisfied: filelock in d:\\study documents\\thesis\\env\\lib\\site-packages (from ray[rllib]) (3.9.0)\n",
      "Requirement already satisfied: requests in d:\\study documents\\thesis\\env\\lib\\site-packages (from ray[rllib]) (2.28.2)\n",
      "Requirement already satisfied: msgpack<2.0.0,>=1.0.0 in d:\\study documents\\thesis\\env\\lib\\site-packages (from ray[rllib]) (1.0.4)\n",
      "Requirement already satisfied: click>=7.0 in d:\\study documents\\thesis\\env\\lib\\site-packages (from ray[rllib]) (8.1.3)\n",
      "Requirement already satisfied: attrs in d:\\study documents\\thesis\\env\\lib\\site-packages (from ray[rllib]) (22.2.0)\n",
      "Requirement already satisfied: protobuf!=3.19.5,>=3.15.3 in d:\\study documents\\thesis\\env\\lib\\site-packages (from ray[rllib]) (3.20.3)\n",
      "Requirement already satisfied: pyyaml in d:\\study documents\\thesis\\env\\lib\\site-packages (from ray[rllib]) (6.0)\n",
      "Requirement already satisfied: numpy>=1.16 in c:\\users\\rober\\appdata\\roaming\\python\\python38\\site-packages (from ray[rllib]) (1.22.3)\n",
      "Requirement already satisfied: scipy in d:\\study documents\\thesis\\env\\lib\\site-packages (from ray[rllib]) (1.10.1)\n",
      "Requirement already satisfied: scikit-image in d:\\study documents\\thesis\\env\\lib\\site-packages (from ray[rllib]) (0.19.3)\n",
      "Requirement already satisfied: rich in d:\\study documents\\thesis\\env\\lib\\site-packages (from ray[rllib]) (13.3.1)\n",
      "Requirement already satisfied: lz4 in d:\\study documents\\thesis\\env\\lib\\site-packages (from ray[rllib]) (4.3.2)\n",
      "Requirement already satisfied: typer in d:\\study documents\\thesis\\env\\lib\\site-packages (from ray[rllib]) (0.7.0)\n",
      "Requirement already satisfied: gymnasium==0.26.3 in d:\\study documents\\thesis\\env\\lib\\site-packages (from ray[rllib]) (0.26.3)\n",
      "Requirement already satisfied: tabulate in d:\\study documents\\thesis\\env\\lib\\site-packages (from ray[rllib]) (0.9.0)\n",
      "Requirement already satisfied: tensorboardX>=1.9 in d:\\study documents\\thesis\\env\\lib\\site-packages (from ray[rllib]) (2.6)\n",
      "Requirement already satisfied: dm-tree in d:\\study documents\\thesis\\env\\lib\\site-packages (from ray[rllib]) (0.1.8)\n",
      "Requirement already satisfied: pandas in d:\\study documents\\thesis\\env\\lib\\site-packages (from ray[rllib]) (1.5.3)\n",
      "Requirement already satisfied: cloudpickle>=1.2.0 in d:\\study documents\\thesis\\env\\lib\\site-packages (from gymnasium==0.26.3->ray[rllib]) (2.2.1)\n",
      "Requirement already satisfied: importlib-metadata>=4.8.0 in d:\\study documents\\thesis\\env\\lib\\site-packages (from gymnasium==0.26.3->ray[rllib]) (6.0.0)\n",
      "Requirement already satisfied: gymnasium-notices>=0.0.1 in d:\\study documents\\thesis\\env\\lib\\site-packages (from gymnasium==0.26.3->ray[rllib]) (0.0.1)\n",
      "Requirement already satisfied: google-pasta>=0.1.1 in d:\\study documents\\thesis\\env\\lib\\site-packages (from tensorflow) (0.2.0)\n",
      "Requirement already satisfied: astunparse>=1.6.0 in d:\\study documents\\thesis\\env\\lib\\site-packages (from tensorflow) (1.6.3)\n",
      "Requirement already satisfied: libclang>=9.0.1 in c:\\users\\rober\\appdata\\roaming\\python\\python38\\site-packages (from tensorflow) (13.0.0)\n",
      "Requirement already satisfied: gast>=0.2.1 in d:\\study documents\\thesis\\env\\lib\\site-packages (from tensorflow) (0.5.3)\n",
      "Requirement already satisfied: absl-py>=0.4.0 in d:\\study documents\\thesis\\env\\lib\\site-packages (from tensorflow) (1.4.0)\n",
      "Requirement already satisfied: flatbuffers>=1.12 in c:\\users\\rober\\appdata\\roaming\\python\\python38\\site-packages (from tensorflow) (2.0)\n",
      "Requirement already satisfied: keras<2.9,>=2.8.0rc0 in c:\\users\\rober\\appdata\\roaming\\python\\python38\\site-packages (from tensorflow) (2.8.0)\n",
      "Requirement already satisfied: termcolor>=1.1.0 in d:\\study documents\\thesis\\env\\lib\\site-packages (from tensorflow) (2.2.0)\n",
      "Requirement already satisfied: typing-extensions>=3.6.6 in d:\\study documents\\thesis\\env\\lib\\site-packages (from tensorflow) (4.5.0)\n",
      "Requirement already satisfied: h5py>=2.9.0 in d:\\study documents\\thesis\\env\\lib\\site-packages (from tensorflow) (3.8.0)\n",
      "Requirement already satisfied: opt-einsum>=2.3.2 in d:\\study documents\\thesis\\env\\lib\\site-packages (from tensorflow) (3.3.0)\n",
      "Requirement already satisfied: six>=1.12.0 in d:\\study documents\\thesis\\env\\lib\\site-packages (from tensorflow) (1.16.0)\n",
      "Requirement already satisfied: tf-estimator-nightly==2.8.0.dev2021122109 in c:\\users\\rober\\appdata\\roaming\\python\\python38\\site-packages (from tensorflow) (2.8.0.dev2021122109)\n",
      "Requirement already satisfied: setuptools in d:\\study documents\\thesis\\env\\lib\\site-packages (from tensorflow) (67.4.0)\n",
      "Requirement already satisfied: keras-preprocessing>=1.1.1 in d:\\study documents\\thesis\\env\\lib\\site-packages (from tensorflow) (1.1.2)\n",
      "Requirement already satisfied: tensorboard<2.9,>=2.8 in c:\\users\\rober\\appdata\\roaming\\python\\python38\\site-packages (from tensorflow) (2.8.0)\n",
      "Requirement already satisfied: wrapt>=1.11.0 in d:\\study documents\\thesis\\env\\lib\\site-packages (from tensorflow) (1.14.1)\n",
      "Requirement already satisfied: tensorflow-io-gcs-filesystem>=0.23.1 in c:\\users\\rober\\appdata\\roaming\\python\\python38\\site-packages (from tensorflow) (0.24.0)\n",
      "Requirement already satisfied: wheel<1.0,>=0.23.0 in d:\\study documents\\thesis\\env\\lib\\site-packages (from astunparse>=1.6.0->tensorflow) (0.38.4)\n",
      "Requirement already satisfied: colorama in d:\\study documents\\thesis\\env\\lib\\site-packages (from click>=7.0->ray[rllib]) (0.4.6)\n",
      "Requirement already satisfied: markdown>=2.6.8 in d:\\study documents\\thesis\\env\\lib\\site-packages (from tensorboard<2.9,>=2.8->tensorflow) (3.4.1)\n",
      "Requirement already satisfied: google-auth<3,>=1.6.3 in d:\\study documents\\thesis\\env\\lib\\site-packages (from tensorboard<2.9,>=2.8->tensorflow) (2.16.1)\n",
      "Requirement already satisfied: tensorboard-plugin-wit>=1.6.0 in d:\\study documents\\thesis\\env\\lib\\site-packages (from tensorboard<2.9,>=2.8->tensorflow) (1.8.1)\n",
      "Requirement already satisfied: tensorboard-data-server<0.7.0,>=0.6.0 in d:\\study documents\\thesis\\env\\lib\\site-packages (from tensorboard<2.9,>=2.8->tensorflow) (0.6.1)\n",
      "Requirement already satisfied: google-auth-oauthlib<0.5,>=0.4.1 in d:\\study documents\\thesis\\env\\lib\\site-packages (from tensorboard<2.9,>=2.8->tensorflow) (0.4.6)\n",
      "Requirement already satisfied: werkzeug>=0.11.15 in d:\\study documents\\thesis\\env\\lib\\site-packages (from tensorboard<2.9,>=2.8->tensorflow) (2.2.3)\n",
      "Requirement already satisfied: charset-normalizer<4,>=2 in d:\\study documents\\thesis\\env\\lib\\site-packages (from requests->ray[rllib]) (2.1.1)\n",
      "Requirement already satisfied: idna<4,>=2.5 in d:\\study documents\\thesis\\env\\lib\\site-packages (from requests->ray[rllib]) (3.4)\n",
      "Requirement already satisfied: certifi>=2017.4.17 in d:\\study documents\\thesis\\env\\lib\\site-packages (from requests->ray[rllib]) (2022.12.7)\n",
      "Requirement already satisfied: urllib3<1.27,>=1.21.1 in d:\\study documents\\thesis\\env\\lib\\site-packages (from requests->ray[rllib]) (1.26.14)\n",
      "Requirement already satisfied: packaging in d:\\study documents\\thesis\\env\\lib\\site-packages (from tensorboardX>=1.9->ray[rllib]) (23.0)\n",
      "Requirement already satisfied: distlib<1,>=0.3.6 in d:\\study documents\\thesis\\env\\lib\\site-packages (from virtualenv>=20.0.24->ray[rllib]) (0.3.6)\n",
      "Requirement already satisfied: platformdirs<4,>=2.4 in d:\\study documents\\thesis\\env\\lib\\site-packages (from virtualenv>=20.0.24->ray[rllib]) (3.0.0)\n",
      "Requirement already satisfied: pyrsistent!=0.17.0,!=0.17.1,!=0.17.2,>=0.14.0 in d:\\study documents\\thesis\\env\\lib\\site-packages (from jsonschema->ray[rllib]) (0.19.3)\n",
      "Requirement already satisfied: importlib-resources>=1.4.0 in d:\\study documents\\thesis\\env\\lib\\site-packages (from jsonschema->ray[rllib]) (5.12.0)\n",
      "Requirement already satisfied: pkgutil-resolve-name>=1.3.10 in d:\\study documents\\thesis\\env\\lib\\site-packages (from jsonschema->ray[rllib]) (1.3.10)\n",
      "Requirement already satisfied: pytz>=2020.1 in d:\\study documents\\thesis\\env\\lib\\site-packages (from pandas->ray[rllib]) (2022.7.1)\n",
      "Requirement already satisfied: python-dateutil>=2.8.1 in d:\\study documents\\thesis\\env\\lib\\site-packages (from pandas->ray[rllib]) (2.8.2)\n",
      "Requirement already satisfied: pygments<3.0.0,>=2.14.0 in d:\\study documents\\thesis\\env\\lib\\site-packages (from rich->ray[rllib]) (2.14.0)\n",
      "Requirement already satisfied: markdown-it-py<3.0.0,>=2.1.0 in d:\\study documents\\thesis\\env\\lib\\site-packages (from rich->ray[rllib]) (2.2.0)\n",
      "Requirement already satisfied: imageio>=2.4.1 in d:\\study documents\\thesis\\env\\lib\\site-packages (from scikit-image->ray[rllib]) (2.25.1)\n",
      "Requirement already satisfied: tifffile>=2019.7.26 in d:\\study documents\\thesis\\env\\lib\\site-packages (from scikit-image->ray[rllib]) (2023.2.3)\n",
      "Requirement already satisfied: PyWavelets>=1.1.1 in d:\\study documents\\thesis\\env\\lib\\site-packages (from scikit-image->ray[rllib]) (1.4.1)\n",
      "Requirement already satisfied: networkx>=2.2 in d:\\study documents\\thesis\\env\\lib\\site-packages (from scikit-image->ray[rllib]) (3.0)\n",
      "Requirement already satisfied: pillow!=7.1.0,!=7.1.1,!=8.3.0,>=6.1.0 in d:\\study documents\\thesis\\env\\lib\\site-packages (from scikit-image->ray[rllib]) (9.4.0)\n",
      "Requirement already satisfied: rsa<5,>=3.1.4 in d:\\study documents\\thesis\\env\\lib\\site-packages (from google-auth<3,>=1.6.3->tensorboard<2.9,>=2.8->tensorflow) (4.9)\n",
      "Requirement already satisfied: pyasn1-modules>=0.2.1 in d:\\study documents\\thesis\\env\\lib\\site-packages (from google-auth<3,>=1.6.3->tensorboard<2.9,>=2.8->tensorflow) (0.2.8)\n",
      "Requirement already satisfied: cachetools<6.0,>=2.0.0 in d:\\study documents\\thesis\\env\\lib\\site-packages (from google-auth<3,>=1.6.3->tensorboard<2.9,>=2.8->tensorflow) (5.3.0)\n",
      "Requirement already satisfied: requests-oauthlib>=0.7.0 in d:\\study documents\\thesis\\env\\lib\\site-packages (from google-auth-oauthlib<0.5,>=0.4.1->tensorboard<2.9,>=2.8->tensorflow) (1.3.1)\n",
      "Requirement already satisfied: zipp>=0.5 in d:\\study documents\\thesis\\env\\lib\\site-packages (from importlib-metadata>=4.8.0->gymnasium==0.26.3->ray[rllib]) (3.14.0)\n",
      "Requirement already satisfied: mdurl~=0.1 in d:\\study documents\\thesis\\env\\lib\\site-packages (from markdown-it-py<3.0.0,>=2.1.0->rich->ray[rllib]) (0.1.2)\n",
      "Requirement already satisfied: MarkupSafe>=2.1.1 in d:\\study documents\\thesis\\env\\lib\\site-packages (from werkzeug>=0.11.15->tensorboard<2.9,>=2.8->tensorflow) (2.1.2)\n",
      "Requirement already satisfied: pyasn1<0.5.0,>=0.4.6 in d:\\study documents\\thesis\\env\\lib\\site-packages (from pyasn1-modules>=0.2.1->google-auth<3,>=1.6.3->tensorboard<2.9,>=2.8->tensorflow) (0.4.8)\n",
      "Requirement already satisfied: oauthlib>=3.0.0 in d:\\study documents\\thesis\\env\\lib\\site-packages (from requests-oauthlib>=0.7.0->google-auth-oauthlib<0.5,>=0.4.1->tensorboard<2.9,>=2.8->tensorflow) (3.2.2)\n",
      "^C\n"
     ]
    }
   ],
   "source": [
    "!pip install ray[rllib] tensorflow\n",
    "!pip install torch torchvision torchaudio --extra-index-url https://download.pytorch.org/whl/cu116"
   ]
  },
  {
   "cell_type": "code",
   "execution_count": 1,
   "metadata": {},
   "outputs": [
    {
     "name": "stderr",
     "output_type": "stream",
     "text": [
      "C:\\Users\\rober\\AppData\\Roaming\\Python\\Python38\\site-packages\\pydot.py:17: UserWarning: `pydot` could not import `dot_parser`, so `pydot` will be unable to parse DOT files. The error was:  No module named 'pyparsing'\n",
      "  warnings.warn(\n",
      "C:\\Users\\rober\\AppData\\Roaming\\Python\\Python38\\site-packages\\tqdm\\auto.py:22: TqdmWarning: IProgress not found. Please update jupyter and ipywidgets. See https://ipywidgets.readthedocs.io/en/stable/user_install.html\n",
      "  from .autonotebook import tqdm as notebook_tqdm\n"
     ]
    }
   ],
   "source": [
    "import argparse\n",
    "import gymnasium as gym\n",
    "import os\n",
    "\n",
    "import numpy as np\n",
    "import ray\n",
    "from ray.air import Checkpoint\n",
    "from ray.air.config import RunConfig\n",
    "from ray.train.rl.rl_predictor import RLPredictor\n",
    "from ray.train.rl.rl_trainer import RLTrainer\n",
    "from ray.air.config import ScalingConfig\n",
    "from ray.air.result import Result\n",
    "from ray.rllib.algorithms.bc import BC\n",
    "from ray.tune.tuner import Tuner"
   ]
  },
  {
   "cell_type": "code",
   "execution_count": 2,
   "metadata": {},
   "outputs": [],
   "source": [
    "def train_rl_ppo_online(num_workers: int, use_gpu: bool = False) -> Result:\n",
    "    print(\"Starting online training\")\n",
    "    trainer = RLTrainer(\n",
    "        run_config=RunConfig(stop={\"training_iteration\": 5}),\n",
    "        scaling_config=ScalingConfig(num_workers=num_workers, use_gpu=use_gpu),\n",
    "        algorithm=\"PPO\",\n",
    "        config={\n",
    "            \"env\": \"CartPole-v1\",\n",
    "            \"framework\": \"tf\",\n",
    "        },\n",
    "    )\n",
    "    # Todo (krfricke/xwjiang): Enable checkpoint config in RunConfig\n",
    "    # result = trainer.fit()\n",
    "    tuner = Tuner(\n",
    "        trainer,\n",
    "        _tuner_kwargs={\"checkpoint_at_end\": True},\n",
    "    )\n",
    "    result = tuner.fit()[0]\n",
    "    return result"
   ]
  },
  {
   "cell_type": "code",
   "execution_count": 3,
   "metadata": {},
   "outputs": [],
   "source": [
    "def evaluate_using_checkpoint(checkpoint: Checkpoint, num_episodes) -> list:\n",
    "    predictor = RLPredictor.from_checkpoint(checkpoint)\n",
    "\n",
    "    env = gym.make(\"CartPole-v1\")\n",
    "\n",
    "    rewards = []\n",
    "    for i in range(num_episodes):\n",
    "        obs = env.reset()\n",
    "        reward = 0.0\n",
    "        done = False\n",
    "        while not done:\n",
    "            action = predictor.predict(np.array([obs]))\n",
    "            obs, r, done, _ = env.step(action[0])\n",
    "            reward += r\n",
    "        rewards.append(reward)\n",
    "\n",
    "    return rewards"
   ]
  },
  {
   "cell_type": "code",
   "execution_count": 4,
   "metadata": {},
   "outputs": [
    {
     "name": "stdout",
     "output_type": "stream",
     "text": [
      "Starting online training\n"
     ]
    },
    {
     "ename": "ModuleNotFoundError",
     "evalue": "No module named 'tensorflow_probability'",
     "output_type": "error",
     "traceback": [
      "\u001b[1;31m---------------------------------------------------------------------------\u001b[0m",
      "\u001b[1;31mModuleNotFoundError\u001b[0m                       Traceback (most recent call last)",
      "Cell \u001b[1;32mIn[4], line 1\u001b[0m\n\u001b[1;32m----> 1\u001b[0m result \u001b[38;5;241m=\u001b[39m \u001b[43mtrain_rl_ppo_online\u001b[49m\u001b[43m(\u001b[49m\u001b[43mnum_workers\u001b[49m\u001b[38;5;241;43m=\u001b[39;49m\u001b[38;5;241;43m2\u001b[39;49m\u001b[43m,\u001b[49m\u001b[43m \u001b[49m\u001b[43muse_gpu\u001b[49m\u001b[38;5;241;43m=\u001b[39;49m\u001b[38;5;28;43;01mFalse\u001b[39;49;00m\u001b[43m)\u001b[49m\n",
      "Cell \u001b[1;32mIn[2], line 14\u001b[0m, in \u001b[0;36mtrain_rl_ppo_online\u001b[1;34m(num_workers, use_gpu)\u001b[0m\n\u001b[0;32m      3\u001b[0m trainer \u001b[38;5;241m=\u001b[39m RLTrainer(\n\u001b[0;32m      4\u001b[0m     run_config\u001b[38;5;241m=\u001b[39mRunConfig(stop\u001b[38;5;241m=\u001b[39m{\u001b[38;5;124m\"\u001b[39m\u001b[38;5;124mtraining_iteration\u001b[39m\u001b[38;5;124m\"\u001b[39m: \u001b[38;5;241m5\u001b[39m}),\n\u001b[0;32m      5\u001b[0m     scaling_config\u001b[38;5;241m=\u001b[39mScalingConfig(num_workers\u001b[38;5;241m=\u001b[39mnum_workers, use_gpu\u001b[38;5;241m=\u001b[39muse_gpu),\n\u001b[1;32m   (...)\u001b[0m\n\u001b[0;32m     10\u001b[0m     },\n\u001b[0;32m     11\u001b[0m )\n\u001b[0;32m     12\u001b[0m \u001b[38;5;66;03m# Todo (krfricke/xwjiang): Enable checkpoint config in RunConfig\u001b[39;00m\n\u001b[0;32m     13\u001b[0m \u001b[38;5;66;03m# result = trainer.fit()\u001b[39;00m\n\u001b[1;32m---> 14\u001b[0m tuner \u001b[38;5;241m=\u001b[39m \u001b[43mTuner\u001b[49m\u001b[43m(\u001b[49m\n\u001b[0;32m     15\u001b[0m \u001b[43m    \u001b[49m\u001b[43mtrainer\u001b[49m\u001b[43m,\u001b[49m\n\u001b[0;32m     16\u001b[0m \u001b[43m    \u001b[49m\u001b[43m_tuner_kwargs\u001b[49m\u001b[38;5;241;43m=\u001b[39;49m\u001b[43m{\u001b[49m\u001b[38;5;124;43m\"\u001b[39;49m\u001b[38;5;124;43mcheckpoint_at_end\u001b[39;49m\u001b[38;5;124;43m\"\u001b[39;49m\u001b[43m:\u001b[49m\u001b[43m \u001b[49m\u001b[38;5;28;43;01mTrue\u001b[39;49;00m\u001b[43m}\u001b[49m\u001b[43m,\u001b[49m\n\u001b[0;32m     17\u001b[0m \u001b[43m\u001b[49m\u001b[43m)\u001b[49m\n\u001b[0;32m     18\u001b[0m result \u001b[38;5;241m=\u001b[39m tuner\u001b[38;5;241m.\u001b[39mfit()[\u001b[38;5;241m0\u001b[39m]\n\u001b[0;32m     19\u001b[0m \u001b[38;5;28;01mreturn\u001b[39;00m result\n",
      "File \u001b[1;32mD:\\Study Documents\\thesis\\env\\lib\\site-packages\\ray\\tune\\tuner.py:153\u001b[0m, in \u001b[0;36mTuner.__init__\u001b[1;34m(self, trainable, param_space, tune_config, run_config, _tuner_kwargs, _tuner_internal)\u001b[0m\n\u001b[0;32m    151\u001b[0m kwargs\u001b[38;5;241m.\u001b[39mpop(_SELF, \u001b[38;5;28;01mNone\u001b[39;00m)\n\u001b[0;32m    152\u001b[0m \u001b[38;5;28;01mif\u001b[39;00m \u001b[38;5;129;01mnot\u001b[39;00m \u001b[38;5;28mself\u001b[39m\u001b[38;5;241m.\u001b[39m_is_ray_client:\n\u001b[1;32m--> 153\u001b[0m     \u001b[38;5;28mself\u001b[39m\u001b[38;5;241m.\u001b[39m_local_tuner \u001b[38;5;241m=\u001b[39m \u001b[43mTunerInternal\u001b[49m\u001b[43m(\u001b[49m\u001b[38;5;241;43m*\u001b[39;49m\u001b[38;5;241;43m*\u001b[39;49m\u001b[43mkwargs\u001b[49m\u001b[43m)\u001b[49m\n\u001b[0;32m    154\u001b[0m \u001b[38;5;28;01melse\u001b[39;00m:\n\u001b[0;32m    155\u001b[0m     \u001b[38;5;28mself\u001b[39m\u001b[38;5;241m.\u001b[39m_remote_tuner \u001b[38;5;241m=\u001b[39m _force_on_current_node(\n\u001b[0;32m    156\u001b[0m         ray\u001b[38;5;241m.\u001b[39mremote(num_cpus\u001b[38;5;241m=\u001b[39m\u001b[38;5;241m0\u001b[39m)(TunerInternal)\n\u001b[0;32m    157\u001b[0m     )\u001b[38;5;241m.\u001b[39mremote(\u001b[38;5;241m*\u001b[39m\u001b[38;5;241m*\u001b[39mkwargs)\n",
      "File \u001b[1;32mD:\\Study Documents\\thesis\\env\\lib\\site-packages\\ray\\tune\\impl\\tuner_internal.py:121\u001b[0m, in \u001b[0;36mTunerInternal.__init__\u001b[1;34m(self, restore_path, resume_config, trainable, param_space, tune_config, run_config, _tuner_kwargs)\u001b[0m\n\u001b[0;32m    118\u001b[0m     \u001b[38;5;28;01mraise\u001b[39;00m TuneError(\u001b[38;5;124m\"\u001b[39m\u001b[38;5;124mYou need to provide a trainable to tune.\u001b[39m\u001b[38;5;124m\"\u001b[39m)\n\u001b[0;32m    120\u001b[0m \u001b[38;5;28mself\u001b[39m\u001b[38;5;241m.\u001b[39m_is_restored \u001b[38;5;241m=\u001b[39m \u001b[38;5;28;01mFalse\u001b[39;00m\n\u001b[1;32m--> 121\u001b[0m \u001b[38;5;28;43mself\u001b[39;49m\u001b[38;5;241;43m.\u001b[39;49m\u001b[43mtrainable\u001b[49m \u001b[38;5;241m=\u001b[39m trainable\n\u001b[0;32m    122\u001b[0m \u001b[38;5;28mself\u001b[39m\u001b[38;5;241m.\u001b[39m_resume_config \u001b[38;5;241m=\u001b[39m \u001b[38;5;28;01mNone\u001b[39;00m\n\u001b[0;32m    124\u001b[0m \u001b[38;5;28mself\u001b[39m\u001b[38;5;241m.\u001b[39m_tuner_kwargs \u001b[38;5;241m=\u001b[39m copy\u001b[38;5;241m.\u001b[39mdeepcopy(_tuner_kwargs) \u001b[38;5;129;01mor\u001b[39;00m {}\n",
      "File \u001b[1;32mD:\\Study Documents\\thesis\\env\\lib\\site-packages\\ray\\tune\\impl\\tuner_internal.py:437\u001b[0m, in \u001b[0;36mTunerInternal.trainable\u001b[1;34m(self, trainable)\u001b[0m\n\u001b[0;32m    434\u001b[0m \u001b[38;5;129m@trainable\u001b[39m\u001b[38;5;241m.\u001b[39msetter\n\u001b[0;32m    435\u001b[0m \u001b[38;5;28;01mdef\u001b[39;00m \u001b[38;5;21mtrainable\u001b[39m(\u001b[38;5;28mself\u001b[39m, trainable: TrainableTypeOrTrainer):\n\u001b[0;32m    436\u001b[0m     \u001b[38;5;28mself\u001b[39m\u001b[38;5;241m.\u001b[39m_trainable \u001b[38;5;241m=\u001b[39m trainable\n\u001b[1;32m--> 437\u001b[0m     \u001b[38;5;28mself\u001b[39m\u001b[38;5;241m.\u001b[39m_converted_trainable \u001b[38;5;241m=\u001b[39m \u001b[38;5;28;43mself\u001b[39;49m\u001b[38;5;241;43m.\u001b[39;49m\u001b[43m_convert_trainable\u001b[49m\u001b[43m(\u001b[49m\u001b[43mtrainable\u001b[49m\u001b[43m)\u001b[49m\n",
      "File \u001b[1;32mD:\\Study Documents\\thesis\\env\\lib\\site-packages\\ray\\tune\\impl\\tuner_internal.py:445\u001b[0m, in \u001b[0;36mTunerInternal._convert_trainable\u001b[1;34m(self, trainable)\u001b[0m\n\u001b[0;32m    440\u001b[0m \u001b[38;5;250m\u001b[39m\u001b[38;5;124;03m\"\"\"Converts an AIR Trainer to a Tune trainable and saves the converted\u001b[39;00m\n\u001b[0;32m    441\u001b[0m \u001b[38;5;124;03mtrainable. If not using an AIR Trainer, this leaves the trainable as is.\"\"\"\u001b[39;00m\n\u001b[0;32m    442\u001b[0m \u001b[38;5;28;01mfrom\u001b[39;00m \u001b[38;5;21;01mray\u001b[39;00m\u001b[38;5;21;01m.\u001b[39;00m\u001b[38;5;21;01mtrain\u001b[39;00m\u001b[38;5;21;01m.\u001b[39;00m\u001b[38;5;21;01mtrainer\u001b[39;00m \u001b[38;5;28;01mimport\u001b[39;00m BaseTrainer\n\u001b[0;32m    444\u001b[0m \u001b[38;5;28;01mreturn\u001b[39;00m (\n\u001b[1;32m--> 445\u001b[0m     \u001b[43mtrainable\u001b[49m\u001b[38;5;241;43m.\u001b[39;49m\u001b[43mas_trainable\u001b[49m\u001b[43m(\u001b[49m\u001b[43m)\u001b[49m\n\u001b[0;32m    446\u001b[0m     \u001b[38;5;28;01mif\u001b[39;00m \u001b[38;5;28misinstance\u001b[39m(trainable, BaseTrainer)\n\u001b[0;32m    447\u001b[0m     \u001b[38;5;28;01melse\u001b[39;00m trainable\n\u001b[0;32m    448\u001b[0m )\n",
      "File \u001b[1;32mD:\\Study Documents\\thesis\\env\\lib\\site-packages\\ray\\train\\rl\\rl_trainer.py:190\u001b[0m, in \u001b[0;36mRLTrainer.as_trainable\u001b[1;34m(self)\u001b[0m\n\u001b[0;32m    187\u001b[0m preprocessor \u001b[38;5;241m=\u001b[39m \u001b[38;5;28mself\u001b[39m\u001b[38;5;241m.\u001b[39mpreprocessor\n\u001b[0;32m    189\u001b[0m \u001b[38;5;28;01mif\u001b[39;00m \u001b[38;5;28misinstance\u001b[39m(\u001b[38;5;28mself\u001b[39m\u001b[38;5;241m.\u001b[39m_algorithm, \u001b[38;5;28mstr\u001b[39m):\n\u001b[1;32m--> 190\u001b[0m     rllib_trainer \u001b[38;5;241m=\u001b[39m \u001b[43mget_trainable_cls\u001b[49m\u001b[43m(\u001b[49m\u001b[38;5;28;43mself\u001b[39;49m\u001b[38;5;241;43m.\u001b[39;49m\u001b[43m_algorithm\u001b[49m\u001b[43m)\u001b[49m\n\u001b[0;32m    191\u001b[0m \u001b[38;5;28;01melse\u001b[39;00m:\n\u001b[0;32m    192\u001b[0m     rllib_trainer \u001b[38;5;241m=\u001b[39m \u001b[38;5;28mself\u001b[39m\u001b[38;5;241m.\u001b[39m_algorithm\n",
      "File \u001b[1;32mD:\\Study Documents\\thesis\\env\\lib\\site-packages\\ray\\tune\\registry.py:45\u001b[0m, in \u001b[0;36mget_trainable_cls\u001b[1;34m(trainable_name)\u001b[0m\n\u001b[0;32m     43\u001b[0m \u001b[38;5;129m@DeveloperAPI\u001b[39m\n\u001b[0;32m     44\u001b[0m \u001b[38;5;28;01mdef\u001b[39;00m \u001b[38;5;21mget_trainable_cls\u001b[39m(trainable_name):\n\u001b[1;32m---> 45\u001b[0m     \u001b[43mvalidate_trainable\u001b[49m\u001b[43m(\u001b[49m\u001b[43mtrainable_name\u001b[49m\u001b[43m)\u001b[49m\n\u001b[0;32m     46\u001b[0m     \u001b[38;5;28;01mreturn\u001b[39;00m _global_registry\u001b[38;5;241m.\u001b[39mget(TRAINABLE_CLASS, trainable_name)\n",
      "File \u001b[1;32mD:\\Study Documents\\thesis\\env\\lib\\site-packages\\ray\\tune\\registry.py:55\u001b[0m, in \u001b[0;36mvalidate_trainable\u001b[1;34m(trainable_name)\u001b[0m\n\u001b[0;32m     51\u001b[0m \u001b[38;5;28;01mif\u001b[39;00m \u001b[38;5;129;01mnot\u001b[39;00m _has_trainable(trainable_name):\n\u001b[0;32m     52\u001b[0m     \u001b[38;5;66;03m# Make sure everything rllib-related is registered.\u001b[39;00m\n\u001b[0;32m     53\u001b[0m     \u001b[38;5;28;01mfrom\u001b[39;00m \u001b[38;5;21;01mray\u001b[39;00m\u001b[38;5;21;01m.\u001b[39;00m\u001b[38;5;21;01mrllib\u001b[39;00m \u001b[38;5;28;01mimport\u001b[39;00m _register_all\n\u001b[1;32m---> 55\u001b[0m     \u001b[43m_register_all\u001b[49m\u001b[43m(\u001b[49m\u001b[43m)\u001b[49m\n\u001b[0;32m     56\u001b[0m     \u001b[38;5;28;01mif\u001b[39;00m \u001b[38;5;129;01mnot\u001b[39;00m _has_trainable(trainable_name):\n\u001b[0;32m     57\u001b[0m         \u001b[38;5;28;01mraise\u001b[39;00m TuneError(\u001b[38;5;124m\"\u001b[39m\u001b[38;5;124mUnknown trainable: \u001b[39m\u001b[38;5;124m\"\u001b[39m \u001b[38;5;241m+\u001b[39m trainable_name)\n",
      "File \u001b[1;32mD:\\Study Documents\\thesis\\env\\lib\\site-packages\\ray\\rllib\\__init__.py:35\u001b[0m, in \u001b[0;36m_register_all\u001b[1;34m()\u001b[0m\n\u001b[0;32m     32\u001b[0m \u001b[38;5;28;01mfrom\u001b[39;00m \u001b[38;5;21;01mray\u001b[39;00m\u001b[38;5;21;01m.\u001b[39;00m\u001b[38;5;21;01mrllib\u001b[39;00m\u001b[38;5;21;01m.\u001b[39;00m\u001b[38;5;21;01malgorithms\u001b[39;00m\u001b[38;5;21;01m.\u001b[39;00m\u001b[38;5;21;01mregistry\u001b[39;00m \u001b[38;5;28;01mimport\u001b[39;00m ALGORITHMS, _get_algorithm_class\n\u001b[0;32m     34\u001b[0m \u001b[38;5;28;01mfor\u001b[39;00m key, get_trainable_class_and_config \u001b[38;5;129;01min\u001b[39;00m ALGORITHMS\u001b[38;5;241m.\u001b[39mitems():\n\u001b[1;32m---> 35\u001b[0m     register_trainable(key, \u001b[43mget_trainable_class_and_config\u001b[49m\u001b[43m(\u001b[49m\u001b[43m)\u001b[49m[\u001b[38;5;241m0\u001b[39m])\n\u001b[0;32m     37\u001b[0m \u001b[38;5;28;01mfor\u001b[39;00m key \u001b[38;5;129;01min\u001b[39;00m [\u001b[38;5;124m\"\u001b[39m\u001b[38;5;124m__fake\u001b[39m\u001b[38;5;124m\"\u001b[39m, \u001b[38;5;124m\"\u001b[39m\u001b[38;5;124m__sigmoid_fake_data\u001b[39m\u001b[38;5;124m\"\u001b[39m, \u001b[38;5;124m\"\u001b[39m\u001b[38;5;124m__parameter_tuning\u001b[39m\u001b[38;5;124m\"\u001b[39m]:\n\u001b[0;32m     38\u001b[0m     register_trainable(key, _get_algorithm_class(key))\n",
      "File \u001b[1;32mD:\\Study Documents\\thesis\\env\\lib\\site-packages\\ray\\rllib\\algorithms\\registry.py:64\u001b[0m, in \u001b[0;36m_import_bandit_lints\u001b[1;34m()\u001b[0m\n\u001b[0;32m     63\u001b[0m \u001b[38;5;28;01mdef\u001b[39;00m \u001b[38;5;21m_import_bandit_lints\u001b[39m():\n\u001b[1;32m---> 64\u001b[0m     \u001b[38;5;28;01mfrom\u001b[39;00m \u001b[38;5;21;01mray\u001b[39;00m\u001b[38;5;21;01m.\u001b[39;00m\u001b[38;5;21;01mrllib\u001b[39;00m\u001b[38;5;21;01m.\u001b[39;00m\u001b[38;5;21;01malgorithms\u001b[39;00m\u001b[38;5;21;01m.\u001b[39;00m\u001b[38;5;21;01mbandit\u001b[39;00m\u001b[38;5;21;01m.\u001b[39;00m\u001b[38;5;21;01mbandit\u001b[39;00m \u001b[38;5;28;01mimport\u001b[39;00m BanditLinTS\n\u001b[0;32m     66\u001b[0m     \u001b[38;5;28;01mreturn\u001b[39;00m BanditLinTS, BanditLinTS\u001b[38;5;241m.\u001b[39mget_default_config()\n",
      "File \u001b[1;32mD:\\Study Documents\\thesis\\env\\lib\\site-packages\\ray\\rllib\\algorithms\\bandit\\__init__.py:1\u001b[0m\n\u001b[1;32m----> 1\u001b[0m \u001b[38;5;28;01mfrom\u001b[39;00m \u001b[38;5;21;01mray\u001b[39;00m\u001b[38;5;21;01m.\u001b[39;00m\u001b[38;5;21;01mrllib\u001b[39;00m\u001b[38;5;21;01m.\u001b[39;00m\u001b[38;5;21;01malgorithms\u001b[39;00m\u001b[38;5;21;01m.\u001b[39;00m\u001b[38;5;21;01mbandit\u001b[39;00m\u001b[38;5;21;01m.\u001b[39;00m\u001b[38;5;21;01mbandit\u001b[39;00m \u001b[38;5;28;01mimport\u001b[39;00m (\n\u001b[0;32m      2\u001b[0m     BanditLinTS,\n\u001b[0;32m      3\u001b[0m     BanditLinUCB,\n\u001b[0;32m      4\u001b[0m     BanditLinTSConfig,\n\u001b[0;32m      5\u001b[0m     BanditLinUCBConfig,\n\u001b[0;32m      6\u001b[0m )\n\u001b[0;32m      8\u001b[0m __all__ \u001b[38;5;241m=\u001b[39m [\n\u001b[0;32m      9\u001b[0m     \u001b[38;5;124m\"\u001b[39m\u001b[38;5;124mBanditLinTS\u001b[39m\u001b[38;5;124m\"\u001b[39m,\n\u001b[0;32m     10\u001b[0m     \u001b[38;5;124m\"\u001b[39m\u001b[38;5;124mBanditLinUCB\u001b[39m\u001b[38;5;124m\"\u001b[39m,\n\u001b[0;32m     11\u001b[0m     \u001b[38;5;124m\"\u001b[39m\u001b[38;5;124mBanditLinTSConfig\u001b[39m\u001b[38;5;124m\"\u001b[39m,\n\u001b[0;32m     12\u001b[0m     \u001b[38;5;124m\"\u001b[39m\u001b[38;5;124mBanditLinUCBConfig\u001b[39m\u001b[38;5;124m\"\u001b[39m,\n\u001b[0;32m     13\u001b[0m ]\n",
      "File \u001b[1;32mD:\\Study Documents\\thesis\\env\\lib\\site-packages\\ray\\rllib\\algorithms\\bandit\\bandit.py:6\u001b[0m\n\u001b[0;32m      4\u001b[0m \u001b[38;5;28;01mfrom\u001b[39;00m \u001b[38;5;21;01mray\u001b[39;00m\u001b[38;5;21;01m.\u001b[39;00m\u001b[38;5;21;01mrllib\u001b[39;00m\u001b[38;5;21;01m.\u001b[39;00m\u001b[38;5;21;01malgorithms\u001b[39;00m\u001b[38;5;21;01m.\u001b[39;00m\u001b[38;5;21;01malgorithm\u001b[39;00m \u001b[38;5;28;01mimport\u001b[39;00m Algorithm\n\u001b[0;32m      5\u001b[0m \u001b[38;5;28;01mfrom\u001b[39;00m \u001b[38;5;21;01mray\u001b[39;00m\u001b[38;5;21;01m.\u001b[39;00m\u001b[38;5;21;01mrllib\u001b[39;00m\u001b[38;5;21;01m.\u001b[39;00m\u001b[38;5;21;01malgorithms\u001b[39;00m\u001b[38;5;21;01m.\u001b[39;00m\u001b[38;5;21;01malgorithm_config\u001b[39;00m \u001b[38;5;28;01mimport\u001b[39;00m AlgorithmConfig\n\u001b[1;32m----> 6\u001b[0m \u001b[38;5;28;01mfrom\u001b[39;00m \u001b[38;5;21;01mray\u001b[39;00m\u001b[38;5;21;01m.\u001b[39;00m\u001b[38;5;21;01mrllib\u001b[39;00m\u001b[38;5;21;01m.\u001b[39;00m\u001b[38;5;21;01malgorithms\u001b[39;00m\u001b[38;5;21;01m.\u001b[39;00m\u001b[38;5;21;01mbandit\u001b[39;00m\u001b[38;5;21;01m.\u001b[39;00m\u001b[38;5;21;01mbandit_tf_policy\u001b[39;00m \u001b[38;5;28;01mimport\u001b[39;00m BanditTFPolicy\n\u001b[0;32m      7\u001b[0m \u001b[38;5;28;01mfrom\u001b[39;00m \u001b[38;5;21;01mray\u001b[39;00m\u001b[38;5;21;01m.\u001b[39;00m\u001b[38;5;21;01mrllib\u001b[39;00m\u001b[38;5;21;01m.\u001b[39;00m\u001b[38;5;21;01malgorithms\u001b[39;00m\u001b[38;5;21;01m.\u001b[39;00m\u001b[38;5;21;01mbandit\u001b[39;00m\u001b[38;5;21;01m.\u001b[39;00m\u001b[38;5;21;01mbandit_torch_policy\u001b[39;00m \u001b[38;5;28;01mimport\u001b[39;00m BanditTorchPolicy\n\u001b[0;32m      8\u001b[0m \u001b[38;5;28;01mfrom\u001b[39;00m \u001b[38;5;21;01mray\u001b[39;00m\u001b[38;5;21;01m.\u001b[39;00m\u001b[38;5;21;01mrllib\u001b[39;00m\u001b[38;5;21;01m.\u001b[39;00m\u001b[38;5;21;01mpolicy\u001b[39;00m\u001b[38;5;21;01m.\u001b[39;00m\u001b[38;5;21;01mpolicy\u001b[39;00m \u001b[38;5;28;01mimport\u001b[39;00m Policy\n",
      "File \u001b[1;32mD:\\Study Documents\\thesis\\env\\lib\\site-packages\\ray\\rllib\\algorithms\\bandit\\bandit_tf_policy.py:8\u001b[0m\n\u001b[0;32m      6\u001b[0m \u001b[38;5;28;01mfrom\u001b[39;00m \u001b[38;5;21;01mgymnasium\u001b[39;00m \u001b[38;5;28;01mimport\u001b[39;00m spaces\n\u001b[0;32m      7\u001b[0m \u001b[38;5;28;01mimport\u001b[39;00m \u001b[38;5;21;01mray\u001b[39;00m\n\u001b[1;32m----> 8\u001b[0m \u001b[38;5;28;01mfrom\u001b[39;00m \u001b[38;5;21;01mray\u001b[39;00m\u001b[38;5;21;01m.\u001b[39;00m\u001b[38;5;21;01mrllib\u001b[39;00m\u001b[38;5;21;01m.\u001b[39;00m\u001b[38;5;21;01malgorithms\u001b[39;00m\u001b[38;5;21;01m.\u001b[39;00m\u001b[38;5;21;01mbandit\u001b[39;00m\u001b[38;5;21;01m.\u001b[39;00m\u001b[38;5;21;01mbandit_tf_model\u001b[39;00m \u001b[38;5;28;01mimport\u001b[39;00m (\n\u001b[0;32m      9\u001b[0m     DiscreteLinearModelThompsonSampling,\n\u001b[0;32m     10\u001b[0m     DiscreteLinearModelUCB,\n\u001b[0;32m     11\u001b[0m     DiscreteLinearModel,\n\u001b[0;32m     12\u001b[0m     ParametricLinearModelThompsonSampling,\n\u001b[0;32m     13\u001b[0m     ParametricLinearModelUCB,\n\u001b[0;32m     14\u001b[0m )\n\u001b[0;32m     15\u001b[0m \u001b[38;5;28;01mfrom\u001b[39;00m \u001b[38;5;21;01mray\u001b[39;00m\u001b[38;5;21;01m.\u001b[39;00m\u001b[38;5;21;01mrllib\u001b[39;00m\u001b[38;5;21;01m.\u001b[39;00m\u001b[38;5;21;01mmodels\u001b[39;00m\u001b[38;5;21;01m.\u001b[39;00m\u001b[38;5;21;01mcatalog\u001b[39;00m \u001b[38;5;28;01mimport\u001b[39;00m ModelCatalog\n\u001b[0;32m     16\u001b[0m \u001b[38;5;28;01mfrom\u001b[39;00m \u001b[38;5;21;01mray\u001b[39;00m\u001b[38;5;21;01m.\u001b[39;00m\u001b[38;5;21;01mrllib\u001b[39;00m\u001b[38;5;21;01m.\u001b[39;00m\u001b[38;5;21;01mmodels\u001b[39;00m\u001b[38;5;21;01m.\u001b[39;00m\u001b[38;5;21;01mmodelv2\u001b[39;00m \u001b[38;5;28;01mimport\u001b[39;00m restore_original_dimensions\n",
      "File \u001b[1;32mD:\\Study Documents\\thesis\\env\\lib\\site-packages\\ray\\rllib\\algorithms\\bandit\\bandit_tf_model.py:2\u001b[0m\n\u001b[0;32m      1\u001b[0m \u001b[38;5;28;01mimport\u001b[39;00m \u001b[38;5;21;01mgymnasium\u001b[39;00m \u001b[38;5;28;01mas\u001b[39;00m \u001b[38;5;21;01mgym\u001b[39;00m\n\u001b[1;32m----> 2\u001b[0m \u001b[38;5;28;01mimport\u001b[39;00m \u001b[38;5;21;01mtensorflow_probability\u001b[39;00m \u001b[38;5;28;01mas\u001b[39;00m \u001b[38;5;21;01mtfp\u001b[39;00m\n\u001b[0;32m      4\u001b[0m \u001b[38;5;28;01mfrom\u001b[39;00m \u001b[38;5;21;01mray\u001b[39;00m\u001b[38;5;21;01m.\u001b[39;00m\u001b[38;5;21;01mrllib\u001b[39;00m\u001b[38;5;21;01m.\u001b[39;00m\u001b[38;5;21;01mmodels\u001b[39;00m\u001b[38;5;21;01m.\u001b[39;00m\u001b[38;5;21;01mmodelv2\u001b[39;00m \u001b[38;5;28;01mimport\u001b[39;00m ModelV2\n\u001b[0;32m      5\u001b[0m \u001b[38;5;28;01mfrom\u001b[39;00m \u001b[38;5;21;01mray\u001b[39;00m\u001b[38;5;21;01m.\u001b[39;00m\u001b[38;5;21;01mrllib\u001b[39;00m\u001b[38;5;21;01m.\u001b[39;00m\u001b[38;5;21;01mmodels\u001b[39;00m\u001b[38;5;21;01m.\u001b[39;00m\u001b[38;5;21;01mtf\u001b[39;00m\u001b[38;5;21;01m.\u001b[39;00m\u001b[38;5;21;01mtf_modelv2\u001b[39;00m \u001b[38;5;28;01mimport\u001b[39;00m TFModelV2\n",
      "\u001b[1;31mModuleNotFoundError\u001b[0m: No module named 'tensorflow_probability'"
     ]
    }
   ],
   "source": [
    "result = train_rl_ppo_online(num_workers=2, use_gpu=False)"
   ]
  },
  {
   "cell_type": "code",
   "execution_count": 5,
   "metadata": {},
   "outputs": [
    {
     "ename": "NameError",
     "evalue": "name 'result' is not defined",
     "output_type": "error",
     "traceback": [
      "\u001b[1;31m---------------------------------------------------------------------------\u001b[0m",
      "\u001b[1;31mNameError\u001b[0m                                 Traceback (most recent call last)",
      "Cell \u001b[1;32mIn[5], line 1\u001b[0m\n\u001b[1;32m----> 1\u001b[0m \u001b[43mresult\u001b[49m\n",
      "\u001b[1;31mNameError\u001b[0m: name 'result' is not defined"
     ]
    }
   ],
   "source": [
    "result"
   ]
  },
  {
   "cell_type": "code",
   "execution_count": 13,
   "metadata": {},
   "outputs": [
    {
     "ename": "AttributeError",
     "evalue": "'NoneType' object has no attribute '_local_path'",
     "output_type": "error",
     "traceback": [
      "\u001b[0;31m---------------------------------------------------------------------------\u001b[0m",
      "\u001b[0;31mAttributeError\u001b[0m                            Traceback (most recent call last)",
      "Cell \u001b[0;32mIn[13], line 3\u001b[0m\n\u001b[1;32m      1\u001b[0m num_eval_episodes \u001b[39m=\u001b[39m \u001b[39m3\u001b[39m\n\u001b[0;32m----> 3\u001b[0m rewards \u001b[39m=\u001b[39m evaluate_using_checkpoint(result\u001b[39m.\u001b[39;49mcheckpoint, num_episodes\u001b[39m=\u001b[39;49mnum_eval_episodes)\n\u001b[1;32m      4\u001b[0m \u001b[39mprint\u001b[39m(\u001b[39mf\u001b[39m\u001b[39m\"\u001b[39m\u001b[39mAverage reward over \u001b[39m\u001b[39m{\u001b[39;00mnum_eval_episodes\u001b[39m}\u001b[39;00m\u001b[39m episodes: \u001b[39m\u001b[39m\"\u001b[39m \u001b[39mf\u001b[39m\u001b[39m\"\u001b[39m\u001b[39m{\u001b[39;00mnp\u001b[39m.\u001b[39mmean(rewards)\u001b[39m}\u001b[39;00m\u001b[39m\"\u001b[39m)\n",
      "Cell \u001b[0;32mIn[9], line 2\u001b[0m, in \u001b[0;36mevaluate_using_checkpoint\u001b[0;34m(checkpoint, num_episodes)\u001b[0m\n\u001b[1;32m      1\u001b[0m \u001b[39mdef\u001b[39;00m \u001b[39mevaluate_using_checkpoint\u001b[39m(checkpoint: Checkpoint, num_episodes) \u001b[39m-\u001b[39m\u001b[39m>\u001b[39m \u001b[39mlist\u001b[39m:\n\u001b[0;32m----> 2\u001b[0m     predictor \u001b[39m=\u001b[39m RLPredictor\u001b[39m.\u001b[39;49mfrom_checkpoint(checkpoint)\n\u001b[1;32m      4\u001b[0m     env \u001b[39m=\u001b[39m gym\u001b[39m.\u001b[39mmake(\u001b[39m\"\u001b[39m\u001b[39mCartPole-v1\u001b[39m\u001b[39m\"\u001b[39m)\n\u001b[1;32m      6\u001b[0m     rewards \u001b[39m=\u001b[39m []\n",
      "File \u001b[0;32m/run/media/nishant/Data/Work/uni/thesis/repo/env/lib/python3.9/site-packages/ray/train/rl/rl_predictor.py:62\u001b[0m, in \u001b[0;36mRLPredictor.from_checkpoint\u001b[0;34m(cls, checkpoint, env, **kwargs)\u001b[0m\n\u001b[1;32m     43\u001b[0m \u001b[39m@classmethod\u001b[39m\n\u001b[1;32m     44\u001b[0m \u001b[39mdef\u001b[39;00m \u001b[39mfrom_checkpoint\u001b[39m(\n\u001b[1;32m     45\u001b[0m     \u001b[39mcls\u001b[39m,\n\u001b[0;32m   (...)\u001b[0m\n\u001b[1;32m     48\u001b[0m     \u001b[39m*\u001b[39m\u001b[39m*\u001b[39mkwargs,\n\u001b[1;32m     49\u001b[0m ) \u001b[39m-\u001b[39m\u001b[39m>\u001b[39m \u001b[39m\"\u001b[39m\u001b[39mPredictor\u001b[39m\u001b[39m\"\u001b[39m:\n\u001b[1;32m     50\u001b[0m \u001b[39m    \u001b[39m\u001b[39m\"\"\"Create RLPredictor from checkpoint.\u001b[39;00m\n\u001b[1;32m     51\u001b[0m \n\u001b[1;32m     52\u001b[0m \u001b[39m    This method requires that the checkpoint was created with the Ray AIR\u001b[39;00m\n\u001b[0;32m   (...)\u001b[0m\n\u001b[1;32m     60\u001b[0m \n\u001b[1;32m     61\u001b[0m \u001b[39m    \"\"\"\u001b[39;00m\n\u001b[0;32m---> 62\u001b[0m     checkpoint \u001b[39m=\u001b[39m RLCheckpoint\u001b[39m.\u001b[39;49mfrom_checkpoint(checkpoint)\n\u001b[1;32m     63\u001b[0m     policy \u001b[39m=\u001b[39m checkpoint\u001b[39m.\u001b[39mget_policy(env)\n\u001b[1;32m     64\u001b[0m     preprocessor \u001b[39m=\u001b[39m checkpoint\u001b[39m.\u001b[39mget_preprocessor()\n",
      "File \u001b[0;32m/run/media/nishant/Data/Work/uni/thesis/repo/env/lib/python3.9/site-packages/ray/air/checkpoint.py:467\u001b[0m, in \u001b[0;36mCheckpoint.from_checkpoint\u001b[0;34m(cls, other)\u001b[0m\n\u001b[1;32m    463\u001b[0m \u001b[39mif\u001b[39;00m \u001b[39mtype\u001b[39m(other) \u001b[39mis\u001b[39;00m \u001b[39mcls\u001b[39m:\n\u001b[1;32m    464\u001b[0m     \u001b[39mreturn\u001b[39;00m other\n\u001b[1;32m    466\u001b[0m \u001b[39mreturn\u001b[39;00m \u001b[39mcls\u001b[39m(\n\u001b[0;32m--> 467\u001b[0m     local_path\u001b[39m=\u001b[39mother\u001b[39m.\u001b[39;49m_local_path,\n\u001b[1;32m    468\u001b[0m     data_dict\u001b[39m=\u001b[39mother\u001b[39m.\u001b[39m_data_dict,\n\u001b[1;32m    469\u001b[0m     uri\u001b[39m=\u001b[39mother\u001b[39m.\u001b[39m_uri,\n\u001b[1;32m    470\u001b[0m     obj_ref\u001b[39m=\u001b[39mother\u001b[39m.\u001b[39m_obj_ref,\n\u001b[1;32m    471\u001b[0m )\n",
      "\u001b[0;31mAttributeError\u001b[0m: 'NoneType' object has no attribute '_local_path'"
     ]
    }
   ],
   "source": [
    "num_eval_episodes = 3\n",
    "\n",
    "rewards = evaluate_using_checkpoint(result.checkpoint, num_episodes=num_eval_episodes)\n",
    "print(f\"Average reward over {num_eval_episodes} episodes: \" f\"{np.mean(rewards)}\")"
   ]
  }
 ],
 "metadata": {
  "kernelspec": {
   "display_name": "Python 3 (ipykernel)",
   "language": "python",
   "name": "python3"
  },
  "language_info": {
   "codemirror_mode": {
    "name": "ipython",
    "version": 3
   },
   "file_extension": ".py",
   "mimetype": "text/x-python",
   "name": "python",
   "nbconvert_exporter": "python",
   "pygments_lexer": "ipython3",
   "version": "3.9.13"
  },
  "vscode": {
   "interpreter": {
    "hash": "3b4678716a022edc46aedeb623a5f6581a88ad14901e1955d84adae753a20813"
   }
  }
 },
 "nbformat": 4,
 "nbformat_minor": 4
}
