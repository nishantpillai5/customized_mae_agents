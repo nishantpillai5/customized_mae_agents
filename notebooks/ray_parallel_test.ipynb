{
 "cells": [
  {
   "cell_type": "markdown",
   "id": "dad2fbec",
   "metadata": {},
   "source": [
    "# Pettingzoo inside ray"
   ]
  },
  {
   "cell_type": "code",
   "execution_count": 1,
   "id": "165d70b4",
   "metadata": {},
   "outputs": [],
   "source": [
    "from pettingzoo.mpe import simple_tag_v2\n",
    "from pettingzoo.test import render_test\n",
    "from pettingzoo.test import performance_benchmark\n",
    "from pettingzoo.test import test_save_obs\n",
    "import ray\n",
    "\n",
    "import time\n",
    "import random"
   ]
  },
  {
   "cell_type": "code",
   "execution_count": 2,
   "id": "1aba2a2e",
   "metadata": {},
   "outputs": [],
   "source": [
    "@ray.remote\n",
    "def test_run_env():\n",
    "    cycles = 20\n",
    "    agent_count = 4\n",
    "    current_cycle = 0\n",
    "    action_queue = []\n",
    "    \n",
    "    full_report = []\n",
    "    env = simple_tag_v2.env(render_mode=\"rgb_array\", max_cycles=cycles)\n",
    "    env.reset()\n",
    "    for agent in env.agent_iter():\n",
    "        if current_cycle >= cycles * agent_count:\n",
    "            break\n",
    "        if current_cycle % agent_count == 0:\n",
    "            adversary_0_action = random.choice([0, 1, 2, 3, 4])\n",
    "            adversary_1_action = random.choice([0, 1, 2, 3, 4])\n",
    "            adversary_2_action = random.choice([0, 1, 2, 3, 4])\n",
    "            good_agent_action = random.choice([0, 1, 2, 3, 4])\n",
    "\n",
    "            action_queue += [\n",
    "                adversary_0_action,\n",
    "                adversary_1_action,\n",
    "                adversary_2_action,\n",
    "                good_agent_action\n",
    "            ]\n",
    "            full_report.append({\n",
    "                \"adversary_0\": {\"action\": adversary_0_action},\n",
    "                \"adversary_1\": {\"action\": adversary_1_action},\n",
    "                \"adversary_2\": {\"action\": adversary_2_action},\n",
    "                \"agent_0\": {\"action\": good_agent_action}\n",
    "            })\n",
    "        #print(agent)\n",
    "        env.render()\n",
    "        # obs, reward, done, info = env.last()\n",
    "        observation, cumulative_rewards, terminations, truncations, infos = env.last()\n",
    "        #print(observation, cumulative_rewards, terminations, truncations, infos)\n",
    "        action = action_queue.pop(0)\n",
    "        env.step(action)\n",
    "        current_cycle += 1\n",
    "        full_report[-1][agent][\"observation\"] = observation\n",
    "        full_report[-1][agent][\"cumulative_rewards\"] = cumulative_rewards\n",
    "        full_report[-1][agent][\"terminations\"] = terminations\n",
    "        full_report[-1][agent][\"truncations\"] = truncations\n",
    "        full_report[-1][agent][\"infos\"] = infos\n",
    "        \n",
    "    else:\n",
    "        env.close()\n",
    "    return full_report"
   ]
  },
  {
   "cell_type": "code",
   "execution_count": 3,
   "id": "81eb3fb7",
   "metadata": {},
   "outputs": [
    {
     "name": "stderr",
     "output_type": "stream",
     "text": [
      "2023-03-21 17:26:02,165\tINFO worker.py:1553 -- Started a local Ray instance.\n"
     ]
    },
    {
     "name": "stdout",
     "output_type": "stream",
     "text": [
      "\u001b[2m\u001b[36m(test_run_env pid=16476)\u001b[0m None\n",
      "\u001b[2m\u001b[36m(test_run_env pid=16712)\u001b[0m None\n",
      "\u001b[2m\u001b[36m(test_run_env pid=2656)\u001b[0m None\n",
      "\u001b[2m\u001b[36m(test_run_env pid=17304)\u001b[0m None\n",
      "\u001b[2m\u001b[36m(test_run_env pid=17624)\u001b[0m None\n",
      "[[], [], [], [], [], [], [], [], [], []]\n",
      "\u001b[2m\u001b[36m(test_run_env pid=9740)\u001b[0m None\n",
      "\u001b[2m\u001b[36m(test_run_env pid=19172)\u001b[0m None\n",
      "\u001b[2m\u001b[36m(test_run_env pid=9004)\u001b[0m None\n",
      "\u001b[2m\u001b[36m(test_run_env pid=6088)\u001b[0m None\n",
      "\u001b[2m\u001b[36m(test_run_env pid=16748)\u001b[0m None\n"
     ]
    }
   ],
   "source": [
    "batches_num = 10\n",
    "task_handles = [] \n",
    "for _ in range(batches_num):\n",
    "    task_handles.append(test_run_env.remote())\n",
    "output = ray.get(task_handles)\n",
    "print(output)"
   ]
  },
  {
   "cell_type": "markdown",
   "id": "f29256fe",
   "metadata": {},
   "source": [
    "## info"
   ]
  },
  {
   "cell_type": "markdown",
   "id": "5ef87bfd",
   "metadata": {},
   "source": [
    "`observation, cumulative_rewards, terminations, truncations, infos = env.last()`\n",
    "\n",
    "examples of the above returned values:\n",
    "\n",
    "`observation = [ 0.          0.         -0.81671894 -0.35830274  0.7397504   0.87728226  0.24053054 -0.3338143   0.4263175 -0.13701786  1.0103662  -0.5890981 0.5039304   0.7280103   0.          0.        ]`\n",
    "\n",
    "observations are ordered like this:\n",
    "\n",
    "`[self_vel, self_pos, landmark_rel_positions[..], other_agent_rel_positions[..], other_agent_velocities[..]]`\n",
    "\n",
    "`cumulative_rewards = 0.0`\n",
    "\n",
    "`terminations = False `\n",
    "\n",
    "`truncations = False `\n",
    "\n",
    "`infos = {}`\n",
    "\n",
    "\n",
    "then for agent names and actions, they are:\n",
    "\n",
    "\n",
    "`agent names: adversary_0, adversary_1 ..., agent_0`\n",
    "\n",
    "`actions: 0, 1, 2, 3 or 4 (meaning no_action, move_left, move_right, move_down, move_up)`"
   ]
  },
  {
   "cell_type": "markdown",
   "id": "3eddbfae",
   "metadata": {},
   "source": [
    "# Original ray testing code"
   ]
  },
  {
   "cell_type": "code",
   "execution_count": null,
   "id": "b458a733",
   "metadata": {},
   "outputs": [],
   "source": [
    "# Approximate pi using random sampling. Generate x and y randomly between 0 and 1. \n",
    "#  if x^2 + y^2 < 1 it's inside the quarter circle. x 4 to get pi. \n",
    "import ray\n",
    "import random"
   ]
  },
  {
   "cell_type": "code",
   "execution_count": null,
   "id": "b5bfcbe7",
   "metadata": {},
   "outputs": [],
   "source": [
    "\n",
    "# Let's start Ray\n",
    "ray.init()\n",
    "\n",
    "SAMPLES = 1000000; \n",
    "# By adding the `@ray.remote` decorator, a regular Python function\n",
    "# becomes a Ray remote function.\n",
    "@ray.remote\n",
    "def pi4_sample():\n",
    "    in_count = 0\n",
    "    for _ in range(SAMPLES):\n",
    "        x, y = random.random(), random.random()\n",
    "        if x*x + y*y <= 1:\n",
    "            in_count += 1\n",
    "    return in_count\n",
    "\n",
    "# To invoke this remote function, use the `remote` method.\n",
    "# This will immediately return an object ref (a future) and then create\n",
    "# a task that will be executed on a worker process. Get retreives the result. \n",
    "future = pi4_sample.remote()\n",
    "pi = ray.get(future) * 4.0 / SAMPLES\n",
    "print(f'{pi} is an approximation of pi') \n",
    "\n",
    "# Now let's do this 100,000 times. \n",
    "# With regular python this would take 11 hours\n",
    "# Ray on a modern laptop, roughly 2 hours\n",
    "# On a 10-node Ray cluster, roughly 10 minutes \n",
    "BATCHES = 100000\n",
    "results = [] \n",
    "for _ in range(BATCHES):\n",
    "    results.append(pi4_sample.remote())\n",
    "output = ray.get(results)\n",
    "pi = sum(output) * 4.0 / BATCHES / SAMPLES\n",
    "print(f'{pi} is a way better approximation of pi') "
   ]
  },
  {
   "cell_type": "code",
   "execution_count": null,
   "id": "5542961e",
   "metadata": {},
   "outputs": [],
   "source": [
    "for i in results:\n",
    "    ray.cancel(i) "
   ]
  },
  {
   "cell_type": "markdown",
   "id": "3f859439",
   "metadata": {},
   "source": [
    "# Test with multiple function calling"
   ]
  },
  {
   "cell_type": "code",
   "execution_count": 12,
   "id": "bdc94585",
   "metadata": {},
   "outputs": [
    {
     "name": "stdout",
     "output_type": "stream",
     "text": [
      "3.49298832 is a way worse approximation of pi\n"
     ]
    }
   ],
   "source": [
    "import ray\n",
    "import random \n",
    "# Let's start Ray\n",
    "# ray.init()\n",
    "\n",
    "def get_random_numbers_that_are_distant(how_much):\n",
    "    x = 0\n",
    "    y = 0\n",
    "    while abs(y - x) < how_much:\n",
    "        x = random.random()\n",
    "        y = random.random()\n",
    "    return x, y\n",
    "\n",
    "SAMPLES = 1000000; \n",
    "@ray.remote\n",
    "def pi4_sample():\n",
    "    in_count = 0\n",
    "    for _ in range(SAMPLES):\n",
    "        x, y = get_random_numbers_that_are_distant(0.5)\n",
    "        if x*x + y*y <= 1:\n",
    "            in_count += 1\n",
    "    return in_count\n",
    "\n",
    "BATCHES = 100\n",
    "results = [] \n",
    "for _ in range(BATCHES):\n",
    "    results.append(pi4_sample.remote())\n",
    "output = ray.get(results)\n",
    "pi = sum(output) * 4.0 / BATCHES / SAMPLES\n",
    "print(f'{pi} is a way WORSE approximation of pi') "
   ]
  },
  {
   "cell_type": "code",
   "execution_count": 11,
   "id": "fe61c132",
   "metadata": {},
   "outputs": [
    {
     "name": "stderr",
     "output_type": "stream",
     "text": [
      "2023-03-11 12:58:54,426\tERROR worker.py:399 -- Unhandled error (suppress with 'RAY_IGNORE_UNHANDLED_ERRORS=1'): \u001b[36mray::pi4_sample()\u001b[39m (pid=27256, ip=127.0.0.1)\n",
      "  File \"python\\ray\\_raylet.pyx\", line 1072, in ray._raylet.execute_task_with_cancellation_handler\n",
      "  File \"python\\ray\\_raylet.pyx\", line 805, in ray._raylet.execute_task\n",
      "  File \"python\\ray\\_raylet.pyx\", line 850, in ray._raylet.execute_task\n",
      "  File \"python\\ray\\_raylet.pyx\", line 857, in ray._raylet.execute_task\n",
      "  File \"python\\ray\\_raylet.pyx\", line 861, in ray._raylet.execute_task\n",
      "  File \"C:\\Users\\rober\\AppData\\Local\\Temp\\ipykernel_18124\\1607450648.py\", line 18, in pi4_sample\n",
      "ray.exceptions.TaskCancelledError: Task: TaskID(7486c9c5cb2b345effffffffffffffffffffffff01000000) was cancelled\n",
      "2023-03-11 12:58:54,428\tERROR worker.py:399 -- Unhandled error (suppress with 'RAY_IGNORE_UNHANDLED_ERRORS=1'): \u001b[36mray::pi4_sample()\u001b[39m (pid=19192, ip=127.0.0.1)\n",
      "  File \"python\\ray\\_raylet.pyx\", line 1072, in ray._raylet.execute_task_with_cancellation_handler\n",
      "  File \"python\\ray\\_raylet.pyx\", line 805, in ray._raylet.execute_task\n",
      "  File \"python\\ray\\_raylet.pyx\", line 850, in ray._raylet.execute_task\n",
      "  File \"python\\ray\\_raylet.pyx\", line 857, in ray._raylet.execute_task\n",
      "  File \"python\\ray\\_raylet.pyx\", line 861, in ray._raylet.execute_task\n",
      "  File \"C:\\Users\\rober\\AppData\\Local\\Temp\\ipykernel_18124\\1607450648.py\", line 18, in pi4_sample\n",
      "  File \"C:\\Users\\rober\\AppData\\Local\\Temp\\ipykernel_18124\\1607450648.py\", line 10, in get_random_numbers_that_are_distant\n",
      "ray.exceptions.TaskCancelledError: Task: TaskID(57f023b5f2c83c93ffffffffffffffffffffffff01000000) was cancelled\n",
      "2023-03-11 12:58:54,430\tERROR worker.py:399 -- Unhandled error (suppress with 'RAY_IGNORE_UNHANDLED_ERRORS=1'): \u001b[36mray::pi4_sample()\u001b[39m (pid=31208, ip=127.0.0.1)\n",
      "  File \"python\\ray\\_raylet.pyx\", line 1072, in ray._raylet.execute_task_with_cancellation_handler\n",
      "  File \"python\\ray\\_raylet.pyx\", line 805, in ray._raylet.execute_task\n",
      "  File \"python\\ray\\_raylet.pyx\", line 850, in ray._raylet.execute_task\n",
      "  File \"python\\ray\\_raylet.pyx\", line 857, in ray._raylet.execute_task\n",
      "  File \"python\\ray\\_raylet.pyx\", line 861, in ray._raylet.execute_task\n",
      "  File \"C:\\Users\\rober\\AppData\\Local\\Temp\\ipykernel_18124\\1607450648.py\", line 18, in pi4_sample\n",
      "  File \"C:\\Users\\rober\\AppData\\Local\\Temp\\ipykernel_18124\\1607450648.py\", line 10, in get_random_numbers_that_are_distant\n",
      "ray.exceptions.TaskCancelledError: Task: TaskID(cd25e647a728676bffffffffffffffffffffffff01000000) was cancelled\n",
      "2023-03-11 12:58:54,433\tERROR worker.py:399 -- Unhandled error (suppress with 'RAY_IGNORE_UNHANDLED_ERRORS=1'): \u001b[36mray::pi4_sample()\u001b[39m (pid=4492, ip=127.0.0.1)\n",
      "  File \"python\\ray\\_raylet.pyx\", line 1072, in ray._raylet.execute_task_with_cancellation_handler\n",
      "  File \"python\\ray\\_raylet.pyx\", line 805, in ray._raylet.execute_task\n",
      "  File \"python\\ray\\_raylet.pyx\", line 850, in ray._raylet.execute_task\n",
      "  File \"python\\ray\\_raylet.pyx\", line 857, in ray._raylet.execute_task\n",
      "  File \"python\\ray\\_raylet.pyx\", line 861, in ray._raylet.execute_task\n",
      "  File \"C:\\Users\\rober\\AppData\\Local\\Temp\\ipykernel_18124\\1607450648.py\", line 18, in pi4_sample\n",
      "  File \"C:\\Users\\rober\\AppData\\Local\\Temp\\ipykernel_18124\\1607450648.py\", line 7, in get_random_numbers_that_are_distant\n",
      "ray.exceptions.TaskCancelledError: Task: TaskID(058595f16dc6f278ffffffffffffffffffffffff01000000) was cancelled\n",
      "2023-03-11 12:58:54,444\tERROR worker.py:399 -- Unhandled error (suppress with 'RAY_IGNORE_UNHANDLED_ERRORS=1'): \u001b[36mray::pi4_sample()\u001b[39m (pid=22608, ip=127.0.0.1)\n",
      "  File \"python\\ray\\_raylet.pyx\", line 1072, in ray._raylet.execute_task_with_cancellation_handler\n",
      "  File \"python\\ray\\_raylet.pyx\", line 805, in ray._raylet.execute_task\n",
      "  File \"python\\ray\\_raylet.pyx\", line 850, in ray._raylet.execute_task\n",
      "  File \"python\\ray\\_raylet.pyx\", line 857, in ray._raylet.execute_task\n",
      "  File \"python\\ray\\_raylet.pyx\", line 861, in ray._raylet.execute_task\n",
      "  File \"C:\\Users\\rober\\AppData\\Local\\Temp\\ipykernel_18124\\1607450648.py\", line 18, in pi4_sample\n",
      "  File \"C:\\Users\\rober\\AppData\\Local\\Temp\\ipykernel_18124\\1607450648.py\", line 10, in get_random_numbers_that_are_distant\n",
      "ray.exceptions.TaskCancelledError: Task: TaskID(e0513aa905843ccfffffffffffffffffffffffff01000000) was cancelled\n",
      "2023-03-11 12:58:54,446\tERROR worker.py:399 -- Unhandled error (suppress with 'RAY_IGNORE_UNHANDLED_ERRORS=1'): \u001b[36mray::pi4_sample()\u001b[39m (pid=29668, ip=127.0.0.1)\n",
      "  File \"python\\ray\\_raylet.pyx\", line 1072, in ray._raylet.execute_task_with_cancellation_handler\n",
      "  File \"python\\ray\\_raylet.pyx\", line 805, in ray._raylet.execute_task\n",
      "  File \"python\\ray\\_raylet.pyx\", line 850, in ray._raylet.execute_task\n",
      "  File \"python\\ray\\_raylet.pyx\", line 857, in ray._raylet.execute_task\n",
      "  File \"python\\ray\\_raylet.pyx\", line 861, in ray._raylet.execute_task\n",
      "  File \"C:\\Users\\rober\\AppData\\Local\\Temp\\ipykernel_18124\\1607450648.py\", line 18, in pi4_sample\n",
      "  File \"C:\\Users\\rober\\AppData\\Local\\Temp\\ipykernel_18124\\1607450648.py\", line 10, in get_random_numbers_that_are_distant\n",
      "ray.exceptions.TaskCancelledError: Task: TaskID(940f384be6ded156ffffffffffffffffffffffff01000000) was cancelled\n",
      "2023-03-11 12:58:54,449\tERROR worker.py:399 -- Unhandled error (suppress with 'RAY_IGNORE_UNHANDLED_ERRORS=1'): \u001b[36mray::pi4_sample()\u001b[39m (pid=4796, ip=127.0.0.1)\n",
      "  File \"python\\ray\\_raylet.pyx\", line 1072, in ray._raylet.execute_task_with_cancellation_handler\n",
      "  File \"python\\ray\\_raylet.pyx\", line 805, in ray._raylet.execute_task\n",
      "  File \"python\\ray\\_raylet.pyx\", line 850, in ray._raylet.execute_task\n",
      "  File \"python\\ray\\_raylet.pyx\", line 857, in ray._raylet.execute_task\n",
      "  File \"python\\ray\\_raylet.pyx\", line 861, in ray._raylet.execute_task\n",
      "  File \"C:\\Users\\rober\\AppData\\Local\\Temp\\ipykernel_18124\\1607450648.py\", line 18, in pi4_sample\n",
      "  File \"C:\\Users\\rober\\AppData\\Local\\Temp\\ipykernel_18124\\1607450648.py\", line 10, in get_random_numbers_that_are_distant\n",
      "ray.exceptions.TaskCancelledError: Task: TaskID(5f70e045687d2f9affffffffffffffffffffffff01000000) was cancelled\n",
      "2023-03-11 12:58:54,453\tERROR worker.py:399 -- Unhandled error (suppress with 'RAY_IGNORE_UNHANDLED_ERRORS=1'): \u001b[36mray::pi4_sample()\u001b[39m (pid=25392, ip=127.0.0.1)\n",
      "  File \"python\\ray\\_raylet.pyx\", line 1072, in ray._raylet.execute_task_with_cancellation_handler\n",
      "  File \"python\\ray\\_raylet.pyx\", line 805, in ray._raylet.execute_task\n",
      "  File \"python\\ray\\_raylet.pyx\", line 850, in ray._raylet.execute_task\n",
      "  File \"python\\ray\\_raylet.pyx\", line 857, in ray._raylet.execute_task\n",
      "  File \"python\\ray\\_raylet.pyx\", line 861, in ray._raylet.execute_task\n",
      "  File \"C:\\Users\\rober\\AppData\\Local\\Temp\\ipykernel_18124\\1607450648.py\", line 18, in pi4_sample\n",
      "  File \"C:\\Users\\rober\\AppData\\Local\\Temp\\ipykernel_18124\\1607450648.py\", line 9, in get_random_numbers_that_are_distant\n",
      "ray.exceptions.TaskCancelledError: Task: TaskID(18b2ad3c688fb947ffffffffffffffffffffffff01000000) was cancelled\n",
      "2023-03-11 12:58:54,455\tERROR worker.py:399 -- Unhandled error (suppress with 'RAY_IGNORE_UNHANDLED_ERRORS=1'): \u001b[36mray::pi4_sample()\u001b[39m (pid=28360, ip=127.0.0.1)\n",
      "  File \"python\\ray\\_raylet.pyx\", line 1072, in ray._raylet.execute_task_with_cancellation_handler\n",
      "  File \"python\\ray\\_raylet.pyx\", line 805, in ray._raylet.execute_task\n",
      "  File \"python\\ray\\_raylet.pyx\", line 850, in ray._raylet.execute_task\n",
      "  File \"python\\ray\\_raylet.pyx\", line 857, in ray._raylet.execute_task\n",
      "  File \"python\\ray\\_raylet.pyx\", line 861, in ray._raylet.execute_task\n",
      "  File \"C:\\Users\\rober\\AppData\\Local\\Temp\\ipykernel_18124\\1607450648.py\", line 18, in pi4_sample\n",
      "  File \"C:\\Users\\rober\\AppData\\Local\\Temp\\ipykernel_18124\\1607450648.py\", line 10, in get_random_numbers_that_are_distant\n",
      "ray.exceptions.TaskCancelledError: Task: TaskID(72482135a26f4e0fffffffffffffffffffffffff01000000) was cancelled\n",
      "2023-03-11 12:58:54,458\tERROR worker.py:399 -- Unhandled error (suppress with 'RAY_IGNORE_UNHANDLED_ERRORS=1'): \u001b[36mray::pi4_sample()\u001b[39m (pid=22848, ip=127.0.0.1)\n",
      "  File \"python\\ray\\_raylet.pyx\", line 1072, in ray._raylet.execute_task_with_cancellation_handler\n",
      "  File \"python\\ray\\_raylet.pyx\", line 805, in ray._raylet.execute_task\n",
      "  File \"python\\ray\\_raylet.pyx\", line 850, in ray._raylet.execute_task\n",
      "  File \"python\\ray\\_raylet.pyx\", line 857, in ray._raylet.execute_task\n",
      "  File \"python\\ray\\_raylet.pyx\", line 861, in ray._raylet.execute_task\n",
      "  File \"C:\\Users\\rober\\AppData\\Local\\Temp\\ipykernel_18124\\1607450648.py\", line 18, in pi4_sample\n",
      "  File \"C:\\Users\\rober\\AppData\\Local\\Temp\\ipykernel_18124\\1607450648.py\", line 9, in get_random_numbers_that_are_distant\n",
      "ray.exceptions.TaskCancelledError: Task: TaskID(9a667646e288b252ffffffffffffffffffffffff01000000) was cancelled\n",
      "2023-03-11 12:58:54,462\tERROR worker.py:399 -- Unhandled error (suppress with 'RAY_IGNORE_UNHANDLED_ERRORS=1'): \u001b[36mray::pi4_sample()\u001b[39m (pid=32948, ip=127.0.0.1)\n",
      "  File \"python\\ray\\_raylet.pyx\", line 1072, in ray._raylet.execute_task_with_cancellation_handler\n",
      "  File \"python\\ray\\_raylet.pyx\", line 805, in ray._raylet.execute_task\n",
      "  File \"python\\ray\\_raylet.pyx\", line 850, in ray._raylet.execute_task\n",
      "  File \"python\\ray\\_raylet.pyx\", line 857, in ray._raylet.execute_task\n",
      "  File \"python\\ray\\_raylet.pyx\", line 861, in ray._raylet.execute_task\n",
      "  File \"C:\\Users\\rober\\AppData\\Local\\Temp\\ipykernel_18124\\1607450648.py\", line 20, in pi4_sample\n",
      "ray.exceptions.TaskCancelledError: Task: TaskID(4481ec012324614bffffffffffffffffffffffff01000000) was cancelled\n",
      "2023-03-11 12:58:54,464\tERROR worker.py:399 -- Unhandled error (suppress with 'RAY_IGNORE_UNHANDLED_ERRORS=1'): \u001b[36mray::pi4_sample()\u001b[39m (pid=13472, ip=127.0.0.1)\n",
      "  File \"python\\ray\\_raylet.pyx\", line 1072, in ray._raylet.execute_task_with_cancellation_handler\n",
      "  File \"python\\ray\\_raylet.pyx\", line 805, in ray._raylet.execute_task\n",
      "  File \"python\\ray\\_raylet.pyx\", line 850, in ray._raylet.execute_task\n",
      "  File \"python\\ray\\_raylet.pyx\", line 857, in ray._raylet.execute_task\n",
      "  File \"python\\ray\\_raylet.pyx\", line 861, in ray._raylet.execute_task\n",
      "  File \"C:\\Users\\rober\\AppData\\Local\\Temp\\ipykernel_18124\\1607450648.py\", line 18, in pi4_sample\n",
      "  File \"C:\\Users\\rober\\AppData\\Local\\Temp\\ipykernel_18124\\1607450648.py\", line 10, in get_random_numbers_that_are_distant\n",
      "ray.exceptions.TaskCancelledError: Task: TaskID(c35e1f786ff20173ffffffffffffffffffffffff01000000) was cancelled\n"
     ]
    }
   ],
   "source": [
    "for i in results:\n",
    "    ray.cancel(i) "
   ]
  },
  {
   "cell_type": "code",
   "execution_count": null,
   "id": "5ef42c4a",
   "metadata": {},
   "outputs": [],
   "source": []
  }
 ],
 "metadata": {
  "kernelspec": {
   "display_name": "Python 3 (ipykernel)",
   "language": "python",
   "name": "python3"
  },
  "language_info": {
   "codemirror_mode": {
    "name": "ipython",
    "version": 3
   },
   "file_extension": ".py",
   "mimetype": "text/x-python",
   "name": "python",
   "nbconvert_exporter": "python",
   "pygments_lexer": "ipython3",
   "version": "3.9.16"
  }
 },
 "nbformat": 4,
 "nbformat_minor": 5
}
