{
 "cells": [
  {
   "cell_type": "code",
   "execution_count": 3,
   "metadata": {},
   "outputs": [],
   "source": [
    "import torch\n",
    "\n",
    "from src.agent.constants import cfg, device\n",
    "from src.agent.utils import DQN\n",
    "\n",
    "def env_creator(render_mode=\"rgb_array\"):\n",
    "    from src.world import world_utils\n",
    "\n",
    "    env = world_utils.env(render_mode=render_mode, max_cycles=cfg[\"max_cycles\"])\n",
    "    return env\n",
    "\n",
    "env = env_creator(\"rgb_array\")\n",
    "env.reset()\n",
    "env.render()\n",
    "\n",
    "n_actions = 5\n",
    "\n",
    "state, _, _, _, _ = env.last()\n",
    "n_observations = len(state)\n",
    "\n",
    "policy_net = DQN(n_observations, n_actions, cfg).to(device)"
   ]
  },
  {
   "cell_type": "code",
   "execution_count": 4,
   "metadata": {},
   "outputs": [],
   "source": [
    "from torchinfo import summary"
   ]
  },
  {
   "cell_type": "code",
   "execution_count": 5,
   "metadata": {},
   "outputs": [
    {
     "data": {
      "text/plain": [
       "=================================================================\n",
       "Layer (type:depth-idx)                   Param #\n",
       "=================================================================\n",
       "DQN                                      --\n",
       "├─ModuleList: 1-1                        --\n",
       "│    └─Linear: 2-1                       2,240\n",
       "│    └─Linear: 2-2                       4,160\n",
       "│    └─Linear: 2-3                       4,160\n",
       "│    └─Linear: 2-4                       325\n",
       "=================================================================\n",
       "Total params: 10,885\n",
       "Trainable params: 10,885\n",
       "Non-trainable params: 0\n",
       "================================================================="
      ]
     },
     "execution_count": 5,
     "metadata": {},
     "output_type": "execute_result"
    }
   ],
   "source": [
    "summary(policy_net)"
   ]
  }
 ],
 "metadata": {
  "kernelspec": {
   "display_name": "Python 3",
   "language": "python",
   "name": "python3"
  },
  "language_info": {
   "codemirror_mode": {
    "name": "ipython",
    "version": 3
   },
   "file_extension": ".py",
   "mimetype": "text/x-python",
   "name": "python",
   "nbconvert_exporter": "python",
   "pygments_lexer": "ipython3",
   "version": "3.9.16"
  },
  "orig_nbformat": 4
 },
 "nbformat": 4,
 "nbformat_minor": 2
}
